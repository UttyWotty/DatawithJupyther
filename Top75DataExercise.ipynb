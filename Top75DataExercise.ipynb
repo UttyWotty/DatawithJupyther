{
 "cells": [
  {
   "cell_type": "code",
   "execution_count": 103,
   "id": "d3953665-9fe7-4e71-b0bf-dbf4092e186e",
   "metadata": {},
   "outputs": [],
   "source": [
    "import pandas as pd"
   ]
  },
  {
   "cell_type": "code",
   "execution_count": 252,
   "id": "68fb2cf4-04aa-4c89-8aa1-048c39d090ba",
   "metadata": {
    "scrolled": true
   },
   "outputs": [
    {
     "data": {
      "text/html": [
       "<div>\n",
       "<style scoped>\n",
       "    .dataframe tbody tr th:only-of-type {\n",
       "        vertical-align: middle;\n",
       "    }\n",
       "\n",
       "    .dataframe tbody tr th {\n",
       "        vertical-align: top;\n",
       "    }\n",
       "\n",
       "    .dataframe thead th {\n",
       "        text-align: right;\n",
       "    }\n",
       "</style>\n",
       "<table border=\"1\" class=\"dataframe\">\n",
       "  <thead>\n",
       "    <tr style=\"text-align: right;\">\n",
       "      <th></th>\n",
       "      <th>Unnamed: 0</th>\n",
       "      <th>Name[5]</th>\n",
       "      <th>Team(s) played for (years)[note 3]</th>\n",
       "      <th>Pos</th>\n",
       "      <th>Pts</th>\n",
       "      <th>Reb</th>\n",
       "      <th>Ast</th>\n",
       "      <th>Championships won</th>\n",
       "      <th>MVP won</th>\n",
       "      <th>Finals MVP won</th>\n",
       "      <th>All Star</th>\n",
       "      <th>All-NBA</th>\n",
       "      <th>HoF Year</th>\n",
       "      <th>Ref.</th>\n",
       "    </tr>\n",
       "  </thead>\n",
       "  <tbody>\n",
       "    <tr>\n",
       "      <th>0</th>\n",
       "      <td>0</td>\n",
       "      <td>Kareem Abdul-Jabbar</td>\n",
       "      <td>Milwaukee Bucks (1969–1975)Los Angeles Lakers ...</td>\n",
       "      <td>C</td>\n",
       "      <td>38,387</td>\n",
       "      <td>17,440</td>\n",
       "      <td>5,660</td>\n",
       "      <td>6 (1971, 1980, 1982, 1985, 1987, 1988)</td>\n",
       "      <td>6 (1971, 1972, 1974, 1976, 1977, 1980)</td>\n",
       "      <td>2 (1971, 1985)</td>\n",
       "      <td>19</td>\n",
       "      <td>15</td>\n",
       "      <td>1995</td>\n",
       "      <td>[16]</td>\n",
       "    </tr>\n",
       "    <tr>\n",
       "      <th>1</th>\n",
       "      <td>1</td>\n",
       "      <td>Ray Allen</td>\n",
       "      <td>Milwaukee Bucks (1996–2003)Seattle SuperSonics...</td>\n",
       "      <td>G</td>\n",
       "      <td>24,505</td>\n",
       "      <td>5,272</td>\n",
       "      <td>4,361</td>\n",
       "      <td>2 (2008, 2013)</td>\n",
       "      <td>NaN</td>\n",
       "      <td>NaN</td>\n",
       "      <td>10</td>\n",
       "      <td>2</td>\n",
       "      <td>2018</td>\n",
       "      <td>[17]</td>\n",
       "    </tr>\n",
       "    <tr>\n",
       "      <th>2</th>\n",
       "      <td>2</td>\n",
       "      <td>Giannis Antetokounmpo</td>\n",
       "      <td>Milwaukee Bucks (2013–2021)</td>\n",
       "      <td>F</td>\n",
       "      <td>12,319</td>\n",
       "      <td>5,371</td>\n",
       "      <td>2,632</td>\n",
       "      <td>1 (2021)</td>\n",
       "      <td>2 (2019, 2020)</td>\n",
       "      <td>1 (2021)</td>\n",
       "      <td>5</td>\n",
       "      <td>5</td>\n",
       "      <td>TBD</td>\n",
       "      <td>[18]</td>\n",
       "    </tr>\n",
       "    <tr>\n",
       "      <th>3</th>\n",
       "      <td>3</td>\n",
       "      <td>Carmelo Anthony</td>\n",
       "      <td>Denver Nuggets (2003–2011)New York Knicks (201...</td>\n",
       "      <td>F</td>\n",
       "      <td>27,370</td>\n",
       "      <td>7,520</td>\n",
       "      <td>3,354</td>\n",
       "      <td>NaN</td>\n",
       "      <td>NaN</td>\n",
       "      <td>NaN</td>\n",
       "      <td>10</td>\n",
       "      <td>6</td>\n",
       "      <td>TBD</td>\n",
       "      <td>[19]</td>\n",
       "    </tr>\n",
       "    <tr>\n",
       "      <th>4</th>\n",
       "      <td>4</td>\n",
       "      <td>Nate Archibald</td>\n",
       "      <td>Cincinnati Royals / Kansas City-Omaha / Kansas...</td>\n",
       "      <td>G</td>\n",
       "      <td>16,481</td>\n",
       "      <td>2,046</td>\n",
       "      <td>6,476</td>\n",
       "      <td>1 (1981)</td>\n",
       "      <td>NaN</td>\n",
       "      <td>NaN</td>\n",
       "      <td>6</td>\n",
       "      <td>5</td>\n",
       "      <td>1991</td>\n",
       "      <td>[20]</td>\n",
       "    </tr>\n",
       "    <tr>\n",
       "      <th>...</th>\n",
       "      <td>...</td>\n",
       "      <td>...</td>\n",
       "      <td>...</td>\n",
       "      <td>...</td>\n",
       "      <td>...</td>\n",
       "      <td>...</td>\n",
       "      <td>...</td>\n",
       "      <td>...</td>\n",
       "      <td>...</td>\n",
       "      <td>...</td>\n",
       "      <td>...</td>\n",
       "      <td>...</td>\n",
       "      <td>...</td>\n",
       "      <td>...</td>\n",
       "    </tr>\n",
       "    <tr>\n",
       "      <th>71</th>\n",
       "      <td>71</td>\n",
       "      <td>Jerry West</td>\n",
       "      <td>Los Angeles Lakers (1960–1974)</td>\n",
       "      <td>G</td>\n",
       "      <td>25,192</td>\n",
       "      <td>5,366</td>\n",
       "      <td>6,238</td>\n",
       "      <td>1 (1972)</td>\n",
       "      <td>NaN</td>\n",
       "      <td>1 (1969)</td>\n",
       "      <td>14</td>\n",
       "      <td>12</td>\n",
       "      <td>1980</td>\n",
       "      <td>[87]</td>\n",
       "    </tr>\n",
       "    <tr>\n",
       "      <th>72</th>\n",
       "      <td>72</td>\n",
       "      <td>Russell Westbrook</td>\n",
       "      <td>Oklahoma City Thunder (2008–2019)Houston Rocke...</td>\n",
       "      <td>G</td>\n",
       "      <td>21,857</td>\n",
       "      <td>6,961</td>\n",
       "      <td>8,061</td>\n",
       "      <td>NaN</td>\n",
       "      <td>1 (2017)</td>\n",
       "      <td>NaN</td>\n",
       "      <td>9</td>\n",
       "      <td>9</td>\n",
       "      <td>TBD</td>\n",
       "      <td>[88]</td>\n",
       "    </tr>\n",
       "    <tr>\n",
       "      <th>73</th>\n",
       "      <td>73</td>\n",
       "      <td>Lenny Wilkens</td>\n",
       "      <td>St. Louis Hawks (1960−1968)Seattle SuperSonics...</td>\n",
       "      <td>G</td>\n",
       "      <td>17,772</td>\n",
       "      <td>5,030</td>\n",
       "      <td>7,211</td>\n",
       "      <td>NaN</td>\n",
       "      <td>NaN</td>\n",
       "      <td>NaN</td>\n",
       "      <td>9</td>\n",
       "      <td>0</td>\n",
       "      <td>1989</td>\n",
       "      <td>[89]</td>\n",
       "    </tr>\n",
       "    <tr>\n",
       "      <th>74</th>\n",
       "      <td>74</td>\n",
       "      <td>Dominique Wilkins</td>\n",
       "      <td>Atlanta Hawks (1982–1994)Los Angeles Clippers ...</td>\n",
       "      <td>F</td>\n",
       "      <td>26,668</td>\n",
       "      <td>7,169</td>\n",
       "      <td>2,677</td>\n",
       "      <td>NaN</td>\n",
       "      <td>NaN</td>\n",
       "      <td>NaN</td>\n",
       "      <td>9</td>\n",
       "      <td>7</td>\n",
       "      <td>2006</td>\n",
       "      <td>[88]</td>\n",
       "    </tr>\n",
       "    <tr>\n",
       "      <th>75</th>\n",
       "      <td>75</td>\n",
       "      <td>James Worthy</td>\n",
       "      <td>Los Angeles Lakers (1982–1994)</td>\n",
       "      <td>F</td>\n",
       "      <td>16,320</td>\n",
       "      <td>4,708</td>\n",
       "      <td>2,791</td>\n",
       "      <td>3 (1985, 1987, 1988)</td>\n",
       "      <td>NaN</td>\n",
       "      <td>1 (1988)</td>\n",
       "      <td>7</td>\n",
       "      <td>2</td>\n",
       "      <td>2003</td>\n",
       "      <td>[90]</td>\n",
       "    </tr>\n",
       "  </tbody>\n",
       "</table>\n",
       "<p>76 rows × 14 columns</p>\n",
       "</div>"
      ],
      "text/plain": [
       "    Unnamed: 0                Name[5]  \\\n",
       "0            0    Kareem Abdul-Jabbar   \n",
       "1            1              Ray Allen   \n",
       "2            2  Giannis Antetokounmpo   \n",
       "3            3        Carmelo Anthony   \n",
       "4            4         Nate Archibald   \n",
       "..         ...                    ...   \n",
       "71          71             Jerry West   \n",
       "72          72      Russell Westbrook   \n",
       "73          73          Lenny Wilkens   \n",
       "74          74      Dominique Wilkins   \n",
       "75          75           James Worthy   \n",
       "\n",
       "                   Team(s) played for (years)[note 3] Pos     Pts     Reb  \\\n",
       "0   Milwaukee Bucks (1969–1975)Los Angeles Lakers ...   C  38,387  17,440   \n",
       "1   Milwaukee Bucks (1996–2003)Seattle SuperSonics...   G  24,505   5,272   \n",
       "2                         Milwaukee Bucks (2013–2021)   F  12,319   5,371   \n",
       "3   Denver Nuggets (2003–2011)New York Knicks (201...   F  27,370   7,520   \n",
       "4   Cincinnati Royals / Kansas City-Omaha / Kansas...   G  16,481   2,046   \n",
       "..                                                ...  ..     ...     ...   \n",
       "71                     Los Angeles Lakers (1960–1974)   G  25,192   5,366   \n",
       "72  Oklahoma City Thunder (2008–2019)Houston Rocke...   G  21,857   6,961   \n",
       "73  St. Louis Hawks (1960−1968)Seattle SuperSonics...   G  17,772   5,030   \n",
       "74  Atlanta Hawks (1982–1994)Los Angeles Clippers ...   F  26,668   7,169   \n",
       "75                     Los Angeles Lakers (1982–1994)   F  16,320   4,708   \n",
       "\n",
       "      Ast                       Championships won  \\\n",
       "0   5,660  6 (1971, 1980, 1982, 1985, 1987, 1988)   \n",
       "1   4,361                          2 (2008, 2013)   \n",
       "2   2,632                                1 (2021)   \n",
       "3   3,354                                     NaN   \n",
       "4   6,476                                1 (1981)   \n",
       "..    ...                                     ...   \n",
       "71  6,238                                1 (1972)   \n",
       "72  8,061                                     NaN   \n",
       "73  7,211                                     NaN   \n",
       "74  2,677                                     NaN   \n",
       "75  2,791                    3 (1985, 1987, 1988)   \n",
       "\n",
       "                                   MVP won  Finals MVP won  All Star  All-NBA  \\\n",
       "0   6 (1971, 1972, 1974, 1976, 1977, 1980)  2 (1971, 1985)        19       15   \n",
       "1                                      NaN             NaN        10        2   \n",
       "2                           2 (2019, 2020)        1 (2021)         5        5   \n",
       "3                                      NaN             NaN        10        6   \n",
       "4                                      NaN             NaN         6        5   \n",
       "..                                     ...             ...       ...      ...   \n",
       "71                                     NaN        1 (1969)        14       12   \n",
       "72                                1 (2017)             NaN         9        9   \n",
       "73                                     NaN             NaN         9        0   \n",
       "74                                     NaN             NaN         9        7   \n",
       "75                                     NaN        1 (1988)         7        2   \n",
       "\n",
       "   HoF Year  Ref.  \n",
       "0      1995  [16]  \n",
       "1      2018  [17]  \n",
       "2       TBD  [18]  \n",
       "3       TBD  [19]  \n",
       "4      1991  [20]  \n",
       "..      ...   ...  \n",
       "71     1980  [87]  \n",
       "72      TBD  [88]  \n",
       "73     1989  [89]  \n",
       "74     2006  [88]  \n",
       "75     2003  [90]  \n",
       "\n",
       "[76 rows x 14 columns]"
      ]
     },
     "execution_count": 252,
     "metadata": {},
     "output_type": "execute_result"
    }
   ],
   "source": [
    "df = pd.read_csv(\"NBA75.csv\")\n",
    "df"
   ]
  },
  {
   "cell_type": "code",
   "execution_count": 253,
   "id": "cc0a382e-9f16-46c1-8738-d0491378177a",
   "metadata": {},
   "outputs": [
    {
     "name": "stdout",
     "output_type": "stream",
     "text": [
      "<class 'pandas.core.frame.DataFrame'>\n",
      "RangeIndex: 76 entries, 0 to 75\n",
      "Data columns (total 14 columns):\n",
      " #   Column                              Non-Null Count  Dtype \n",
      "---  ------                              --------------  ----- \n",
      " 0   Unnamed: 0                          76 non-null     int64 \n",
      " 1   Name[5]                             76 non-null     object\n",
      " 2   Team(s) played for (years)[note 3]  76 non-null     object\n",
      " 3   Pos                                 76 non-null     object\n",
      " 4   Pts                                 76 non-null     object\n",
      " 5   Reb                                 76 non-null     object\n",
      " 6   Ast                                 76 non-null     object\n",
      " 7   Championships won                   57 non-null     object\n",
      " 8   MVP won                             33 non-null     object\n",
      " 9   Finals MVP won                      26 non-null     object\n",
      " 10  All Star                            76 non-null     int64 \n",
      " 11  All-NBA                             76 non-null     int64 \n",
      " 12  HoF Year                            76 non-null     object\n",
      " 13  Ref.                                76 non-null     object\n",
      "dtypes: int64(3), object(11)\n",
      "memory usage: 8.4+ KB\n"
     ]
    }
   ],
   "source": [
    "df.info()"
   ]
  },
  {
   "cell_type": "code",
   "execution_count": 254,
   "id": "53fce07a-c398-4e51-b6f5-2dd7ce70ce4c",
   "metadata": {},
   "outputs": [
    {
     "data": {
      "text/html": [
       "<div>\n",
       "<style scoped>\n",
       "    .dataframe tbody tr th:only-of-type {\n",
       "        vertical-align: middle;\n",
       "    }\n",
       "\n",
       "    .dataframe tbody tr th {\n",
       "        vertical-align: top;\n",
       "    }\n",
       "\n",
       "    .dataframe thead th {\n",
       "        text-align: right;\n",
       "    }\n",
       "</style>\n",
       "<table border=\"1\" class=\"dataframe\">\n",
       "  <thead>\n",
       "    <tr style=\"text-align: right;\">\n",
       "      <th></th>\n",
       "      <th>Unnamed: 0</th>\n",
       "      <th>All Star</th>\n",
       "      <th>All-NBA</th>\n",
       "    </tr>\n",
       "  </thead>\n",
       "  <tbody>\n",
       "    <tr>\n",
       "      <th>count</th>\n",
       "      <td>76.000000</td>\n",
       "      <td>76.000000</td>\n",
       "      <td>76.000000</td>\n",
       "    </tr>\n",
       "    <tr>\n",
       "      <th>mean</th>\n",
       "      <td>37.500000</td>\n",
       "      <td>9.657895</td>\n",
       "      <td>7.157895</td>\n",
       "    </tr>\n",
       "    <tr>\n",
       "      <th>std</th>\n",
       "      <td>22.083176</td>\n",
       "      <td>3.542326</td>\n",
       "      <td>4.063012</td>\n",
       "    </tr>\n",
       "    <tr>\n",
       "      <th>min</th>\n",
       "      <td>0.000000</td>\n",
       "      <td>2.000000</td>\n",
       "      <td>0.000000</td>\n",
       "    </tr>\n",
       "    <tr>\n",
       "      <th>25%</th>\n",
       "      <td>18.750000</td>\n",
       "      <td>7.000000</td>\n",
       "      <td>4.000000</td>\n",
       "    </tr>\n",
       "    <tr>\n",
       "      <th>50%</th>\n",
       "      <td>37.500000</td>\n",
       "      <td>10.000000</td>\n",
       "      <td>7.000000</td>\n",
       "    </tr>\n",
       "    <tr>\n",
       "      <th>75%</th>\n",
       "      <td>56.250000</td>\n",
       "      <td>12.000000</td>\n",
       "      <td>10.000000</td>\n",
       "    </tr>\n",
       "    <tr>\n",
       "      <th>max</th>\n",
       "      <td>75.000000</td>\n",
       "      <td>19.000000</td>\n",
       "      <td>17.000000</td>\n",
       "    </tr>\n",
       "  </tbody>\n",
       "</table>\n",
       "</div>"
      ],
      "text/plain": [
       "       Unnamed: 0   All Star    All-NBA\n",
       "count   76.000000  76.000000  76.000000\n",
       "mean    37.500000   9.657895   7.157895\n",
       "std     22.083176   3.542326   4.063012\n",
       "min      0.000000   2.000000   0.000000\n",
       "25%     18.750000   7.000000   4.000000\n",
       "50%     37.500000  10.000000   7.000000\n",
       "75%     56.250000  12.000000  10.000000\n",
       "max     75.000000  19.000000  17.000000"
      ]
     },
     "execution_count": 254,
     "metadata": {},
     "output_type": "execute_result"
    }
   ],
   "source": [
    "df.describe()"
   ]
  },
  {
   "cell_type": "code",
   "execution_count": 172,
   "id": "242be7e2-935f-446a-a4bf-a4ef3a9f35e1",
   "metadata": {},
   "outputs": [],
   "source": [
    "# # Display the first few rows to inspect the data\n",
    "# print(df.head())\n",
    "\n",
    "# # Inspect the 'Finals MVP won' column\n",
    "# print(df['Finals MVP won'].head())\n",
    "# print(df['Finals MVP won'].unique())"
   ]
  },
  {
   "cell_type": "code",
   "execution_count": 110,
   "id": "12c6431a-af2e-49cf-a39e-088a250794d0",
   "metadata": {},
   "outputs": [],
   "source": [
    "# # Convert the 'Finals MVP won' column to strings to handle mixed types\n",
    "# df['Finals MVP won'] = df['Finals MVP won'].astype(str)\n",
    "\n",
    "# # Strip any leading/trailing whitespace\n",
    "# df['Finals MVP won'] = df['Finals MVP won'].str.strip()\n",
    "\n",
    "# # Extract numeric values using regex\n",
    "# df['Finals MVP won'] = df['Finals MVP won'].str.extract('(\\d+)', expand=False)\n",
    "\n",
    "# # Convert the cleaned 'Finals MVP won' column to numeric, handling any errors\n",
    "# df['Finals MVP won'] = pd.to_numeric(df['Finals MVP won'], errors='coerce')\n",
    "\n",
    "# # Check if conversion to numeric worked\n",
    "# print(df['Finals MVP won'].head())\n",
    "# print(df['Finals MVP won'].unique())\n"
   ]
  },
  {
   "cell_type": "code",
   "execution_count": 21,
   "id": "5fe8e74b-ca4f-477c-a681-42eb6e6ecf92",
   "metadata": {},
   "outputs": [],
   "source": [
    "# # Filter the DataFrame to find players who won the Finals MVP\n",
    "# finals_mvp_winners = df[df['Finals MVP won'] > 0]\n",
    "\n",
    "# # Print the players who won the Finals MVP\n",
    "# print(finals_mvp_winners[['Name[5]', 'Finals MVP won']])\n"
   ]
  },
  {
   "cell_type": "code",
   "execution_count": 255,
   "id": "b19459e7-327e-4cc5-b08f-fb93d4f93aea",
   "metadata": {},
   "outputs": [],
   "source": [
    "df = df.drop(columns={'Unnamed: 0', 'Ref.'})\n",
    "\n"
   ]
  },
  {
   "cell_type": "code",
   "execution_count": 256,
   "id": "a6225e8c-71bf-41fa-9be5-7001c6cead77",
   "metadata": {},
   "outputs": [],
   "source": [
    "df.rename(columns={'Name[5]': 'Name', 'Team(s) played for (years)[note 3]': 'TPFY'}, inplace=True)"
   ]
  },
  {
   "cell_type": "code",
   "execution_count": 257,
   "id": "9f119bd0-93c3-4f62-a4c6-c877c960b4eb",
   "metadata": {},
   "outputs": [
    {
     "name": "stdout",
     "output_type": "stream",
     "text": [
      "                     Name                                               TPFY  \\\n",
      "0     Kareem Abdul-Jabbar  Milwaukee Bucks (1969–1975)Los Angeles Lakers ...   \n",
      "1               Ray Allen  Milwaukee Bucks (1996–2003)Seattle SuperSonics...   \n",
      "2   Giannis Antetokounmpo                        Milwaukee Bucks (2013–2021)   \n",
      "3         Carmelo Anthony  Denver Nuggets (2003–2011)New York Knicks (201...   \n",
      "4          Nate Archibald  Cincinnati Royals / Kansas City-Omaha / Kansas...   \n",
      "..                    ...                                                ...   \n",
      "71             Jerry West                     Los Angeles Lakers (1960–1974)   \n",
      "72      Russell Westbrook  Oklahoma City Thunder (2008–2019)Houston Rocke...   \n",
      "73          Lenny Wilkens  St. Louis Hawks (1960−1968)Seattle SuperSonics...   \n",
      "74      Dominique Wilkins  Atlanta Hawks (1982–1994)Los Angeles Clippers ...   \n",
      "75           James Worthy                     Los Angeles Lakers (1982–1994)   \n",
      "\n",
      "   Pos     Pts     Reb    Ast                       Championships won  \\\n",
      "0    C  38,387  17,440  5,660  6 (1971, 1980, 1982, 1985, 1987, 1988)   \n",
      "1    G  24,505   5,272  4,361                          2 (2008, 2013)   \n",
      "2    F  12,319   5,371  2,632                                1 (2021)   \n",
      "3    F  27,370   7,520  3,354                                     NaN   \n",
      "4    G  16,481   2,046  6,476                                1 (1981)   \n",
      "..  ..     ...     ...    ...                                     ...   \n",
      "71   G  25,192   5,366  6,238                                1 (1972)   \n",
      "72   G  21,857   6,961  8,061                                     NaN   \n",
      "73   G  17,772   5,030  7,211                                     NaN   \n",
      "74   F  26,668   7,169  2,677                                     NaN   \n",
      "75   F  16,320   4,708  2,791                    3 (1985, 1987, 1988)   \n",
      "\n",
      "                                   MVP won  Finals MVP won  All Star  All-NBA  \\\n",
      "0   6 (1971, 1972, 1974, 1976, 1977, 1980)  2 (1971, 1985)        19       15   \n",
      "1                                      NaN             NaN        10        2   \n",
      "2                           2 (2019, 2020)        1 (2021)         5        5   \n",
      "3                                      NaN             NaN        10        6   \n",
      "4                                      NaN             NaN         6        5   \n",
      "..                                     ...             ...       ...      ...   \n",
      "71                                     NaN        1 (1969)        14       12   \n",
      "72                                1 (2017)             NaN         9        9   \n",
      "73                                     NaN             NaN         9        0   \n",
      "74                                     NaN             NaN         9        7   \n",
      "75                                     NaN        1 (1988)         7        2   \n",
      "\n",
      "   HoF Year  \n",
      "0      1995  \n",
      "1      2018  \n",
      "2       TBD  \n",
      "3       TBD  \n",
      "4      1991  \n",
      "..      ...  \n",
      "71     1980  \n",
      "72      TBD  \n",
      "73     1989  \n",
      "74     2006  \n",
      "75     2003  \n",
      "\n",
      "[76 rows x 12 columns]\n"
     ]
    }
   ],
   "source": [
    "print(df)"
   ]
  },
  {
   "cell_type": "code",
   "execution_count": 258,
   "id": "64580f86-28cf-48b4-8bd2-1eb3d346c17e",
   "metadata": {},
   "outputs": [],
   "source": [
    "# Replace NaN values with 0\n",
    "df.fillna(0, inplace=True)"
   ]
  },
  {
   "cell_type": "code",
   "execution_count": 259,
   "id": "80712d90-c74a-486d-afd9-10e8c6e66c77",
   "metadata": {},
   "outputs": [
    {
     "name": "stdout",
     "output_type": "stream",
     "text": [
      "<class 'pandas.core.frame.DataFrame'>\n",
      "RangeIndex: 76 entries, 0 to 75\n",
      "Data columns (total 12 columns):\n",
      " #   Column             Non-Null Count  Dtype \n",
      "---  ------             --------------  ----- \n",
      " 0   Name               76 non-null     object\n",
      " 1   TPFY               76 non-null     object\n",
      " 2   Pos                76 non-null     object\n",
      " 3   Pts                76 non-null     object\n",
      " 4   Reb                76 non-null     object\n",
      " 5   Ast                76 non-null     object\n",
      " 6   Championships won  76 non-null     object\n",
      " 7   MVP won            76 non-null     object\n",
      " 8   Finals MVP won     76 non-null     object\n",
      " 9   All Star           76 non-null     int64 \n",
      " 10  All-NBA            76 non-null     int64 \n",
      " 11  HoF Year           76 non-null     object\n",
      "dtypes: int64(2), object(10)\n",
      "memory usage: 7.3+ KB\n"
     ]
    }
   ],
   "source": [
    "#we dont have any NaN Oon the list now\n",
    "df.info()"
   ]
  },
  {
   "cell_type": "code",
   "execution_count": 260,
   "id": "5cf15bb5-3571-4c2f-851a-422f85513df0",
   "metadata": {},
   "outputs": [
    {
     "data": {
      "text/plain": [
       "Index(['Name', 'TPFY', 'Pos', 'Pts', 'Reb', 'Ast', 'Championships won',\n",
       "       'MVP won', 'Finals MVP won', 'All Star', 'All-NBA', 'HoF Year'],\n",
       "      dtype='object')"
      ]
     },
     "execution_count": 260,
     "metadata": {},
     "output_type": "execute_result"
    }
   ],
   "source": [
    "df.columns"
   ]
  },
  {
   "cell_type": "code",
   "execution_count": 261,
   "id": "2a7f8d78-b4d5-43ea-9707-247836588e49",
   "metadata": {},
   "outputs": [
    {
     "data": {
      "text/html": [
       "<div>\n",
       "<style scoped>\n",
       "    .dataframe tbody tr th:only-of-type {\n",
       "        vertical-align: middle;\n",
       "    }\n",
       "\n",
       "    .dataframe tbody tr th {\n",
       "        vertical-align: top;\n",
       "    }\n",
       "\n",
       "    .dataframe thead th {\n",
       "        text-align: right;\n",
       "    }\n",
       "</style>\n",
       "<table border=\"1\" class=\"dataframe\">\n",
       "  <thead>\n",
       "    <tr style=\"text-align: right;\">\n",
       "      <th></th>\n",
       "      <th>Name</th>\n",
       "      <th>TPFY</th>\n",
       "      <th>Pos</th>\n",
       "      <th>Pts</th>\n",
       "      <th>Reb</th>\n",
       "      <th>Ast</th>\n",
       "      <th>Championships won</th>\n",
       "      <th>MVP won</th>\n",
       "      <th>Finals MVP won</th>\n",
       "      <th>All Star</th>\n",
       "      <th>All-NBA</th>\n",
       "      <th>HoF Year</th>\n",
       "    </tr>\n",
       "  </thead>\n",
       "  <tbody>\n",
       "    <tr>\n",
       "      <th>0</th>\n",
       "      <td>Kareem Abdul-Jabbar</td>\n",
       "      <td>Milwaukee Bucks (1969–1975)Los Angeles Lakers ...</td>\n",
       "      <td>C</td>\n",
       "      <td>38387.0</td>\n",
       "      <td>17440.0</td>\n",
       "      <td>5660.0</td>\n",
       "      <td>6 (1971, 1980, 1982, 1985, 1987, 1988)</td>\n",
       "      <td>6 (1971, 1972, 1974, 1976, 1977, 1980)</td>\n",
       "      <td>2 (1971, 1985)</td>\n",
       "      <td>19</td>\n",
       "      <td>15</td>\n",
       "      <td>1995</td>\n",
       "    </tr>\n",
       "    <tr>\n",
       "      <th>1</th>\n",
       "      <td>Ray Allen</td>\n",
       "      <td>Milwaukee Bucks (1996–2003)Seattle SuperSonics...</td>\n",
       "      <td>G</td>\n",
       "      <td>24505.0</td>\n",
       "      <td>5272.0</td>\n",
       "      <td>4361.0</td>\n",
       "      <td>2 (2008, 2013)</td>\n",
       "      <td>0</td>\n",
       "      <td>0</td>\n",
       "      <td>10</td>\n",
       "      <td>2</td>\n",
       "      <td>2018</td>\n",
       "    </tr>\n",
       "    <tr>\n",
       "      <th>2</th>\n",
       "      <td>Giannis Antetokounmpo</td>\n",
       "      <td>Milwaukee Bucks (2013–2021)</td>\n",
       "      <td>F</td>\n",
       "      <td>12319.0</td>\n",
       "      <td>5371.0</td>\n",
       "      <td>2632.0</td>\n",
       "      <td>1 (2021)</td>\n",
       "      <td>2 (2019, 2020)</td>\n",
       "      <td>1 (2021)</td>\n",
       "      <td>5</td>\n",
       "      <td>5</td>\n",
       "      <td>TBD</td>\n",
       "    </tr>\n",
       "    <tr>\n",
       "      <th>3</th>\n",
       "      <td>Carmelo Anthony</td>\n",
       "      <td>Denver Nuggets (2003–2011)New York Knicks (201...</td>\n",
       "      <td>F</td>\n",
       "      <td>27370.0</td>\n",
       "      <td>7520.0</td>\n",
       "      <td>3354.0</td>\n",
       "      <td>0</td>\n",
       "      <td>0</td>\n",
       "      <td>0</td>\n",
       "      <td>10</td>\n",
       "      <td>6</td>\n",
       "      <td>TBD</td>\n",
       "    </tr>\n",
       "    <tr>\n",
       "      <th>4</th>\n",
       "      <td>Nate Archibald</td>\n",
       "      <td>Cincinnati Royals / Kansas City-Omaha / Kansas...</td>\n",
       "      <td>G</td>\n",
       "      <td>16481.0</td>\n",
       "      <td>2046.0</td>\n",
       "      <td>6476.0</td>\n",
       "      <td>1 (1981)</td>\n",
       "      <td>0</td>\n",
       "      <td>0</td>\n",
       "      <td>6</td>\n",
       "      <td>5</td>\n",
       "      <td>1991</td>\n",
       "    </tr>\n",
       "    <tr>\n",
       "      <th>...</th>\n",
       "      <td>...</td>\n",
       "      <td>...</td>\n",
       "      <td>...</td>\n",
       "      <td>...</td>\n",
       "      <td>...</td>\n",
       "      <td>...</td>\n",
       "      <td>...</td>\n",
       "      <td>...</td>\n",
       "      <td>...</td>\n",
       "      <td>...</td>\n",
       "      <td>...</td>\n",
       "      <td>...</td>\n",
       "    </tr>\n",
       "    <tr>\n",
       "      <th>71</th>\n",
       "      <td>Jerry West</td>\n",
       "      <td>Los Angeles Lakers (1960–1974)</td>\n",
       "      <td>G</td>\n",
       "      <td>25192.0</td>\n",
       "      <td>5366.0</td>\n",
       "      <td>6238.0</td>\n",
       "      <td>1 (1972)</td>\n",
       "      <td>0</td>\n",
       "      <td>1 (1969)</td>\n",
       "      <td>14</td>\n",
       "      <td>12</td>\n",
       "      <td>1980</td>\n",
       "    </tr>\n",
       "    <tr>\n",
       "      <th>72</th>\n",
       "      <td>Russell Westbrook</td>\n",
       "      <td>Oklahoma City Thunder (2008–2019)Houston Rocke...</td>\n",
       "      <td>G</td>\n",
       "      <td>21857.0</td>\n",
       "      <td>6961.0</td>\n",
       "      <td>8061.0</td>\n",
       "      <td>0</td>\n",
       "      <td>1 (2017)</td>\n",
       "      <td>0</td>\n",
       "      <td>9</td>\n",
       "      <td>9</td>\n",
       "      <td>TBD</td>\n",
       "    </tr>\n",
       "    <tr>\n",
       "      <th>73</th>\n",
       "      <td>Lenny Wilkens</td>\n",
       "      <td>St. Louis Hawks (1960−1968)Seattle SuperSonics...</td>\n",
       "      <td>G</td>\n",
       "      <td>17772.0</td>\n",
       "      <td>5030.0</td>\n",
       "      <td>7211.0</td>\n",
       "      <td>0</td>\n",
       "      <td>0</td>\n",
       "      <td>0</td>\n",
       "      <td>9</td>\n",
       "      <td>0</td>\n",
       "      <td>1989</td>\n",
       "    </tr>\n",
       "    <tr>\n",
       "      <th>74</th>\n",
       "      <td>Dominique Wilkins</td>\n",
       "      <td>Atlanta Hawks (1982–1994)Los Angeles Clippers ...</td>\n",
       "      <td>F</td>\n",
       "      <td>26668.0</td>\n",
       "      <td>7169.0</td>\n",
       "      <td>2677.0</td>\n",
       "      <td>0</td>\n",
       "      <td>0</td>\n",
       "      <td>0</td>\n",
       "      <td>9</td>\n",
       "      <td>7</td>\n",
       "      <td>2006</td>\n",
       "    </tr>\n",
       "    <tr>\n",
       "      <th>75</th>\n",
       "      <td>James Worthy</td>\n",
       "      <td>Los Angeles Lakers (1982–1994)</td>\n",
       "      <td>F</td>\n",
       "      <td>16320.0</td>\n",
       "      <td>4708.0</td>\n",
       "      <td>2791.0</td>\n",
       "      <td>3 (1985, 1987, 1988)</td>\n",
       "      <td>0</td>\n",
       "      <td>1 (1988)</td>\n",
       "      <td>7</td>\n",
       "      <td>2</td>\n",
       "      <td>2003</td>\n",
       "    </tr>\n",
       "  </tbody>\n",
       "</table>\n",
       "<p>76 rows × 12 columns</p>\n",
       "</div>"
      ],
      "text/plain": [
       "                     Name                                               TPFY  \\\n",
       "0     Kareem Abdul-Jabbar  Milwaukee Bucks (1969–1975)Los Angeles Lakers ...   \n",
       "1               Ray Allen  Milwaukee Bucks (1996–2003)Seattle SuperSonics...   \n",
       "2   Giannis Antetokounmpo                        Milwaukee Bucks (2013–2021)   \n",
       "3         Carmelo Anthony  Denver Nuggets (2003–2011)New York Knicks (201...   \n",
       "4          Nate Archibald  Cincinnati Royals / Kansas City-Omaha / Kansas...   \n",
       "..                    ...                                                ...   \n",
       "71             Jerry West                     Los Angeles Lakers (1960–1974)   \n",
       "72      Russell Westbrook  Oklahoma City Thunder (2008–2019)Houston Rocke...   \n",
       "73          Lenny Wilkens  St. Louis Hawks (1960−1968)Seattle SuperSonics...   \n",
       "74      Dominique Wilkins  Atlanta Hawks (1982–1994)Los Angeles Clippers ...   \n",
       "75           James Worthy                     Los Angeles Lakers (1982–1994)   \n",
       "\n",
       "   Pos      Pts      Reb     Ast                       Championships won  \\\n",
       "0    C  38387.0  17440.0  5660.0  6 (1971, 1980, 1982, 1985, 1987, 1988)   \n",
       "1    G  24505.0   5272.0  4361.0                          2 (2008, 2013)   \n",
       "2    F  12319.0   5371.0  2632.0                                1 (2021)   \n",
       "3    F  27370.0   7520.0  3354.0                                       0   \n",
       "4    G  16481.0   2046.0  6476.0                                1 (1981)   \n",
       "..  ..      ...      ...     ...                                     ...   \n",
       "71   G  25192.0   5366.0  6238.0                                1 (1972)   \n",
       "72   G  21857.0   6961.0  8061.0                                       0   \n",
       "73   G  17772.0   5030.0  7211.0                                       0   \n",
       "74   F  26668.0   7169.0  2677.0                                       0   \n",
       "75   F  16320.0   4708.0  2791.0                    3 (1985, 1987, 1988)   \n",
       "\n",
       "                                   MVP won  Finals MVP won  All Star  All-NBA  \\\n",
       "0   6 (1971, 1972, 1974, 1976, 1977, 1980)  2 (1971, 1985)        19       15   \n",
       "1                                        0               0        10        2   \n",
       "2                           2 (2019, 2020)        1 (2021)         5        5   \n",
       "3                                        0               0        10        6   \n",
       "4                                        0               0         6        5   \n",
       "..                                     ...             ...       ...      ...   \n",
       "71                                       0        1 (1969)        14       12   \n",
       "72                                1 (2017)               0         9        9   \n",
       "73                                       0               0         9        0   \n",
       "74                                       0               0         9        7   \n",
       "75                                       0        1 (1988)         7        2   \n",
       "\n",
       "   HoF Year  \n",
       "0      1995  \n",
       "1      2018  \n",
       "2       TBD  \n",
       "3       TBD  \n",
       "4      1991  \n",
       "..      ...  \n",
       "71     1980  \n",
       "72      TBD  \n",
       "73     1989  \n",
       "74     2006  \n",
       "75     2003  \n",
       "\n",
       "[76 rows x 12 columns]"
      ]
     },
     "execution_count": 261,
     "metadata": {},
     "output_type": "execute_result"
    }
   ],
   "source": [
    "# Remove commas from numeric columns\n",
    "df['Pts'] = df['Pts'].str.replace(',', '').astype(float)\n",
    "df['Ast'] = df['Ast'].str.replace(',', '').astype(float)\n",
    "df['Reb'] = df['Reb'].str.replace(',', '').astype(float)\n",
    "df"
   ]
  },
  {
   "cell_type": "code",
   "execution_count": 262,
   "id": "7c9f84af-cc60-478b-8615-4c42cfbe92f1",
   "metadata": {},
   "outputs": [
    {
     "name": "stdout",
     "output_type": "stream",
     "text": [
      "                Pts           Reb           Ast   All Star    All-NBA\n",
      "count     76.000000     76.000000     76.000000  76.000000  76.000000\n",
      "mean   20873.986842   8247.394737   4673.407895   9.657895   7.157895\n",
      "std     6840.384016   4646.009339   2868.142591   3.542326   4.063012\n",
      "min     6215.000000   2046.000000   1186.000000   2.000000   0.000000\n",
      "25%    16440.750000   4821.000000   2555.500000   7.000000   4.000000\n",
      "50%    20343.000000   7004.000000   4058.500000  10.000000   7.000000\n",
      "75%    25213.750000  11469.500000   5783.750000  12.000000  10.000000\n",
      "max    40017.000000  23924.000000  15806.000000  19.000000  17.000000\n"
     ]
    },
    {
     "data": {
      "image/png": "[encoded data removed]",
      "text/plain": [
       "<Figure size 640x480 with 1 Axes>"
      ]
     },
     "metadata": {},
     "output_type": "display_data"
    },
    {
     "ename": "ValueError",
     "evalue": "could not convert string to float: 'Kareem Abdul-Jabbar'",
     "output_type": "error",
     "traceback": [
      "\u001b[1;31m---------------------------------------------------------------------------\u001b[0m",
      "\u001b[1;31mValueError\u001b[0m                                Traceback (most recent call last)",
      "Cell \u001b[1;32mIn[262], line 14\u001b[0m\n\u001b[0;32m     11\u001b[0m plt\u001b[38;5;241m.\u001b[39mshow()\n\u001b[0;32m     13\u001b[0m \u001b[38;5;66;03m# Correlation Analysis\u001b[39;00m\n\u001b[1;32m---> 14\u001b[0m correlation_matrix \u001b[38;5;241m=\u001b[39m \u001b[43mdf\u001b[49m\u001b[38;5;241;43m.\u001b[39;49m\u001b[43mcorr\u001b[49m\u001b[43m(\u001b[49m\u001b[43m)\u001b[49m\n\u001b[0;32m     15\u001b[0m \u001b[38;5;28mprint\u001b[39m(correlation_matrix)\n\u001b[0;32m     17\u001b[0m \u001b[38;5;66;03m# Value Counts\u001b[39;00m\n",
      "File \u001b[1;32m~\\AppData\\Local\\Programs\\Python\\Python312\\Lib\\site-packages\\pandas\\core\\frame.py:11036\u001b[0m, in \u001b[0;36mDataFrame.corr\u001b[1;34m(self, method, min_periods, numeric_only)\u001b[0m\n\u001b[0;32m  11034\u001b[0m cols \u001b[38;5;241m=\u001b[39m data\u001b[38;5;241m.\u001b[39mcolumns\n\u001b[0;32m  11035\u001b[0m idx \u001b[38;5;241m=\u001b[39m cols\u001b[38;5;241m.\u001b[39mcopy()\n\u001b[1;32m> 11036\u001b[0m mat \u001b[38;5;241m=\u001b[39m \u001b[43mdata\u001b[49m\u001b[38;5;241;43m.\u001b[39;49m\u001b[43mto_numpy\u001b[49m\u001b[43m(\u001b[49m\u001b[43mdtype\u001b[49m\u001b[38;5;241;43m=\u001b[39;49m\u001b[38;5;28;43mfloat\u001b[39;49m\u001b[43m,\u001b[49m\u001b[43m \u001b[49m\u001b[43mna_value\u001b[49m\u001b[38;5;241;43m=\u001b[39;49m\u001b[43mnp\u001b[49m\u001b[38;5;241;43m.\u001b[39;49m\u001b[43mnan\u001b[49m\u001b[43m,\u001b[49m\u001b[43m \u001b[49m\u001b[43mcopy\u001b[49m\u001b[38;5;241;43m=\u001b[39;49m\u001b[38;5;28;43;01mFalse\u001b[39;49;00m\u001b[43m)\u001b[49m\n\u001b[0;32m  11038\u001b[0m \u001b[38;5;28;01mif\u001b[39;00m method \u001b[38;5;241m==\u001b[39m \u001b[38;5;124m\"\u001b[39m\u001b[38;5;124mpearson\u001b[39m\u001b[38;5;124m\"\u001b[39m:\n\u001b[0;32m  11039\u001b[0m     correl \u001b[38;5;241m=\u001b[39m libalgos\u001b[38;5;241m.\u001b[39mnancorr(mat, minp\u001b[38;5;241m=\u001b[39mmin_periods)\n",
      "File \u001b[1;32m~\\AppData\\Local\\Programs\\Python\\Python312\\Lib\\site-packages\\pandas\\core\\frame.py:1981\u001b[0m, in \u001b[0;36mDataFrame.to_numpy\u001b[1;34m(self, dtype, copy, na_value)\u001b[0m\n\u001b[0;32m   1979\u001b[0m \u001b[38;5;28;01mif\u001b[39;00m dtype \u001b[38;5;129;01mis\u001b[39;00m \u001b[38;5;129;01mnot\u001b[39;00m \u001b[38;5;28;01mNone\u001b[39;00m:\n\u001b[0;32m   1980\u001b[0m     dtype \u001b[38;5;241m=\u001b[39m np\u001b[38;5;241m.\u001b[39mdtype(dtype)\n\u001b[1;32m-> 1981\u001b[0m result \u001b[38;5;241m=\u001b[39m \u001b[38;5;28;43mself\u001b[39;49m\u001b[38;5;241;43m.\u001b[39;49m\u001b[43m_mgr\u001b[49m\u001b[38;5;241;43m.\u001b[39;49m\u001b[43mas_array\u001b[49m\u001b[43m(\u001b[49m\u001b[43mdtype\u001b[49m\u001b[38;5;241;43m=\u001b[39;49m\u001b[43mdtype\u001b[49m\u001b[43m,\u001b[49m\u001b[43m \u001b[49m\u001b[43mcopy\u001b[49m\u001b[38;5;241;43m=\u001b[39;49m\u001b[43mcopy\u001b[49m\u001b[43m,\u001b[49m\u001b[43m \u001b[49m\u001b[43mna_value\u001b[49m\u001b[38;5;241;43m=\u001b[39;49m\u001b[43mna_value\u001b[49m\u001b[43m)\u001b[49m\n\u001b[0;32m   1982\u001b[0m \u001b[38;5;28;01mif\u001b[39;00m result\u001b[38;5;241m.\u001b[39mdtype \u001b[38;5;129;01mis\u001b[39;00m \u001b[38;5;129;01mnot\u001b[39;00m dtype:\n\u001b[0;32m   1983\u001b[0m     result \u001b[38;5;241m=\u001b[39m np\u001b[38;5;241m.\u001b[39marray(result, dtype\u001b[38;5;241m=\u001b[39mdtype, copy\u001b[38;5;241m=\u001b[39m\u001b[38;5;28;01mFalse\u001b[39;00m)\n",
      "File \u001b[1;32m~\\AppData\\Local\\Programs\\Python\\Python312\\Lib\\site-packages\\pandas\\core\\internals\\managers.py:1692\u001b[0m, in \u001b[0;36mBlockManager.as_array\u001b[1;34m(self, dtype, copy, na_value)\u001b[0m\n\u001b[0;32m   1690\u001b[0m         arr\u001b[38;5;241m.\u001b[39mflags\u001b[38;5;241m.\u001b[39mwriteable \u001b[38;5;241m=\u001b[39m \u001b[38;5;28;01mFalse\u001b[39;00m\n\u001b[0;32m   1691\u001b[0m \u001b[38;5;28;01melse\u001b[39;00m:\n\u001b[1;32m-> 1692\u001b[0m     arr \u001b[38;5;241m=\u001b[39m \u001b[38;5;28;43mself\u001b[39;49m\u001b[38;5;241;43m.\u001b[39;49m\u001b[43m_interleave\u001b[49m\u001b[43m(\u001b[49m\u001b[43mdtype\u001b[49m\u001b[38;5;241;43m=\u001b[39;49m\u001b[43mdtype\u001b[49m\u001b[43m,\u001b[49m\u001b[43m \u001b[49m\u001b[43mna_value\u001b[49m\u001b[38;5;241;43m=\u001b[39;49m\u001b[43mna_value\u001b[49m\u001b[43m)\u001b[49m\n\u001b[0;32m   1693\u001b[0m     \u001b[38;5;66;03m# The underlying data was copied within _interleave, so no need\u001b[39;00m\n\u001b[0;32m   1694\u001b[0m     \u001b[38;5;66;03m# to further copy if copy=True or setting na_value\u001b[39;00m\n\u001b[0;32m   1696\u001b[0m \u001b[38;5;28;01mif\u001b[39;00m na_value \u001b[38;5;129;01mis\u001b[39;00m lib\u001b[38;5;241m.\u001b[39mno_default:\n",
      "File \u001b[1;32m~\\AppData\\Local\\Programs\\Python\\Python312\\Lib\\site-packages\\pandas\\core\\internals\\managers.py:1751\u001b[0m, in \u001b[0;36mBlockManager._interleave\u001b[1;34m(self, dtype, na_value)\u001b[0m\n\u001b[0;32m   1749\u001b[0m     \u001b[38;5;28;01melse\u001b[39;00m:\n\u001b[0;32m   1750\u001b[0m         arr \u001b[38;5;241m=\u001b[39m blk\u001b[38;5;241m.\u001b[39mget_values(dtype)\n\u001b[1;32m-> 1751\u001b[0m     \u001b[43mresult\u001b[49m\u001b[43m[\u001b[49m\u001b[43mrl\u001b[49m\u001b[38;5;241;43m.\u001b[39;49m\u001b[43mindexer\u001b[49m\u001b[43m]\u001b[49m \u001b[38;5;241m=\u001b[39m arr\n\u001b[0;32m   1752\u001b[0m     itemmask[rl\u001b[38;5;241m.\u001b[39mindexer] \u001b[38;5;241m=\u001b[39m \u001b[38;5;241m1\u001b[39m\n\u001b[0;32m   1754\u001b[0m \u001b[38;5;28;01mif\u001b[39;00m \u001b[38;5;129;01mnot\u001b[39;00m itemmask\u001b[38;5;241m.\u001b[39mall():\n",
      "\u001b[1;31mValueError\u001b[0m: could not convert string to float: 'Kareem Abdul-Jabbar'"
     ]
    }
   ],
   "source": [
    "\n",
    "# Summary Statistics\n",
    "summary_stats = df.describe()\n",
    "print(summary_stats)\n",
    "\n",
    "# Data Distribution (Histogram)\n",
    "import matplotlib.pyplot as plt\n",
    "plt.hist(df['Pts'], bins=20)\n",
    "plt.xlabel('Pts')\n",
    "plt.ylabel('Frequency')\n",
    "plt.title('Distribution of Points')\n",
    "plt.show()\n",
    "\n",
    "# Correlation Analysis\n",
    "correlation_matrix = df.corr()\n",
    "print(correlation_matrix)\n",
    "\n",
    "# Value Counts\n",
    "value_counts = df['Pos'].value_counts()\n",
    "print(value_counts)\n",
    "\n"
   ]
  },
  {
   "cell_type": "code",
   "execution_count": 263,
   "id": "6216edf6-700c-4052-8666-759fd5c65729",
   "metadata": {},
   "outputs": [
    {
     "data": {
      "image/png": "[encoded data removed]",
      "text/plain": [
       "<Figure size 640x480 with 1 Axes>"
      ]
     },
     "metadata": {},
     "output_type": "display_data"
    },
    {
     "data": {
      "image/png": "[encoded data removed]",
      "text/plain": [
       "<Figure size 640x480 with 1 Axes>"
      ]
     },
     "metadata": {},
     "output_type": "display_data"
    },
    {
     "data": {
      "application/vnd.plotly.v1+json": {
       "config": {
        "plotlyServerURL": "https://plot.ly"
       },
       "data": [
        {
         "hovertemplate": "<b>%{hovertext}</b><br><br>Pos=C<br>Pts=%{x}<br>Reb=%{y}<extra></extra>",
         "hovertext": [
          "Kareem Abdul-Jabbar",
          "Wilt Chamberlain †",
          "Dave Cowens",
          "Patrick Ewing",
          "Moses Malone †",
          "George Mikan †",
          "Hakeem Olajuwon",
          "Shaquille O'Neal",
          "Robert Parish",
          "David Robinson",
          "Bill Russell",
          "Nate Thurmond †",
          "Wes Unseld †",
          "Bill Walton"
         ],
         "legendgroup": "C",
         "marker": {
          "color": "#636efa",
          "symbol": "circle"
         },
         "mode": "markers",
         "name": "C",
         "orientation": "v",
         "showlegend": true,
         "type": "scatter",
         "x": [
          38387,
          31419,
          13516,
          24815,
          27409,
          10156,
          26946,
          28596,
          23334,
          20790,
          14522,
          14437,
          10624,
          6215
         ],
         "xaxis": "x",
         "y": [
          17440,
          23924,
          10444,
          11607,
          16212,
          4167,
          13748,
          13099,
          14715,
          10497,
          21620,
          14464,
          13769,
          4923
         ],
         "yaxis": "y"
        },
        {
         "hovertemplate": "<b>%{hovertext}</b><br><br>Pos=G<br>Pts=%{x}<br>Reb=%{y}<extra></extra>",
         "hovertext": [
          "Ray Allen",
          "Nate Archibald",
          "Dave Bing",
          "Kobe Bryant †",
          "Bob Cousy",
          "Stephen Curry",
          "Clyde Drexler",
          "Walt Frazier",
          "George Gervin",
          "Hal Greer †",
          "James Harden",
          "Allen Iverson",
          "Magic Johnson",
          "Sam Jones",
          "Michael Jordan",
          "Jason Kidd",
          "Damian Lillard",
          "Pete Maravich †",
          "Reggie Miller",
          "Earl Monroe",
          "Steve Nash",
          "Chris Paul",
          "Gary Payton",
          "Oscar Robertson",
          "Bill Sharman †",
          "John Stockton",
          "Isiah Thomas",
          "Dwyane Wade",
          "Jerry West",
          "Russell Westbrook",
          "Lenny Wilkens"
         ],
         "legendgroup": "G",
         "marker": {
          "color": "#EF553B",
          "symbol": "circle"
         },
         "mode": "markers",
         "name": "G",
         "orientation": "v",
         "showlegend": true,
         "type": "scatter",
         "x": [
          24505,
          16481,
          18327,
          33643,
          16960,
          22841,
          22195,
          15581,
          20708,
          21586,
          22045,
          24368,
          17707,
          15411,
          32292,
          17529,
          16815,
          15948,
          25279,
          17454,
          17387,
          19978,
          21813,
          26710,
          12665,
          19711,
          18822,
          23165,
          25192,
          21857,
          17772
         ],
         "xaxis": "x",
         "y": [
          5272,
          2046,
          3420,
          7047,
          4786,
          4355,
          6677,
          4830,
          3607,
          5665,
          4794,
          3394,
          6559,
          4305,
          6672,
          8725,
          2856,
          2747,
          4182,
          2796,
          3642,
          4923,
          5269,
          7804,
          2779,
          4051,
          3478,
          4933,
          5366,
          6961,
          5030
         ],
         "yaxis": "y"
        },
        {
         "hovertemplate": "<b>%{hovertext}</b><br><br>Pos=F<br>Pts=%{x}<br>Reb=%{y}<extra></extra>",
         "hovertext": [
          "Giannis Antetokounmpo",
          "Carmelo Anthony",
          "Paul Arizin †",
          "Charles Barkley",
          "Rick Barry",
          "Elgin Baylor †",
          "Larry Bird",
          "Billy Cunningham",
          "Dave DeBusschere †",
          "Kevin Durant",
          "Julius Erving",
          "LeBron James",
          "Kawhi Leonard",
          "Jerry Lucas",
          "Karl Malone",
          "Kevin McHale",
          "Dirk Nowitzki",
          "Bob Pettit",
          "Paul Pierce",
          "Scottie Pippen",
          "Dennis Rodman",
          "Dolph Schayes †",
          "Dominique Wilkins",
          "James Worthy"
         ],
         "legendgroup": "F",
         "marker": {
          "color": "#00cc96",
          "symbol": "circle"
         },
         "mode": "markers",
         "name": "F",
         "orientation": "v",
         "showlegend": true,
         "type": "scatter",
         "x": [
          12319,
          27370,
          16266,
          23757,
          18395,
          23149,
          21791,
          13626,
          14053,
          23883,
          18364,
          40017,
          11085,
          14053,
          36928,
          17335,
          31560,
          20880,
          26397,
          18940,
          6683,
          18438,
          26668,
          16320
         ],
         "xaxis": "x",
         "y": [
          5371,
          7520,
          6129,
          12546,
          5168,
          11463,
          8974,
          6638,
          9618,
          6239,
          5601,
          10847,
          3689,
          12942,
          14968,
          7122,
          11489,
          12849,
          7527,
          7494,
          11954,
          11256,
          7169,
          4708
         ],
         "yaxis": "y"
        },
        {
         "hovertemplate": "<b>%{hovertext}</b><br><br>Pos=F/C<br>Pts=%{x}<br>Reb=%{y}<extra></extra>",
         "hovertext": [
          "Anthony Davis",
          "Tim Duncan",
          "Kevin Garnett",
          "Elvin Hayes",
          "Bob McAdoo"
         ],
         "legendgroup": "F/C",
         "marker": {
          "color": "#ab63fa",
          "symbol": "circle"
         },
         "mode": "markers",
         "name": "F/C",
         "orientation": "v",
         "showlegend": true,
         "type": "scatter",
         "x": [
          16988,
          26496,
          26071,
          27313,
          18787
         ],
         "xaxis": "x",
         "y": [
          7420,
          15091,
          14662,
          16279,
          8048
         ],
         "yaxis": "y"
        },
        {
         "hovertemplate": "<b>%{hovertext}</b><br><br>Pos=F/G<br>Pts=%{x}<br>Reb=%{y}<extra></extra>",
         "hovertext": [
          "John Havlicek †"
         ],
         "legendgroup": "F/G",
         "marker": {
          "color": "#FFA15A",
          "symbol": "circle"
         },
         "mode": "markers",
         "name": "F/G",
         "orientation": "v",
         "showlegend": true,
         "type": "scatter",
         "x": [
          26395
         ],
         "xaxis": "x",
         "y": [
          8007
         ],
         "yaxis": "y"
        },
        {
         "hovertemplate": "<b>%{hovertext}</b><br><br>Pos=C/F<br>Pts=%{x}<br>Reb=%{y}<extra></extra>",
         "hovertext": [
          "Willis Reed"
         ],
         "legendgroup": "C/F",
         "marker": {
          "color": "#19d3f3",
          "symbol": "circle"
         },
         "mode": "markers",
         "name": "C/F",
         "orientation": "v",
         "showlegend": true,
         "type": "scatter",
         "x": [
          12183
         ],
         "xaxis": "x",
         "y": [
          8414
         ],
         "yaxis": "y"
        }
       ],
       "layout": {
        "autosize": true,
        "legend": {
         "title": {
          "text": "Pos"
         },
         "tracegroupgap": 0
        },
        "margin": {
         "t": 60
        },
        "template": {
         "data": {
          "bar": [
           {
            "error_x": {
             "color": "#2a3f5f"
            },
            "error_y": {
             "color": "#2a3f5f"
            },
            "marker": {
             "line": {
              "color": "#E5ECF6",
              "width": 0.5
             },
             "pattern": {
              "fillmode": "overlay",
              "size": 10,
              "solidity": 0.2
             }
            },
            "type": "bar"
           }
          ],
          "barpolar": [
           {
            "marker": {
             "line": {
              "color": "#E5ECF6",
              "width": 0.5
             },
             "pattern": {
              "fillmode": "overlay",
              "size": 10,
              "solidity": 0.2
             }
            },
            "type": "barpolar"
           }
          ],
          "carpet": [
           {
            "aaxis": {
             "endlinecolor": "#2a3f5f",
             "gridcolor": "white",
             "linecolor": "white",
             "minorgridcolor": "white",
             "startlinecolor": "#2a3f5f"
            },
            "baxis": {
             "endlinecolor": "#2a3f5f",
             "gridcolor": "white",
             "linecolor": "white",
             "minorgridcolor": "white",
             "startlinecolor": "#2a3f5f"
            },
            "type": "carpet"
           }
          ],
          "choropleth": [
           {
            "colorbar": {
             "outlinewidth": 0,
             "ticks": ""
            },
            "type": "choropleth"
           }
          ],
          "contour": [
           {
            "colorbar": {
             "outlinewidth": 0,
             "ticks": ""
            },
            "colorscale": [
             [
              0,
              "#0d0887"
             ],
             [
              0.1111111111111111,
              "#46039f"
             ],
             [
              0.2222222222222222,
              "#7201a8"
             ],
             [
              0.3333333333333333,
              "#9c179e"
             ],
             [
              0.4444444444444444,
              "#bd3786"
             ],
             [
              0.5555555555555556,
              "#d8576b"
             ],
             [
              0.6666666666666666,
              "#ed7953"
             ],
             [
              0.7777777777777778,
              "#fb9f3a"
             ],
             [
              0.8888888888888888,
              "#fdca26"
             ],
             [
              1,
              "#f0f921"
             ]
            ],
            "type": "contour"
           }
          ],
          "contourcarpet": [
           {
            "colorbar": {
             "outlinewidth": 0,
             "ticks": ""
            },
            "type": "contourcarpet"
           }
          ],
          "heatmap": [
           {
            "colorbar": {
             "outlinewidth": 0,
             "ticks": ""
            },
            "colorscale": [
             [
              0,
              "#0d0887"
             ],
             [
              0.1111111111111111,
              "#46039f"
             ],
             [
              0.2222222222222222,
              "#7201a8"
             ],
             [
              0.3333333333333333,
              "#9c179e"
             ],
             [
              0.4444444444444444,
              "#bd3786"
             ],
             [
              0.5555555555555556,
              "#d8576b"
             ],
             [
              0.6666666666666666,
              "#ed7953"
             ],
             [
              0.7777777777777778,
              "#fb9f3a"
             ],
             [
              0.8888888888888888,
              "#fdca26"
             ],
             [
              1,
              "#f0f921"
             ]
            ],
            "type": "heatmap"
           }
          ],
          "heatmapgl": [
           {
            "colorbar": {
             "outlinewidth": 0,
             "ticks": ""
            },
            "colorscale": [
             [
              0,
              "#0d0887"
             ],
             [
              0.1111111111111111,
              "#46039f"
             ],
             [
              0.2222222222222222,
              "#7201a8"
             ],
             [
              0.3333333333333333,
              "#9c179e"
             ],
             [
              0.4444444444444444,
              "#bd3786"
             ],
             [
              0.5555555555555556,
              "#d8576b"
             ],
             [
              0.6666666666666666,
              "#ed7953"
             ],
             [
              0.7777777777777778,
              "#fb9f3a"
             ],
             [
              0.8888888888888888,
              "#fdca26"
             ],
             [
              1,
              "#f0f921"
             ]
            ],
            "type": "heatmapgl"
           }
          ],
          "histogram": [
           {
            "marker": {
             "pattern": {
              "fillmode": "overlay",
              "size": 10,
              "solidity": 0.2
             }
            },
            "type": "histogram"
           }
          ],
          "histogram2d": [
           {
            "colorbar": {
             "outlinewidth": 0,
             "ticks": ""
            },
            "colorscale": [
             [
              0,
              "#0d0887"
             ],
             [
              0.1111111111111111,
              "#46039f"
             ],
             [
              0.2222222222222222,
              "#7201a8"
             ],
             [
              0.3333333333333333,
              "#9c179e"
             ],
             [
              0.4444444444444444,
              "#bd3786"
             ],
             [
              0.5555555555555556,
              "#d8576b"
             ],
             [
              0.6666666666666666,
              "#ed7953"
             ],
             [
              0.7777777777777778,
              "#fb9f3a"
             ],
             [
              0.8888888888888888,
              "#fdca26"
             ],
             [
              1,
              "#f0f921"
             ]
            ],
            "type": "histogram2d"
           }
          ],
          "histogram2dcontour": [
           {
            "colorbar": {
             "outlinewidth": 0,
             "ticks": ""
            },
            "colorscale": [
             [
              0,
              "#0d0887"
             ],
             [
              0.1111111111111111,
              "#46039f"
             ],
             [
              0.2222222222222222,
              "#7201a8"
             ],
             [
              0.3333333333333333,
              "#9c179e"
             ],
             [
              0.4444444444444444,
              "#bd3786"
             ],
             [
              0.5555555555555556,
              "#d8576b"
             ],
             [
              0.6666666666666666,
              "#ed7953"
             ],
             [
              0.7777777777777778,
              "#fb9f3a"
             ],
             [
              0.8888888888888888,
              "#fdca26"
             ],
             [
              1,
              "#f0f921"
             ]
            ],
            "type": "histogram2dcontour"
           }
          ],
          "mesh3d": [
           {
            "colorbar": {
             "outlinewidth": 0,
             "ticks": ""
            },
            "type": "mesh3d"
           }
          ],
          "parcoords": [
           {
            "line": {
             "colorbar": {
              "outlinewidth": 0,
              "ticks": ""
             }
            },
            "type": "parcoords"
           }
          ],
          "pie": [
           {
            "automargin": true,
            "type": "pie"
           }
          ],
          "scatter": [
           {
            "fillpattern": {
             "fillmode": "overlay",
             "size": 10,
             "solidity": 0.2
            },
            "type": "scatter"
           }
          ],
          "scatter3d": [
           {
            "line": {
             "colorbar": {
              "outlinewidth": 0,
              "ticks": ""
             }
            },
            "marker": {
             "colorbar": {
              "outlinewidth": 0,
              "ticks": ""
             }
            },
            "type": "scatter3d"
           }
          ],
          "scattercarpet": [
           {
            "marker": {
             "colorbar": {
              "outlinewidth": 0,
              "ticks": ""
             }
            },
            "type": "scattercarpet"
           }
          ],
          "scattergeo": [
           {
            "marker": {
             "colorbar": {
              "outlinewidth": 0,
              "ticks": ""
             }
            },
            "type": "scattergeo"
           }
          ],
          "scattergl": [
           {
            "marker": {
             "colorbar": {
              "outlinewidth": 0,
              "ticks": ""
             }
            },
            "type": "scattergl"
           }
          ],
          "scattermapbox": [
           {
            "marker": {
             "colorbar": {
              "outlinewidth": 0,
              "ticks": ""
             }
            },
            "type": "scattermapbox"
           }
          ],
          "scatterpolar": [
           {
            "marker": {
             "colorbar": {
              "outlinewidth": 0,
              "ticks": ""
             }
            },
            "type": "scatterpolar"
           }
          ],
          "scatterpolargl": [
           {
            "marker": {
             "colorbar": {
              "outlinewidth": 0,
              "ticks": ""
             }
            },
            "type": "scatterpolargl"
           }
          ],
          "scatterternary": [
           {
            "marker": {
             "colorbar": {
              "outlinewidth": 0,
              "ticks": ""
             }
            },
            "type": "scatterternary"
           }
          ],
          "surface": [
           {
            "colorbar": {
             "outlinewidth": 0,
             "ticks": ""
            },
            "colorscale": [
             [
              0,
              "#0d0887"
             ],
             [
              0.1111111111111111,
              "#46039f"
             ],
             [
              0.2222222222222222,
              "#7201a8"
             ],
             [
              0.3333333333333333,
              "#9c179e"
             ],
             [
              0.4444444444444444,
              "#bd3786"
             ],
             [
              0.5555555555555556,
              "#d8576b"
             ],
             [
              0.6666666666666666,
              "#ed7953"
             ],
             [
              0.7777777777777778,
              "#fb9f3a"
             ],
             [
              0.8888888888888888,
              "#fdca26"
             ],
             [
              1,
              "#f0f921"
             ]
            ],
            "type": "surface"
           }
          ],
          "table": [
           {
            "cells": {
             "fill": {
              "color": "#EBF0F8"
             },
             "line": {
              "color": "white"
             }
            },
            "header": {
             "fill": {
              "color": "#C8D4E3"
             },
             "line": {
              "color": "white"
             }
            },
            "type": "table"
           }
          ]
         },
         "layout": {
          "annotationdefaults": {
           "arrowcolor": "#2a3f5f",
           "arrowhead": 0,
           "arrowwidth": 1
          },
          "autotypenumbers": "strict",
          "coloraxis": {
           "colorbar": {
            "outlinewidth": 0,
            "ticks": ""
           }
          },
          "colorscale": {
           "diverging": [
            [
             0,
             "#8e0152"
            ],
            [
             0.1,
             "#c51b7d"
            ],
            [
             0.2,
             "#de77ae"
            ],
            [
             0.3,
             "#f1b6da"
            ],
            [
             0.4,
             "#fde0ef"
            ],
            [
             0.5,
             "#f7f7f7"
            ],
            [
             0.6,
             "#e6f5d0"
            ],
            [
             0.7,
             "#b8e186"
            ],
            [
             0.8,
             "#7fbc41"
            ],
            [
             0.9,
             "#4d9221"
            ],
            [
             1,
             "#276419"
            ]
           ],
           "sequential": [
            [
             0,
             "#0d0887"
            ],
            [
             0.1111111111111111,
             "#46039f"
            ],
            [
             0.2222222222222222,
             "#7201a8"
            ],
            [
             0.3333333333333333,
             "#9c179e"
            ],
            [
             0.4444444444444444,
             "#bd3786"
            ],
            [
             0.5555555555555556,
             "#d8576b"
            ],
            [
             0.6666666666666666,
             "#ed7953"
            ],
            [
             0.7777777777777778,
             "#fb9f3a"
            ],
            [
             0.8888888888888888,
             "#fdca26"
            ],
            [
             1,
             "#f0f921"
            ]
           ],
           "sequentialminus": [
            [
             0,
             "#0d0887"
            ],
            [
             0.1111111111111111,
             "#46039f"
            ],
            [
             0.2222222222222222,
             "#7201a8"
            ],
            [
             0.3333333333333333,
             "#9c179e"
            ],
            [
             0.4444444444444444,
             "#bd3786"
            ],
            [
             0.5555555555555556,
             "#d8576b"
            ],
            [
             0.6666666666666666,
             "#ed7953"
            ],
            [
             0.7777777777777778,
             "#fb9f3a"
            ],
            [
             0.8888888888888888,
             "#fdca26"
            ],
            [
             1,
             "#f0f921"
            ]
           ]
          },
          "colorway": [
           "#636efa",
           "#EF553B",
           "#00cc96",
           "#ab63fa",
           "#FFA15A",
           "#19d3f3",
           "#FF6692",
           "#B6E880",
           "#FF97FF",
           "#FECB52"
          ],
          "font": {
           "color": "#2a3f5f"
          },
          "geo": {
           "bgcolor": "white",
           "lakecolor": "white",
           "landcolor": "#E5ECF6",
           "showlakes": true,
           "showland": true,
           "subunitcolor": "white"
          },
          "hoverlabel": {
           "align": "left"
          },
          "hovermode": "closest",
          "mapbox": {
           "style": "light"
          },
          "paper_bgcolor": "white",
          "plot_bgcolor": "#E5ECF6",
          "polar": {
           "angularaxis": {
            "gridcolor": "white",
            "linecolor": "white",
            "ticks": ""
           },
           "bgcolor": "#E5ECF6",
           "radialaxis": {
            "gridcolor": "white",
            "linecolor": "white",
            "ticks": ""
           }
          },
          "scene": {
           "xaxis": {
            "backgroundcolor": "#E5ECF6",
            "gridcolor": "white",
            "gridwidth": 2,
            "linecolor": "white",
            "showbackground": true,
            "ticks": "",
            "zerolinecolor": "white"
           },
           "yaxis": {
            "backgroundcolor": "#E5ECF6",
            "gridcolor": "white",
            "gridwidth": 2,
            "linecolor": "white",
            "showbackground": true,
            "ticks": "",
            "zerolinecolor": "white"
           },
           "zaxis": {
            "backgroundcolor": "#E5ECF6",
            "gridcolor": "white",
            "gridwidth": 2,
            "linecolor": "white",
            "showbackground": true,
            "ticks": "",
            "zerolinecolor": "white"
           }
          },
          "shapedefaults": {
           "line": {
            "color": "#2a3f5f"
           }
          },
          "ternary": {
           "aaxis": {
            "gridcolor": "white",
            "linecolor": "white",
            "ticks": ""
           },
           "baxis": {
            "gridcolor": "white",
            "linecolor": "white",
            "ticks": ""
           },
           "bgcolor": "#E5ECF6",
           "caxis": {
            "gridcolor": "white",
            "linecolor": "white",
            "ticks": ""
           }
          },
          "title": {
           "x": 0.05
          },
          "xaxis": {
           "automargin": true,
           "gridcolor": "white",
           "linecolor": "white",
           "ticks": "",
           "title": {
            "standoff": 15
           },
           "zerolinecolor": "white",
           "zerolinewidth": 2
          },
          "yaxis": {
           "automargin": true,
           "gridcolor": "white",
           "linecolor": "white",
           "ticks": "",
           "title": {
            "standoff": 15
           },
           "zerolinecolor": "white",
           "zerolinewidth": 2
          }
         }
        },
        "xaxis": {
         "anchor": "y",
         "autorange": true,
         "domain": [
          0,
          1
         ],
         "range": [
          4162.9745301681505,
          42069.02546983185
         ],
         "title": {
          "text": "Pts"
         },
         "type": "linear"
        },
        "yaxis": {
         "anchor": "x",
         "autorange": true,
         "domain": [
          0,
          1
         ],
         "range": [
          352.03412073490813,
          25617.96587926509
         ],
         "title": {
          "text": "Reb"
         },
         "type": "linear"
        }
       }
      },
      "image/png": "[encoded data removed]",
      "text/html": [
       "<div>                            <div id=\"e214a893-4b14-476e-acc4-ecb0b069427a\" class=\"plotly-graph-div\" style=\"height:525px; width:100%;\"></div>            <script type=\"text/javascript\">                require([\"plotly\"], function(Plotly) {                    window.PLOTLYENV=window.PLOTLYENV || {};                                    if (document.getElementById(\"e214a893-4b14-476e-acc4-ecb0b069427a\")) {                    Plotly.newPlot(                        \"e214a893-4b14-476e-acc4-ecb0b069427a\",                        [{\"hovertemplate\":\"\\u003cb\\u003e%{hovertext}\\u003c\\u002fb\\u003e\\u003cbr\\u003e\\u003cbr\\u003ePos=C\\u003cbr\\u003ePts=%{x}\\u003cbr\\u003eReb=%{y}\\u003cextra\\u003e\\u003c\\u002fextra\\u003e\",\"hovertext\":[\"Kareem Abdul-Jabbar\",\"Wilt Chamberlain \\u2020\",\"Dave Cowens\",\"Patrick Ewing\",\"Moses Malone \\u2020\",\"George Mikan \\u2020\",\"Hakeem Olajuwon\",\"Shaquille O'Neal\",\"Robert Parish\",\"David Robinson\",\"Bill Russell\",\"Nate Thurmond \\u2020\",\"Wes Unseld \\u2020\",\"Bill Walton\"],\"legendgroup\":\"C\",\"marker\":{\"color\":\"#636efa\",\"symbol\":\"circle\"},\"mode\":\"markers\",\"name\":\"C\",\"orientation\":\"v\",\"showlegend\":true,\"x\":[38387.0,31419.0,13516.0,24815.0,27409.0,10156.0,26946.0,28596.0,23334.0,20790.0,14522.0,14437.0,10624.0,6215.0],\"xaxis\":\"x\",\"y\":[17440.0,23924.0,10444.0,11607.0,16212.0,4167.0,13748.0,13099.0,14715.0,10497.0,21620.0,14464.0,13769.0,4923.0],\"yaxis\":\"y\",\"type\":\"scatter\"},{\"hovertemplate\":\"\\u003cb\\u003e%{hovertext}\\u003c\\u002fb\\u003e\\u003cbr\\u003e\\u003cbr\\u003ePos=G\\u003cbr\\u003ePts=%{x}\\u003cbr\\u003eReb=%{y}\\u003cextra\\u003e\\u003c\\u002fextra\\u003e\",\"hovertext\":[\"Ray Allen\",\"Nate Archibald\",\"Dave Bing\",\"Kobe Bryant \\u2020\",\"Bob Cousy\",\"Stephen Curry\",\"Clyde Drexler\",\"Walt Frazier\",\"George Gervin\",\"Hal Greer \\u2020\",\"James Harden\",\"Allen Iverson\",\"Magic Johnson\",\"Sam Jones\",\"Michael Jordan\",\"Jason Kidd\",\"Damian Lillard\",\"Pete Maravich \\u2020\",\"Reggie Miller\",\"Earl Monroe\",\"Steve Nash\",\"Chris Paul\",\"Gary Payton\",\"Oscar Robertson\",\"Bill Sharman \\u2020\",\"John Stockton\",\"Isiah Thomas\",\"Dwyane Wade\",\"Jerry West\",\"Russell Westbrook\",\"Lenny Wilkens\"],\"legendgroup\":\"G\",\"marker\":{\"color\":\"#EF553B\",\"symbol\":\"circle\"},\"mode\":\"markers\",\"name\":\"G\",\"orientation\":\"v\",\"showlegend\":true,\"x\":[24505.0,16481.0,18327.0,33643.0,16960.0,22841.0,22195.0,15581.0,20708.0,21586.0,22045.0,24368.0,17707.0,15411.0,32292.0,17529.0,16815.0,15948.0,25279.0,17454.0,17387.0,19978.0,21813.0,26710.0,12665.0,19711.0,18822.0,23165.0,25192.0,21857.0,17772.0],\"xaxis\":\"x\",\"y\":[5272.0,2046.0,3420.0,7047.0,4786.0,4355.0,6677.0,4830.0,3607.0,5665.0,4794.0,3394.0,6559.0,4305.0,6672.0,8725.0,2856.0,2747.0,4182.0,2796.0,3642.0,4923.0,5269.0,7804.0,2779.0,4051.0,3478.0,4933.0,5366.0,6961.0,5030.0],\"yaxis\":\"y\",\"type\":\"scatter\"},{\"hovertemplate\":\"\\u003cb\\u003e%{hovertext}\\u003c\\u002fb\\u003e\\u003cbr\\u003e\\u003cbr\\u003ePos=F\\u003cbr\\u003ePts=%{x}\\u003cbr\\u003eReb=%{y}\\u003cextra\\u003e\\u003c\\u002fextra\\u003e\",\"hovertext\":[\"Giannis Antetokounmpo\",\"Carmelo Anthony\",\"Paul Arizin \\u2020\",\"Charles Barkley\",\"Rick Barry\",\"Elgin Baylor \\u2020\",\"Larry Bird\",\"Billy Cunningham\",\"Dave DeBusschere \\u2020\",\"Kevin Durant\",\"Julius Erving\",\"LeBron James\",\"Kawhi Leonard\",\"Jerry Lucas\",\"Karl Malone\",\"Kevin McHale\",\"Dirk Nowitzki\",\"Bob Pettit\",\"Paul Pierce\",\"Scottie Pippen\",\"Dennis Rodman\",\"Dolph Schayes \\u2020\",\"Dominique Wilkins\",\"James Worthy\"],\"legendgroup\":\"F\",\"marker\":{\"color\":\"#00cc96\",\"symbol\":\"circle\"},\"mode\":\"markers\",\"name\":\"F\",\"orientation\":\"v\",\"showlegend\":true,\"x\":[12319.0,27370.0,16266.0,23757.0,18395.0,23149.0,21791.0,13626.0,14053.0,23883.0,18364.0,40017.0,11085.0,14053.0,36928.0,17335.0,31560.0,20880.0,26397.0,18940.0,6683.0,18438.0,26668.0,16320.0],\"xaxis\":\"x\",\"y\":[5371.0,7520.0,6129.0,12546.0,5168.0,11463.0,8974.0,6638.0,9618.0,6239.0,5601.0,10847.0,3689.0,12942.0,14968.0,7122.0,11489.0,12849.0,7527.0,7494.0,11954.0,11256.0,7169.0,4708.0],\"yaxis\":\"y\",\"type\":\"scatter\"},{\"hovertemplate\":\"\\u003cb\\u003e%{hovertext}\\u003c\\u002fb\\u003e\\u003cbr\\u003e\\u003cbr\\u003ePos=F\\u002fC\\u003cbr\\u003ePts=%{x}\\u003cbr\\u003eReb=%{y}\\u003cextra\\u003e\\u003c\\u002fextra\\u003e\",\"hovertext\":[\"Anthony Davis\",\"Tim Duncan\",\"Kevin Garnett\",\"Elvin Hayes\",\"Bob McAdoo\"],\"legendgroup\":\"F\\u002fC\",\"marker\":{\"color\":\"#ab63fa\",\"symbol\":\"circle\"},\"mode\":\"markers\",\"name\":\"F\\u002fC\",\"orientation\":\"v\",\"showlegend\":true,\"x\":[16988.0,26496.0,26071.0,27313.0,18787.0],\"xaxis\":\"x\",\"y\":[7420.0,15091.0,14662.0,16279.0,8048.0],\"yaxis\":\"y\",\"type\":\"scatter\"},{\"hovertemplate\":\"\\u003cb\\u003e%{hovertext}\\u003c\\u002fb\\u003e\\u003cbr\\u003e\\u003cbr\\u003ePos=F\\u002fG\\u003cbr\\u003ePts=%{x}\\u003cbr\\u003eReb=%{y}\\u003cextra\\u003e\\u003c\\u002fextra\\u003e\",\"hovertext\":[\"John Havlicek \\u2020\"],\"legendgroup\":\"F\\u002fG\",\"marker\":{\"color\":\"#FFA15A\",\"symbol\":\"circle\"},\"mode\":\"markers\",\"name\":\"F\\u002fG\",\"orientation\":\"v\",\"showlegend\":true,\"x\":[26395.0],\"xaxis\":\"x\",\"y\":[8007.0],\"yaxis\":\"y\",\"type\":\"scatter\"},{\"hovertemplate\":\"\\u003cb\\u003e%{hovertext}\\u003c\\u002fb\\u003e\\u003cbr\\u003e\\u003cbr\\u003ePos=C\\u002fF\\u003cbr\\u003ePts=%{x}\\u003cbr\\u003eReb=%{y}\\u003cextra\\u003e\\u003c\\u002fextra\\u003e\",\"hovertext\":[\"Willis Reed\"],\"legendgroup\":\"C\\u002fF\",\"marker\":{\"color\":\"#19d3f3\",\"symbol\":\"circle\"},\"mode\":\"markers\",\"name\":\"C\\u002fF\",\"orientation\":\"v\",\"showlegend\":true,\"x\":[12183.0],\"xaxis\":\"x\",\"y\":[8414.0],\"yaxis\":\"y\",\"type\":\"scatter\"}],                        {\"template\":{\"data\":{\"histogram2dcontour\":[{\"type\":\"histogram2dcontour\",\"colorbar\":{\"outlinewidth\":0,\"ticks\":\"\"},\"colorscale\":[[0.0,\"#0d0887\"],[0.1111111111111111,\"#46039f\"],[0.2222222222222222,\"#7201a8\"],[0.3333333333333333,\"#9c179e\"],[0.4444444444444444,\"#bd3786\"],[0.5555555555555556,\"#d8576b\"],[0.6666666666666666,\"#ed7953\"],[0.7777777777777778,\"#fb9f3a\"],[0.8888888888888888,\"#fdca26\"],[1.0,\"#f0f921\"]]}],\"choropleth\":[{\"type\":\"choropleth\",\"colorbar\":{\"outlinewidth\":0,\"ticks\":\"\"}}],\"histogram2d\":[{\"type\":\"histogram2d\",\"colorbar\":{\"outlinewidth\":0,\"ticks\":\"\"},\"colorscale\":[[0.0,\"#0d0887\"],[0.1111111111111111,\"#46039f\"],[0.2222222222222222,\"#7201a8\"],[0.3333333333333333,\"#9c179e\"],[0.4444444444444444,\"#bd3786\"],[0.5555555555555556,\"#d8576b\"],[0.6666666666666666,\"#ed7953\"],[0.7777777777777778,\"#fb9f3a\"],[0.8888888888888888,\"#fdca26\"],[1.0,\"#f0f921\"]]}],\"heatmap\":[{\"type\":\"heatmap\",\"colorbar\":{\"outlinewidth\":0,\"ticks\":\"\"},\"colorscale\":[[0.0,\"#0d0887\"],[0.1111111111111111,\"#46039f\"],[0.2222222222222222,\"#7201a8\"],[0.3333333333333333,\"#9c179e\"],[0.4444444444444444,\"#bd3786\"],[0.5555555555555556,\"#d8576b\"],[0.6666666666666666,\"#ed7953\"],[0.7777777777777778,\"#fb9f3a\"],[0.8888888888888888,\"#fdca26\"],[1.0,\"#f0f921\"]]}],\"heatmapgl\":[{\"type\":\"heatmapgl\",\"colorbar\":{\"outlinewidth\":0,\"ticks\":\"\"},\"colorscale\":[[0.0,\"#0d0887\"],[0.1111111111111111,\"#46039f\"],[0.2222222222222222,\"#7201a8\"],[0.3333333333333333,\"#9c179e\"],[0.4444444444444444,\"#bd3786\"],[0.5555555555555556,\"#d8576b\"],[0.6666666666666666,\"#ed7953\"],[0.7777777777777778,\"#fb9f3a\"],[0.8888888888888888,\"#fdca26\"],[1.0,\"#f0f921\"]]}],\"contourcarpet\":[{\"type\":\"contourcarpet\",\"colorbar\":{\"outlinewidth\":0,\"ticks\":\"\"}}],\"contour\":[{\"type\":\"contour\",\"colorbar\":{\"outlinewidth\":0,\"ticks\":\"\"},\"colorscale\":[[0.0,\"#0d0887\"],[0.1111111111111111,\"#46039f\"],[0.2222222222222222,\"#7201a8\"],[0.3333333333333333,\"#9c179e\"],[0.4444444444444444,\"#bd3786\"],[0.5555555555555556,\"#d8576b\"],[0.6666666666666666,\"#ed7953\"],[0.7777777777777778,\"#fb9f3a\"],[0.8888888888888888,\"#fdca26\"],[1.0,\"#f0f921\"]]}],\"surface\":[{\"type\":\"surface\",\"colorbar\":{\"outlinewidth\":0,\"ticks\":\"\"},\"colorscale\":[[0.0,\"#0d0887\"],[0.1111111111111111,\"#46039f\"],[0.2222222222222222,\"#7201a8\"],[0.3333333333333333,\"#9c179e\"],[0.4444444444444444,\"#bd3786\"],[0.5555555555555556,\"#d8576b\"],[0.6666666666666666,\"#ed7953\"],[0.7777777777777778,\"#fb9f3a\"],[0.8888888888888888,\"#fdca26\"],[1.0,\"#f0f921\"]]}],\"mesh3d\":[{\"type\":\"mesh3d\",\"colorbar\":{\"outlinewidth\":0,\"ticks\":\"\"}}],\"scatter\":[{\"fillpattern\":{\"fillmode\":\"overlay\",\"size\":10,\"solidity\":0.2},\"type\":\"scatter\"}],\"parcoords\":[{\"type\":\"parcoords\",\"line\":{\"colorbar\":{\"outlinewidth\":0,\"ticks\":\"\"}}}],\"scatterpolargl\":[{\"type\":\"scatterpolargl\",\"marker\":{\"colorbar\":{\"outlinewidth\":0,\"ticks\":\"\"}}}],\"bar\":[{\"error_x\":{\"color\":\"#2a3f5f\"},\"error_y\":{\"color\":\"#2a3f5f\"},\"marker\":{\"line\":{\"color\":\"#E5ECF6\",\"width\":0.5},\"pattern\":{\"fillmode\":\"overlay\",\"size\":10,\"solidity\":0.2}},\"type\":\"bar\"}],\"scattergeo\":[{\"type\":\"scattergeo\",\"marker\":{\"colorbar\":{\"outlinewidth\":0,\"ticks\":\"\"}}}],\"scatterpolar\":[{\"type\":\"scatterpolar\",\"marker\":{\"colorbar\":{\"outlinewidth\":0,\"ticks\":\"\"}}}],\"histogram\":[{\"marker\":{\"pattern\":{\"fillmode\":\"overlay\",\"size\":10,\"solidity\":0.2}},\"type\":\"histogram\"}],\"scattergl\":[{\"type\":\"scattergl\",\"marker\":{\"colorbar\":{\"outlinewidth\":0,\"ticks\":\"\"}}}],\"scatter3d\":[{\"type\":\"scatter3d\",\"line\":{\"colorbar\":{\"outlinewidth\":0,\"ticks\":\"\"}},\"marker\":{\"colorbar\":{\"outlinewidth\":0,\"ticks\":\"\"}}}],\"scattermapbox\":[{\"type\":\"scattermapbox\",\"marker\":{\"colorbar\":{\"outlinewidth\":0,\"ticks\":\"\"}}}],\"scatterternary\":[{\"type\":\"scatterternary\",\"marker\":{\"colorbar\":{\"outlinewidth\":0,\"ticks\":\"\"}}}],\"scattercarpet\":[{\"type\":\"scattercarpet\",\"marker\":{\"colorbar\":{\"outlinewidth\":0,\"ticks\":\"\"}}}],\"carpet\":[{\"aaxis\":{\"endlinecolor\":\"#2a3f5f\",\"gridcolor\":\"white\",\"linecolor\":\"white\",\"minorgridcolor\":\"white\",\"startlinecolor\":\"#2a3f5f\"},\"baxis\":{\"endlinecolor\":\"#2a3f5f\",\"gridcolor\":\"white\",\"linecolor\":\"white\",\"minorgridcolor\":\"white\",\"startlinecolor\":\"#2a3f5f\"},\"type\":\"carpet\"}],\"table\":[{\"cells\":{\"fill\":{\"color\":\"#EBF0F8\"},\"line\":{\"color\":\"white\"}},\"header\":{\"fill\":{\"color\":\"#C8D4E3\"},\"line\":{\"color\":\"white\"}},\"type\":\"table\"}],\"barpolar\":[{\"marker\":{\"line\":{\"color\":\"#E5ECF6\",\"width\":0.5},\"pattern\":{\"fillmode\":\"overlay\",\"size\":10,\"solidity\":0.2}},\"type\":\"barpolar\"}],\"pie\":[{\"automargin\":true,\"type\":\"pie\"}]},\"layout\":{\"autotypenumbers\":\"strict\",\"colorway\":[\"#636efa\",\"#EF553B\",\"#00cc96\",\"#ab63fa\",\"#FFA15A\",\"#19d3f3\",\"#FF6692\",\"#B6E880\",\"#FF97FF\",\"#FECB52\"],\"font\":{\"color\":\"#2a3f5f\"},\"hovermode\":\"closest\",\"hoverlabel\":{\"align\":\"left\"},\"paper_bgcolor\":\"white\",\"plot_bgcolor\":\"#E5ECF6\",\"polar\":{\"bgcolor\":\"#E5ECF6\",\"angularaxis\":{\"gridcolor\":\"white\",\"linecolor\":\"white\",\"ticks\":\"\"},\"radialaxis\":{\"gridcolor\":\"white\",\"linecolor\":\"white\",\"ticks\":\"\"}},\"ternary\":{\"bgcolor\":\"#E5ECF6\",\"aaxis\":{\"gridcolor\":\"white\",\"linecolor\":\"white\",\"ticks\":\"\"},\"baxis\":{\"gridcolor\":\"white\",\"linecolor\":\"white\",\"ticks\":\"\"},\"caxis\":{\"gridcolor\":\"white\",\"linecolor\":\"white\",\"ticks\":\"\"}},\"coloraxis\":{\"colorbar\":{\"outlinewidth\":0,\"ticks\":\"\"}},\"colorscale\":{\"sequential\":[[0.0,\"#0d0887\"],[0.1111111111111111,\"#46039f\"],[0.2222222222222222,\"#7201a8\"],[0.3333333333333333,\"#9c179e\"],[0.4444444444444444,\"#bd3786\"],[0.5555555555555556,\"#d8576b\"],[0.6666666666666666,\"#ed7953\"],[0.7777777777777778,\"#fb9f3a\"],[0.8888888888888888,\"#fdca26\"],[1.0,\"#f0f921\"]],\"sequentialminus\":[[0.0,\"#0d0887\"],[0.1111111111111111,\"#46039f\"],[0.2222222222222222,\"#7201a8\"],[0.3333333333333333,\"#9c179e\"],[0.4444444444444444,\"#bd3786\"],[0.5555555555555556,\"#d8576b\"],[0.6666666666666666,\"#ed7953\"],[0.7777777777777778,\"#fb9f3a\"],[0.8888888888888888,\"#fdca26\"],[1.0,\"#f0f921\"]],\"diverging\":[[0,\"#8e0152\"],[0.1,\"#c51b7d\"],[0.2,\"#de77ae\"],[0.3,\"#f1b6da\"],[0.4,\"#fde0ef\"],[0.5,\"#f7f7f7\"],[0.6,\"#e6f5d0\"],[0.7,\"#b8e186\"],[0.8,\"#7fbc41\"],[0.9,\"#4d9221\"],[1,\"#276419\"]]},\"xaxis\":{\"gridcolor\":\"white\",\"linecolor\":\"white\",\"ticks\":\"\",\"title\":{\"standoff\":15},\"zerolinecolor\":\"white\",\"automargin\":true,\"zerolinewidth\":2},\"yaxis\":{\"gridcolor\":\"white\",\"linecolor\":\"white\",\"ticks\":\"\",\"title\":{\"standoff\":15},\"zerolinecolor\":\"white\",\"automargin\":true,\"zerolinewidth\":2},\"scene\":{\"xaxis\":{\"backgroundcolor\":\"#E5ECF6\",\"gridcolor\":\"white\",\"linecolor\":\"white\",\"showbackground\":true,\"ticks\":\"\",\"zerolinecolor\":\"white\",\"gridwidth\":2},\"yaxis\":{\"backgroundcolor\":\"#E5ECF6\",\"gridcolor\":\"white\",\"linecolor\":\"white\",\"showbackground\":true,\"ticks\":\"\",\"zerolinecolor\":\"white\",\"gridwidth\":2},\"zaxis\":{\"backgroundcolor\":\"#E5ECF6\",\"gridcolor\":\"white\",\"linecolor\":\"white\",\"showbackground\":true,\"ticks\":\"\",\"zerolinecolor\":\"white\",\"gridwidth\":2}},\"shapedefaults\":{\"line\":{\"color\":\"#2a3f5f\"}},\"annotationdefaults\":{\"arrowcolor\":\"#2a3f5f\",\"arrowhead\":0,\"arrowwidth\":1},\"geo\":{\"bgcolor\":\"white\",\"landcolor\":\"#E5ECF6\",\"subunitcolor\":\"white\",\"showland\":true,\"showlakes\":true,\"lakecolor\":\"white\"},\"title\":{\"x\":0.05},\"mapbox\":{\"style\":\"light\"}}},\"xaxis\":{\"anchor\":\"y\",\"domain\":[0.0,1.0],\"title\":{\"text\":\"Pts\"}},\"yaxis\":{\"anchor\":\"x\",\"domain\":[0.0,1.0],\"title\":{\"text\":\"Reb\"}},\"legend\":{\"title\":{\"text\":\"Pos\"},\"tracegroupgap\":0},\"margin\":{\"t\":60}},                        {\"responsive\": true}                    ).then(function(){\n",
       "                            \n",
       "var gd = document.getElementById('e214a893-4b14-476e-acc4-ecb0b069427a');\n",
       "var x = new MutationObserver(function (mutations, observer) {{\n",
       "        var display = window.getComputedStyle(gd).display;\n",
       "        if (!display || display === 'none') {{\n",
       "            console.log([gd, 'removed!']);\n",
       "            Plotly.purge(gd);\n",
       "            observer.disconnect();\n",
       "        }}\n",
       "}});\n",
       "\n",
       "// Listen for the removal of the full notebook cells\n",
       "var notebookContainer = gd.closest('#notebook-container');\n",
       "if (notebookContainer) {{\n",
       "    x.observe(notebookContainer, {childList: true});\n",
       "}}\n",
       "\n",
       "// Listen for the clearing of the current output cell\n",
       "var outputEl = gd.closest('.output');\n",
       "if (outputEl) {{\n",
       "    x.observe(outputEl, {childList: true});\n",
       "}}\n",
       "\n",
       "                        })                };                });            </script>        </div>"
      ]
     },
     "metadata": {},
     "output_type": "display_data"
    },
    {
     "data": {
      "application/vnd.plotly.v1+json": {
       "config": {
        "plotlyServerURL": "https://plot.ly"
       },
       "data": [
        {
         "hovertemplate": "<b>%{hovertext}</b><br><br>Pos=C<br>Ast=%{x}<br>Reb=%{y}<extra></extra>",
         "hovertext": [
          "Kareem Abdul-Jabbar",
          "Wilt Chamberlain †",
          "Dave Cowens",
          "Patrick Ewing",
          "Moses Malone †",
          "George Mikan †",
          "Hakeem Olajuwon",
          "Shaquille O'Neal",
          "Robert Parish",
          "David Robinson",
          "Bill Russell",
          "Nate Thurmond †",
          "Wes Unseld †",
          "Bill Walton"
         ],
         "legendgroup": "C",
         "marker": {
          "color": "#636efa",
          "symbol": "circle"
         },
         "mode": "markers",
         "name": "C",
         "orientation": "v",
         "showlegend": true,
         "type": "scatter",
         "x": [
          5660,
          4643,
          2910,
          2215,
          1796,
          1245,
          3058,
          3026,
          2180,
          2441,
          4100,
          2575,
          3822,
          1590
         ],
         "xaxis": "x",
         "y": [
          17440,
          23924,
          10444,
          11607,
          16212,
          4167,
          13748,
          13099,
          14715,
          10497,
          21620,
          14464,
          13769,
          4923
         ],
         "yaxis": "y"
        },
        {
         "hovertemplate": "<b>%{hovertext}</b><br><br>Pos=G<br>Ast=%{x}<br>Reb=%{y}<extra></extra>",
         "hovertext": [
          "Ray Allen",
          "Nate Archibald",
          "Dave Bing",
          "Kobe Bryant †",
          "Bob Cousy",
          "Stephen Curry",
          "Clyde Drexler",
          "Walt Frazier",
          "George Gervin",
          "Hal Greer †",
          "James Harden",
          "Allen Iverson",
          "Magic Johnson",
          "Sam Jones",
          "Michael Jordan",
          "Jason Kidd",
          "Damian Lillard",
          "Pete Maravich †",
          "Reggie Miller",
          "Earl Monroe",
          "Steve Nash",
          "Chris Paul",
          "Gary Payton",
          "Oscar Robertson",
          "Bill Sharman †",
          "John Stockton",
          "Isiah Thomas",
          "Dwyane Wade",
          "Jerry West",
          "Russell Westbrook",
          "Lenny Wilkens"
         ],
         "legendgroup": "G",
         "marker": {
          "color": "#EF553B",
          "symbol": "circle"
         },
         "mode": "markers",
         "name": "G",
         "orientation": "v",
         "showlegend": true,
         "type": "scatter",
         "x": [
          4361,
          6476,
          5397,
          6306,
          6955,
          5945,
          6125,
          5040,
          2214,
          4540,
          5730,
          5624,
          10141,
          2209,
          5633,
          12091,
          4514,
          3563,
          4141,
          3594,
          10335,
          10275,
          8966,
          9887,
          2101,
          15806,
          9061,
          5701,
          6238,
          8061,
          7211
         ],
         "xaxis": "x",
         "y": [
          5272,
          2046,
          3420,
          7047,
          4786,
          4355,
          6677,
          4830,
          3607,
          5665,
          4794,
          3394,
          6559,
          4305,
          6672,
          8725,
          2856,
          2747,
          4182,
          2796,
          3642,
          4923,
          5269,
          7804,
          2779,
          4051,
          3478,
          4933,
          5366,
          6961,
          5030
         ],
         "yaxis": "y"
        },
        {
         "hovertemplate": "<b>%{hovertext}</b><br><br>Pos=F<br>Ast=%{x}<br>Reb=%{y}<extra></extra>",
         "hovertext": [
          "Giannis Antetokounmpo",
          "Carmelo Anthony",
          "Paul Arizin †",
          "Charles Barkley",
          "Rick Barry",
          "Elgin Baylor †",
          "Larry Bird",
          "Billy Cunningham",
          "Dave DeBusschere †",
          "Kevin Durant",
          "Julius Erving",
          "LeBron James",
          "Kawhi Leonard",
          "Jerry Lucas",
          "Karl Malone",
          "Kevin McHale",
          "Dirk Nowitzki",
          "Bob Pettit",
          "Paul Pierce",
          "Scottie Pippen",
          "Dennis Rodman",
          "Dolph Schayes †",
          "Dominique Wilkins",
          "James Worthy"
         ],
         "legendgroup": "F",
         "marker": {
          "color": "#00cc96",
          "symbol": "circle"
         },
         "mode": "markers",
         "name": "F",
         "orientation": "v",
         "showlegend": true,
         "type": "scatter",
         "x": [
          2632,
          3354,
          1665,
          4215,
          4017,
          3650,
          5695,
          2625,
          2497,
          3681,
          3224,
          11046,
          1672,
          2732,
          5248,
          1670,
          3651,
          2369,
          4708,
          6135,
          1600,
          3072,
          2677,
          2791
         ],
         "xaxis": "x",
         "y": [
          5371,
          7520,
          6129,
          12546,
          5168,
          11463,
          8974,
          6638,
          9618,
          6239,
          5601,
          10847,
          3689,
          12942,
          14968,
          7122,
          11489,
          12849,
          7527,
          7494,
          11954,
          11256,
          7169,
          4708
         ],
         "yaxis": "y"
        },
        {
         "hovertemplate": "<b>%{hovertext}</b><br><br>Pos=F/C<br>Ast=%{x}<br>Reb=%{y}<extra></extra>",
         "hovertext": [
          "Anthony Davis",
          "Tim Duncan",
          "Kevin Garnett",
          "Elvin Hayes",
          "Bob McAdoo"
         ],
         "legendgroup": "F/C",
         "marker": {
          "color": "#ab63fa",
          "symbol": "circle"
         },
         "mode": "markers",
         "name": "F/C",
         "orientation": "v",
         "showlegend": true,
         "type": "scatter",
         "x": [
          1732,
          4225,
          5445,
          2398,
          1951
         ],
         "xaxis": "x",
         "y": [
          7420,
          15091,
          14662,
          16279,
          8048
         ],
         "yaxis": "y"
        },
        {
         "hovertemplate": "<b>%{hovertext}</b><br><br>Pos=F/G<br>Ast=%{x}<br>Reb=%{y}<extra></extra>",
         "hovertext": [
          "John Havlicek †"
         ],
         "legendgroup": "F/G",
         "marker": {
          "color": "#FFA15A",
          "symbol": "circle"
         },
         "mode": "markers",
         "name": "F/G",
         "orientation": "v",
         "showlegend": true,
         "type": "scatter",
         "x": [
          6114
         ],
         "xaxis": "x",
         "y": [
          8007
         ],
         "yaxis": "y"
        },
        {
         "hovertemplate": "<b>%{hovertext}</b><br><br>Pos=C/F<br>Ast=%{x}<br>Reb=%{y}<extra></extra>",
         "hovertext": [
          "Willis Reed"
         ],
         "legendgroup": "C/F",
         "marker": {
          "color": "#19d3f3",
          "symbol": "circle"
         },
         "mode": "markers",
         "name": "C/F",
         "orientation": "v",
         "showlegend": true,
         "type": "scatter",
         "x": [
          1186
         ],
         "xaxis": "x",
         "y": [
          8414
         ],
         "yaxis": "y"
        }
       ],
       "layout": {
        "autosize": true,
        "legend": {
         "title": {
          "text": "Pos"
         },
         "tracegroupgap": 0
        },
        "margin": {
         "t": 60
        },
        "template": {
         "data": {
          "bar": [
           {
            "error_x": {
             "color": "#2a3f5f"
            },
            "error_y": {
             "color": "#2a3f5f"
            },
            "marker": {
             "line": {
              "color": "#E5ECF6",
              "width": 0.5
             },
             "pattern": {
              "fillmode": "overlay",
              "size": 10,
              "solidity": 0.2
             }
            },
            "type": "bar"
           }
          ],
          "barpolar": [
           {
            "marker": {
             "line": {
              "color": "#E5ECF6",
              "width": 0.5
             },
             "pattern": {
              "fillmode": "overlay",
              "size": 10,
              "solidity": 0.2
             }
            },
            "type": "barpolar"
           }
          ],
          "carpet": [
           {
            "aaxis": {
             "endlinecolor": "#2a3f5f",
             "gridcolor": "white",
             "linecolor": "white",
             "minorgridcolor": "white",
             "startlinecolor": "#2a3f5f"
            },
            "baxis": {
             "endlinecolor": "#2a3f5f",
             "gridcolor": "white",
             "linecolor": "white",
             "minorgridcolor": "white",
             "startlinecolor": "#2a3f5f"
            },
            "type": "carpet"
           }
          ],
          "choropleth": [
           {
            "colorbar": {
             "outlinewidth": 0,
             "ticks": ""
            },
            "type": "choropleth"
           }
          ],
          "contour": [
           {
            "colorbar": {
             "outlinewidth": 0,
             "ticks": ""
            },
            "colorscale": [
             [
              0,
              "#0d0887"
             ],
             [
              0.1111111111111111,
              "#46039f"
             ],
             [
              0.2222222222222222,
              "#7201a8"
             ],
             [
              0.3333333333333333,
              "#9c179e"
             ],
             [
              0.4444444444444444,
              "#bd3786"
             ],
             [
              0.5555555555555556,
              "#d8576b"
             ],
             [
              0.6666666666666666,
              "#ed7953"
             ],
             [
              0.7777777777777778,
              "#fb9f3a"
             ],
             [
              0.8888888888888888,
              "#fdca26"
             ],
             [
              1,
              "#f0f921"
             ]
            ],
            "type": "contour"
           }
          ],
          "contourcarpet": [
           {
            "colorbar": {
             "outlinewidth": 0,
             "ticks": ""
            },
            "type": "contourcarpet"
           }
          ],
          "heatmap": [
           {
            "colorbar": {
             "outlinewidth": 0,
             "ticks": ""
            },
            "colorscale": [
             [
              0,
              "#0d0887"
             ],
             [
              0.1111111111111111,
              "#46039f"
             ],
             [
              0.2222222222222222,
              "#7201a8"
             ],
             [
              0.3333333333333333,
              "#9c179e"
             ],
             [
              0.4444444444444444,
              "#bd3786"
             ],
             [
              0.5555555555555556,
              "#d8576b"
             ],
             [
              0.6666666666666666,
              "#ed7953"
             ],
             [
              0.7777777777777778,
              "#fb9f3a"
             ],
             [
              0.8888888888888888,
              "#fdca26"
             ],
             [
              1,
              "#f0f921"
             ]
            ],
            "type": "heatmap"
           }
          ],
          "heatmapgl": [
           {
            "colorbar": {
             "outlinewidth": 0,
             "ticks": ""
            },
            "colorscale": [
             [
              0,
              "#0d0887"
             ],
             [
              0.1111111111111111,
              "#46039f"
             ],
             [
              0.2222222222222222,
              "#7201a8"
             ],
             [
              0.3333333333333333,
              "#9c179e"
             ],
             [
              0.4444444444444444,
              "#bd3786"
             ],
             [
              0.5555555555555556,
              "#d8576b"
             ],
             [
              0.6666666666666666,
              "#ed7953"
             ],
             [
              0.7777777777777778,
              "#fb9f3a"
             ],
             [
              0.8888888888888888,
              "#fdca26"
             ],
             [
              1,
              "#f0f921"
             ]
            ],
            "type": "heatmapgl"
           }
          ],
          "histogram": [
           {
            "marker": {
             "pattern": {
              "fillmode": "overlay",
              "size": 10,
              "solidity": 0.2
             }
            },
            "type": "histogram"
           }
          ],
          "histogram2d": [
           {
            "colorbar": {
             "outlinewidth": 0,
             "ticks": ""
            },
            "colorscale": [
             [
              0,
              "#0d0887"
             ],
             [
              0.1111111111111111,
              "#46039f"
             ],
             [
              0.2222222222222222,
              "#7201a8"
             ],
             [
              0.3333333333333333,
              "#9c179e"
             ],
             [
              0.4444444444444444,
              "#bd3786"
             ],
             [
              0.5555555555555556,
              "#d8576b"
             ],
             [
              0.6666666666666666,
              "#ed7953"
             ],
             [
              0.7777777777777778,
              "#fb9f3a"
             ],
             [
              0.8888888888888888,
              "#fdca26"
             ],
             [
              1,
              "#f0f921"
             ]
            ],
            "type": "histogram2d"
           }
          ],
          "histogram2dcontour": [
           {
            "colorbar": {
             "outlinewidth": 0,
             "ticks": ""
            },
            "colorscale": [
             [
              0,
              "#0d0887"
             ],
             [
              0.1111111111111111,
              "#46039f"
             ],
             [
              0.2222222222222222,
              "#7201a8"
             ],
             [
              0.3333333333333333,
              "#9c179e"
             ],
             [
              0.4444444444444444,
              "#bd3786"
             ],
             [
              0.5555555555555556,
              "#d8576b"
             ],
             [
              0.6666666666666666,
              "#ed7953"
             ],
             [
              0.7777777777777778,
              "#fb9f3a"
             ],
             [
              0.8888888888888888,
              "#fdca26"
             ],
             [
              1,
              "#f0f921"
             ]
            ],
            "type": "histogram2dcontour"
           }
          ],
          "mesh3d": [
           {
            "colorbar": {
             "outlinewidth": 0,
             "ticks": ""
            },
            "type": "mesh3d"
           }
          ],
          "parcoords": [
           {
            "line": {
             "colorbar": {
              "outlinewidth": 0,
              "ticks": ""
             }
            },
            "type": "parcoords"
           }
          ],
          "pie": [
           {
            "automargin": true,
            "type": "pie"
           }
          ],
          "scatter": [
           {
            "fillpattern": {
             "fillmode": "overlay",
             "size": 10,
             "solidity": 0.2
            },
            "type": "scatter"
           }
          ],
          "scatter3d": [
           {
            "line": {
             "colorbar": {
              "outlinewidth": 0,
              "ticks": ""
             }
            },
            "marker": {
             "colorbar": {
              "outlinewidth": 0,
              "ticks": ""
             }
            },
            "type": "scatter3d"
           }
          ],
          "scattercarpet": [
           {
            "marker": {
             "colorbar": {
              "outlinewidth": 0,
              "ticks": ""
             }
            },
            "type": "scattercarpet"
           }
          ],
          "scattergeo": [
           {
            "marker": {
             "colorbar": {
              "outlinewidth": 0,
              "ticks": ""
             }
            },
            "type": "scattergeo"
           }
          ],
          "scattergl": [
           {
            "marker": {
             "colorbar": {
              "outlinewidth": 0,
              "ticks": ""
             }
            },
            "type": "scattergl"
           }
          ],
          "scattermapbox": [
           {
            "marker": {
             "colorbar": {
              "outlinewidth": 0,
              "ticks": ""
             }
            },
            "type": "scattermapbox"
           }
          ],
          "scatterpolar": [
           {
            "marker": {
             "colorbar": {
              "outlinewidth": 0,
              "ticks": ""
             }
            },
            "type": "scatterpolar"
           }
          ],
          "scatterpolargl": [
           {
            "marker": {
             "colorbar": {
              "outlinewidth": 0,
              "ticks": ""
             }
            },
            "type": "scatterpolargl"
           }
          ],
          "scatterternary": [
           {
            "marker": {
             "colorbar": {
              "outlinewidth": 0,
              "ticks": ""
             }
            },
            "type": "scatterternary"
           }
          ],
          "surface": [
           {
            "colorbar": {
             "outlinewidth": 0,
             "ticks": ""
            },
            "colorscale": [
             [
              0,
              "#0d0887"
             ],
             [
              0.1111111111111111,
              "#46039f"
             ],
             [
              0.2222222222222222,
              "#7201a8"
             ],
             [
              0.3333333333333333,
              "#9c179e"
             ],
             [
              0.4444444444444444,
              "#bd3786"
             ],
             [
              0.5555555555555556,
              "#d8576b"
             ],
             [
              0.6666666666666666,
              "#ed7953"
             ],
             [
              0.7777777777777778,
              "#fb9f3a"
             ],
             [
              0.8888888888888888,
              "#fdca26"
             ],
             [
              1,
              "#f0f921"
             ]
            ],
            "type": "surface"
           }
          ],
          "table": [
           {
            "cells": {
             "fill": {
              "color": "#EBF0F8"
             },
             "line": {
              "color": "white"
             }
            },
            "header": {
             "fill": {
              "color": "#C8D4E3"
             },
             "line": {
              "color": "white"
             }
            },
            "type": "table"
           }
          ]
         },
         "layout": {
          "annotationdefaults": {
           "arrowcolor": "#2a3f5f",
           "arrowhead": 0,
           "arrowwidth": 1
          },
          "autotypenumbers": "strict",
          "coloraxis": {
           "colorbar": {
            "outlinewidth": 0,
            "ticks": ""
           }
          },
          "colorscale": {
           "diverging": [
            [
             0,
             "#8e0152"
            ],
            [
             0.1,
             "#c51b7d"
            ],
            [
             0.2,
             "#de77ae"
            ],
            [
             0.3,
             "#f1b6da"
            ],
            [
             0.4,
             "#fde0ef"
            ],
            [
             0.5,
             "#f7f7f7"
            ],
            [
             0.6,
             "#e6f5d0"
            ],
            [
             0.7,
             "#b8e186"
            ],
            [
             0.8,
             "#7fbc41"
            ],
            [
             0.9,
             "#4d9221"
            ],
            [
             1,
             "#276419"
            ]
           ],
           "sequential": [
            [
             0,
             "#0d0887"
            ],
            [
             0.1111111111111111,
             "#46039f"
            ],
            [
             0.2222222222222222,
             "#7201a8"
            ],
            [
             0.3333333333333333,
             "#9c179e"
            ],
            [
             0.4444444444444444,
             "#bd3786"
            ],
            [
             0.5555555555555556,
             "#d8576b"
            ],
            [
             0.6666666666666666,
             "#ed7953"
            ],
            [
             0.7777777777777778,
             "#fb9f3a"
            ],
            [
             0.8888888888888888,
             "#fdca26"
            ],
            [
             1,
             "#f0f921"
            ]
           ],
           "sequentialminus": [
            [
             0,
             "#0d0887"
            ],
            [
             0.1111111111111111,
             "#46039f"
            ],
            [
             0.2222222222222222,
             "#7201a8"
            ],
            [
             0.3333333333333333,
             "#9c179e"
            ],
            [
             0.4444444444444444,
             "#bd3786"
            ],
            [
             0.5555555555555556,
             "#d8576b"
            ],
            [
             0.6666666666666666,
             "#ed7953"
            ],
            [
             0.7777777777777778,
             "#fb9f3a"
            ],
            [
             0.8888888888888888,
             "#fdca26"
            ],
            [
             1,
             "#f0f921"
            ]
           ]
          },
          "colorway": [
           "#636efa",
           "#EF553B",
           "#00cc96",
           "#ab63fa",
           "#FFA15A",
           "#19d3f3",
           "#FF6692",
           "#B6E880",
           "#FF97FF",
           "#FECB52"
          ],
          "font": {
           "color": "#2a3f5f"
          },
          "geo": {
           "bgcolor": "white",
           "lakecolor": "white",
           "landcolor": "#E5ECF6",
           "showlakes": true,
           "showland": true,
           "subunitcolor": "white"
          },
          "hoverlabel": {
           "align": "left"
          },
          "hovermode": "closest",
          "mapbox": {
           "style": "light"
          },
          "paper_bgcolor": "white",
          "plot_bgcolor": "#E5ECF6",
          "polar": {
           "angularaxis": {
            "gridcolor": "white",
            "linecolor": "white",
            "ticks": ""
           },
           "bgcolor": "#E5ECF6",
           "radialaxis": {
            "gridcolor": "white",
            "linecolor": "white",
            "ticks": ""
           }
          },
          "scene": {
           "xaxis": {
            "backgroundcolor": "#E5ECF6",
            "gridcolor": "white",
            "gridwidth": 2,
            "linecolor": "white",
            "showbackground": true,
            "ticks": "",
            "zerolinecolor": "white"
           },
           "yaxis": {
            "backgroundcolor": "#E5ECF6",
            "gridcolor": "white",
            "gridwidth": 2,
            "linecolor": "white",
            "showbackground": true,
            "ticks": "",
            "zerolinecolor": "white"
           },
           "zaxis": {
            "backgroundcolor": "#E5ECF6",
            "gridcolor": "white",
            "gridwidth": 2,
            "linecolor": "white",
            "showbackground": true,
            "ticks": "",
            "zerolinecolor": "white"
           }
          },
          "shapedefaults": {
           "line": {
            "color": "#2a3f5f"
           }
          },
          "ternary": {
           "aaxis": {
            "gridcolor": "white",
            "linecolor": "white",
            "ticks": ""
           },
           "baxis": {
            "gridcolor": "white",
            "linecolor": "white",
            "ticks": ""
           },
           "bgcolor": "#E5ECF6",
           "caxis": {
            "gridcolor": "white",
            "linecolor": "white",
            "ticks": ""
           }
          },
          "title": {
           "x": 0.05
          },
          "xaxis": {
           "automargin": true,
           "gridcolor": "white",
           "linecolor": "white",
           "ticks": "",
           "title": {
            "standoff": 15
           },
           "zerolinecolor": "white",
           "zerolinewidth": 2
          },
          "yaxis": {
           "automargin": true,
           "gridcolor": "white",
           "linecolor": "white",
           "ticks": "",
           "title": {
            "standoff": 15
           },
           "zerolinecolor": "white",
           "zerolinewidth": 2
          }
         }
        },
        "xaxis": {
         "anchor": "y",
         "autorange": true,
         "domain": [
          0,
          1
         ],
         "range": [
          298.46043521266074,
          16693.539564787337
         ],
         "title": {
          "text": "Ast"
         },
         "type": "linear"
        },
        "yaxis": {
         "anchor": "x",
         "autorange": true,
         "domain": [
          0,
          1
         ],
         "range": [
          352.03412073490813,
          25617.96587926509
         ],
         "title": {
          "text": "Reb"
         },
         "type": "linear"
        }
       }
      },
      "image/png": "[encoded data removed]",
      "text/html": [
       "<div>                            <div id=\"c22d400b-d8bd-4ddc-9152-8ec81de67350\" class=\"plotly-graph-div\" style=\"height:525px; width:100%;\"></div>            <script type=\"text/javascript\">                require([\"plotly\"], function(Plotly) {                    window.PLOTLYENV=window.PLOTLYENV || {};                                    if (document.getElementById(\"c22d400b-d8bd-4ddc-9152-8ec81de67350\")) {                    Plotly.newPlot(                        \"c22d400b-d8bd-4ddc-9152-8ec81de67350\",                        [{\"hovertemplate\":\"\\u003cb\\u003e%{hovertext}\\u003c\\u002fb\\u003e\\u003cbr\\u003e\\u003cbr\\u003ePos=C\\u003cbr\\u003eAst=%{x}\\u003cbr\\u003eReb=%{y}\\u003cextra\\u003e\\u003c\\u002fextra\\u003e\",\"hovertext\":[\"Kareem Abdul-Jabbar\",\"Wilt Chamberlain \\u2020\",\"Dave Cowens\",\"Patrick Ewing\",\"Moses Malone \\u2020\",\"George Mikan \\u2020\",\"Hakeem Olajuwon\",\"Shaquille O'Neal\",\"Robert Parish\",\"David Robinson\",\"Bill Russell\",\"Nate Thurmond \\u2020\",\"Wes Unseld \\u2020\",\"Bill Walton\"],\"legendgroup\":\"C\",\"marker\":{\"color\":\"#636efa\",\"symbol\":\"circle\"},\"mode\":\"markers\",\"name\":\"C\",\"orientation\":\"v\",\"showlegend\":true,\"x\":[5660.0,4643.0,2910.0,2215.0,1796.0,1245.0,3058.0,3026.0,2180.0,2441.0,4100.0,2575.0,3822.0,1590.0],\"xaxis\":\"x\",\"y\":[17440.0,23924.0,10444.0,11607.0,16212.0,4167.0,13748.0,13099.0,14715.0,10497.0,21620.0,14464.0,13769.0,4923.0],\"yaxis\":\"y\",\"type\":\"scatter\"},{\"hovertemplate\":\"\\u003cb\\u003e%{hovertext}\\u003c\\u002fb\\u003e\\u003cbr\\u003e\\u003cbr\\u003ePos=G\\u003cbr\\u003eAst=%{x}\\u003cbr\\u003eReb=%{y}\\u003cextra\\u003e\\u003c\\u002fextra\\u003e\",\"hovertext\":[\"Ray Allen\",\"Nate Archibald\",\"Dave Bing\",\"Kobe Bryant \\u2020\",\"Bob Cousy\",\"Stephen Curry\",\"Clyde Drexler\",\"Walt Frazier\",\"George Gervin\",\"Hal Greer \\u2020\",\"James Harden\",\"Allen Iverson\",\"Magic Johnson\",\"Sam Jones\",\"Michael Jordan\",\"Jason Kidd\",\"Damian Lillard\",\"Pete Maravich \\u2020\",\"Reggie Miller\",\"Earl Monroe\",\"Steve Nash\",\"Chris Paul\",\"Gary Payton\",\"Oscar Robertson\",\"Bill Sharman \\u2020\",\"John Stockton\",\"Isiah Thomas\",\"Dwyane Wade\",\"Jerry West\",\"Russell Westbrook\",\"Lenny Wilkens\"],\"legendgroup\":\"G\",\"marker\":{\"color\":\"#EF553B\",\"symbol\":\"circle\"},\"mode\":\"markers\",\"name\":\"G\",\"orientation\":\"v\",\"showlegend\":true,\"x\":[4361.0,6476.0,5397.0,6306.0,6955.0,5945.0,6125.0,5040.0,2214.0,4540.0,5730.0,5624.0,10141.0,2209.0,5633.0,12091.0,4514.0,3563.0,4141.0,3594.0,10335.0,10275.0,8966.0,9887.0,2101.0,15806.0,9061.0,5701.0,6238.0,8061.0,7211.0],\"xaxis\":\"x\",\"y\":[5272.0,2046.0,3420.0,7047.0,4786.0,4355.0,6677.0,4830.0,3607.0,5665.0,4794.0,3394.0,6559.0,4305.0,6672.0,8725.0,2856.0,2747.0,4182.0,2796.0,3642.0,4923.0,5269.0,7804.0,2779.0,4051.0,3478.0,4933.0,5366.0,6961.0,5030.0],\"yaxis\":\"y\",\"type\":\"scatter\"},{\"hovertemplate\":\"\\u003cb\\u003e%{hovertext}\\u003c\\u002fb\\u003e\\u003cbr\\u003e\\u003cbr\\u003ePos=F\\u003cbr\\u003eAst=%{x}\\u003cbr\\u003eReb=%{y}\\u003cextra\\u003e\\u003c\\u002fextra\\u003e\",\"hovertext\":[\"Giannis Antetokounmpo\",\"Carmelo Anthony\",\"Paul Arizin \\u2020\",\"Charles Barkley\",\"Rick Barry\",\"Elgin Baylor \\u2020\",\"Larry Bird\",\"Billy Cunningham\",\"Dave DeBusschere \\u2020\",\"Kevin Durant\",\"Julius Erving\",\"LeBron James\",\"Kawhi Leonard\",\"Jerry Lucas\",\"Karl Malone\",\"Kevin McHale\",\"Dirk Nowitzki\",\"Bob Pettit\",\"Paul Pierce\",\"Scottie Pippen\",\"Dennis Rodman\",\"Dolph Schayes \\u2020\",\"Dominique Wilkins\",\"James Worthy\"],\"legendgroup\":\"F\",\"marker\":{\"color\":\"#00cc96\",\"symbol\":\"circle\"},\"mode\":\"markers\",\"name\":\"F\",\"orientation\":\"v\",\"showlegend\":true,\"x\":[2632.0,3354.0,1665.0,4215.0,4017.0,3650.0,5695.0,2625.0,2497.0,3681.0,3224.0,11046.0,1672.0,2732.0,5248.0,1670.0,3651.0,2369.0,4708.0,6135.0,1600.0,3072.0,2677.0,2791.0],\"xaxis\":\"x\",\"y\":[5371.0,7520.0,6129.0,12546.0,5168.0,11463.0,8974.0,6638.0,9618.0,6239.0,5601.0,10847.0,3689.0,12942.0,14968.0,7122.0,11489.0,12849.0,7527.0,7494.0,11954.0,11256.0,7169.0,4708.0],\"yaxis\":\"y\",\"type\":\"scatter\"},{\"hovertemplate\":\"\\u003cb\\u003e%{hovertext}\\u003c\\u002fb\\u003e\\u003cbr\\u003e\\u003cbr\\u003ePos=F\\u002fC\\u003cbr\\u003eAst=%{x}\\u003cbr\\u003eReb=%{y}\\u003cextra\\u003e\\u003c\\u002fextra\\u003e\",\"hovertext\":[\"Anthony Davis\",\"Tim Duncan\",\"Kevin Garnett\",\"Elvin Hayes\",\"Bob McAdoo\"],\"legendgroup\":\"F\\u002fC\",\"marker\":{\"color\":\"#ab63fa\",\"symbol\":\"circle\"},\"mode\":\"markers\",\"name\":\"F\\u002fC\",\"orientation\":\"v\",\"showlegend\":true,\"x\":[1732.0,4225.0,5445.0,2398.0,1951.0],\"xaxis\":\"x\",\"y\":[7420.0,15091.0,14662.0,16279.0,8048.0],\"yaxis\":\"y\",\"type\":\"scatter\"},{\"hovertemplate\":\"\\u003cb\\u003e%{hovertext}\\u003c\\u002fb\\u003e\\u003cbr\\u003e\\u003cbr\\u003ePos=F\\u002fG\\u003cbr\\u003eAst=%{x}\\u003cbr\\u003eReb=%{y}\\u003cextra\\u003e\\u003c\\u002fextra\\u003e\",\"hovertext\":[\"John Havlicek \\u2020\"],\"legendgroup\":\"F\\u002fG\",\"marker\":{\"color\":\"#FFA15A\",\"symbol\":\"circle\"},\"mode\":\"markers\",\"name\":\"F\\u002fG\",\"orientation\":\"v\",\"showlegend\":true,\"x\":[6114.0],\"xaxis\":\"x\",\"y\":[8007.0],\"yaxis\":\"y\",\"type\":\"scatter\"},{\"hovertemplate\":\"\\u003cb\\u003e%{hovertext}\\u003c\\u002fb\\u003e\\u003cbr\\u003e\\u003cbr\\u003ePos=C\\u002fF\\u003cbr\\u003eAst=%{x}\\u003cbr\\u003eReb=%{y}\\u003cextra\\u003e\\u003c\\u002fextra\\u003e\",\"hovertext\":[\"Willis Reed\"],\"legendgroup\":\"C\\u002fF\",\"marker\":{\"color\":\"#19d3f3\",\"symbol\":\"circle\"},\"mode\":\"markers\",\"name\":\"C\\u002fF\",\"orientation\":\"v\",\"showlegend\":true,\"x\":[1186.0],\"xaxis\":\"x\",\"y\":[8414.0],\"yaxis\":\"y\",\"type\":\"scatter\"}],                        {\"template\":{\"data\":{\"histogram2dcontour\":[{\"type\":\"histogram2dcontour\",\"colorbar\":{\"outlinewidth\":0,\"ticks\":\"\"},\"colorscale\":[[0.0,\"#0d0887\"],[0.1111111111111111,\"#46039f\"],[0.2222222222222222,\"#7201a8\"],[0.3333333333333333,\"#9c179e\"],[0.4444444444444444,\"#bd3786\"],[0.5555555555555556,\"#d8576b\"],[0.6666666666666666,\"#ed7953\"],[0.7777777777777778,\"#fb9f3a\"],[0.8888888888888888,\"#fdca26\"],[1.0,\"#f0f921\"]]}],\"choropleth\":[{\"type\":\"choropleth\",\"colorbar\":{\"outlinewidth\":0,\"ticks\":\"\"}}],\"histogram2d\":[{\"type\":\"histogram2d\",\"colorbar\":{\"outlinewidth\":0,\"ticks\":\"\"},\"colorscale\":[[0.0,\"#0d0887\"],[0.1111111111111111,\"#46039f\"],[0.2222222222222222,\"#7201a8\"],[0.3333333333333333,\"#9c179e\"],[0.4444444444444444,\"#bd3786\"],[0.5555555555555556,\"#d8576b\"],[0.6666666666666666,\"#ed7953\"],[0.7777777777777778,\"#fb9f3a\"],[0.8888888888888888,\"#fdca26\"],[1.0,\"#f0f921\"]]}],\"heatmap\":[{\"type\":\"heatmap\",\"colorbar\":{\"outlinewidth\":0,\"ticks\":\"\"},\"colorscale\":[[0.0,\"#0d0887\"],[0.1111111111111111,\"#46039f\"],[0.2222222222222222,\"#7201a8\"],[0.3333333333333333,\"#9c179e\"],[0.4444444444444444,\"#bd3786\"],[0.5555555555555556,\"#d8576b\"],[0.6666666666666666,\"#ed7953\"],[0.7777777777777778,\"#fb9f3a\"],[0.8888888888888888,\"#fdca26\"],[1.0,\"#f0f921\"]]}],\"heatmapgl\":[{\"type\":\"heatmapgl\",\"colorbar\":{\"outlinewidth\":0,\"ticks\":\"\"},\"colorscale\":[[0.0,\"#0d0887\"],[0.1111111111111111,\"#46039f\"],[0.2222222222222222,\"#7201a8\"],[0.3333333333333333,\"#9c179e\"],[0.4444444444444444,\"#bd3786\"],[0.5555555555555556,\"#d8576b\"],[0.6666666666666666,\"#ed7953\"],[0.7777777777777778,\"#fb9f3a\"],[0.8888888888888888,\"#fdca26\"],[1.0,\"#f0f921\"]]}],\"contourcarpet\":[{\"type\":\"contourcarpet\",\"colorbar\":{\"outlinewidth\":0,\"ticks\":\"\"}}],\"contour\":[{\"type\":\"contour\",\"colorbar\":{\"outlinewidth\":0,\"ticks\":\"\"},\"colorscale\":[[0.0,\"#0d0887\"],[0.1111111111111111,\"#46039f\"],[0.2222222222222222,\"#7201a8\"],[0.3333333333333333,\"#9c179e\"],[0.4444444444444444,\"#bd3786\"],[0.5555555555555556,\"#d8576b\"],[0.6666666666666666,\"#ed7953\"],[0.7777777777777778,\"#fb9f3a\"],[0.8888888888888888,\"#fdca26\"],[1.0,\"#f0f921\"]]}],\"surface\":[{\"type\":\"surface\",\"colorbar\":{\"outlinewidth\":0,\"ticks\":\"\"},\"colorscale\":[[0.0,\"#0d0887\"],[0.1111111111111111,\"#46039f\"],[0.2222222222222222,\"#7201a8\"],[0.3333333333333333,\"#9c179e\"],[0.4444444444444444,\"#bd3786\"],[0.5555555555555556,\"#d8576b\"],[0.6666666666666666,\"#ed7953\"],[0.7777777777777778,\"#fb9f3a\"],[0.8888888888888888,\"#fdca26\"],[1.0,\"#f0f921\"]]}],\"mesh3d\":[{\"type\":\"mesh3d\",\"colorbar\":{\"outlinewidth\":0,\"ticks\":\"\"}}],\"scatter\":[{\"fillpattern\":{\"fillmode\":\"overlay\",\"size\":10,\"solidity\":0.2},\"type\":\"scatter\"}],\"parcoords\":[{\"type\":\"parcoords\",\"line\":{\"colorbar\":{\"outlinewidth\":0,\"ticks\":\"\"}}}],\"scatterpolargl\":[{\"type\":\"scatterpolargl\",\"marker\":{\"colorbar\":{\"outlinewidth\":0,\"ticks\":\"\"}}}],\"bar\":[{\"error_x\":{\"color\":\"#2a3f5f\"},\"error_y\":{\"color\":\"#2a3f5f\"},\"marker\":{\"line\":{\"color\":\"#E5ECF6\",\"width\":0.5},\"pattern\":{\"fillmode\":\"overlay\",\"size\":10,\"solidity\":0.2}},\"type\":\"bar\"}],\"scattergeo\":[{\"type\":\"scattergeo\",\"marker\":{\"colorbar\":{\"outlinewidth\":0,\"ticks\":\"\"}}}],\"scatterpolar\":[{\"type\":\"scatterpolar\",\"marker\":{\"colorbar\":{\"outlinewidth\":0,\"ticks\":\"\"}}}],\"histogram\":[{\"marker\":{\"pattern\":{\"fillmode\":\"overlay\",\"size\":10,\"solidity\":0.2}},\"type\":\"histogram\"}],\"scattergl\":[{\"type\":\"scattergl\",\"marker\":{\"colorbar\":{\"outlinewidth\":0,\"ticks\":\"\"}}}],\"scatter3d\":[{\"type\":\"scatter3d\",\"line\":{\"colorbar\":{\"outlinewidth\":0,\"ticks\":\"\"}},\"marker\":{\"colorbar\":{\"outlinewidth\":0,\"ticks\":\"\"}}}],\"scattermapbox\":[{\"type\":\"scattermapbox\",\"marker\":{\"colorbar\":{\"outlinewidth\":0,\"ticks\":\"\"}}}],\"scatterternary\":[{\"type\":\"scatterternary\",\"marker\":{\"colorbar\":{\"outlinewidth\":0,\"ticks\":\"\"}}}],\"scattercarpet\":[{\"type\":\"scattercarpet\",\"marker\":{\"colorbar\":{\"outlinewidth\":0,\"ticks\":\"\"}}}],\"carpet\":[{\"aaxis\":{\"endlinecolor\":\"#2a3f5f\",\"gridcolor\":\"white\",\"linecolor\":\"white\",\"minorgridcolor\":\"white\",\"startlinecolor\":\"#2a3f5f\"},\"baxis\":{\"endlinecolor\":\"#2a3f5f\",\"gridcolor\":\"white\",\"linecolor\":\"white\",\"minorgridcolor\":\"white\",\"startlinecolor\":\"#2a3f5f\"},\"type\":\"carpet\"}],\"table\":[{\"cells\":{\"fill\":{\"color\":\"#EBF0F8\"},\"line\":{\"color\":\"white\"}},\"header\":{\"fill\":{\"color\":\"#C8D4E3\"},\"line\":{\"color\":\"white\"}},\"type\":\"table\"}],\"barpolar\":[{\"marker\":{\"line\":{\"color\":\"#E5ECF6\",\"width\":0.5},\"pattern\":{\"fillmode\":\"overlay\",\"size\":10,\"solidity\":0.2}},\"type\":\"barpolar\"}],\"pie\":[{\"automargin\":true,\"type\":\"pie\"}]},\"layout\":{\"autotypenumbers\":\"strict\",\"colorway\":[\"#636efa\",\"#EF553B\",\"#00cc96\",\"#ab63fa\",\"#FFA15A\",\"#19d3f3\",\"#FF6692\",\"#B6E880\",\"#FF97FF\",\"#FECB52\"],\"font\":{\"color\":\"#2a3f5f\"},\"hovermode\":\"closest\",\"hoverlabel\":{\"align\":\"left\"},\"paper_bgcolor\":\"white\",\"plot_bgcolor\":\"#E5ECF6\",\"polar\":{\"bgcolor\":\"#E5ECF6\",\"angularaxis\":{\"gridcolor\":\"white\",\"linecolor\":\"white\",\"ticks\":\"\"},\"radialaxis\":{\"gridcolor\":\"white\",\"linecolor\":\"white\",\"ticks\":\"\"}},\"ternary\":{\"bgcolor\":\"#E5ECF6\",\"aaxis\":{\"gridcolor\":\"white\",\"linecolor\":\"white\",\"ticks\":\"\"},\"baxis\":{\"gridcolor\":\"white\",\"linecolor\":\"white\",\"ticks\":\"\"},\"caxis\":{\"gridcolor\":\"white\",\"linecolor\":\"white\",\"ticks\":\"\"}},\"coloraxis\":{\"colorbar\":{\"outlinewidth\":0,\"ticks\":\"\"}},\"colorscale\":{\"sequential\":[[0.0,\"#0d0887\"],[0.1111111111111111,\"#46039f\"],[0.2222222222222222,\"#7201a8\"],[0.3333333333333333,\"#9c179e\"],[0.4444444444444444,\"#bd3786\"],[0.5555555555555556,\"#d8576b\"],[0.6666666666666666,\"#ed7953\"],[0.7777777777777778,\"#fb9f3a\"],[0.8888888888888888,\"#fdca26\"],[1.0,\"#f0f921\"]],\"sequentialminus\":[[0.0,\"#0d0887\"],[0.1111111111111111,\"#46039f\"],[0.2222222222222222,\"#7201a8\"],[0.3333333333333333,\"#9c179e\"],[0.4444444444444444,\"#bd3786\"],[0.5555555555555556,\"#d8576b\"],[0.6666666666666666,\"#ed7953\"],[0.7777777777777778,\"#fb9f3a\"],[0.8888888888888888,\"#fdca26\"],[1.0,\"#f0f921\"]],\"diverging\":[[0,\"#8e0152\"],[0.1,\"#c51b7d\"],[0.2,\"#de77ae\"],[0.3,\"#f1b6da\"],[0.4,\"#fde0ef\"],[0.5,\"#f7f7f7\"],[0.6,\"#e6f5d0\"],[0.7,\"#b8e186\"],[0.8,\"#7fbc41\"],[0.9,\"#4d9221\"],[1,\"#276419\"]]},\"xaxis\":{\"gridcolor\":\"white\",\"linecolor\":\"white\",\"ticks\":\"\",\"title\":{\"standoff\":15},\"zerolinecolor\":\"white\",\"automargin\":true,\"zerolinewidth\":2},\"yaxis\":{\"gridcolor\":\"white\",\"linecolor\":\"white\",\"ticks\":\"\",\"title\":{\"standoff\":15},\"zerolinecolor\":\"white\",\"automargin\":true,\"zerolinewidth\":2},\"scene\":{\"xaxis\":{\"backgroundcolor\":\"#E5ECF6\",\"gridcolor\":\"white\",\"linecolor\":\"white\",\"showbackground\":true,\"ticks\":\"\",\"zerolinecolor\":\"white\",\"gridwidth\":2},\"yaxis\":{\"backgroundcolor\":\"#E5ECF6\",\"gridcolor\":\"white\",\"linecolor\":\"white\",\"showbackground\":true,\"ticks\":\"\",\"zerolinecolor\":\"white\",\"gridwidth\":2},\"zaxis\":{\"backgroundcolor\":\"#E5ECF6\",\"gridcolor\":\"white\",\"linecolor\":\"white\",\"showbackground\":true,\"ticks\":\"\",\"zerolinecolor\":\"white\",\"gridwidth\":2}},\"shapedefaults\":{\"line\":{\"color\":\"#2a3f5f\"}},\"annotationdefaults\":{\"arrowcolor\":\"#2a3f5f\",\"arrowhead\":0,\"arrowwidth\":1},\"geo\":{\"bgcolor\":\"white\",\"landcolor\":\"#E5ECF6\",\"subunitcolor\":\"white\",\"showland\":true,\"showlakes\":true,\"lakecolor\":\"white\"},\"title\":{\"x\":0.05},\"mapbox\":{\"style\":\"light\"}}},\"xaxis\":{\"anchor\":\"y\",\"domain\":[0.0,1.0],\"title\":{\"text\":\"Ast\"}},\"yaxis\":{\"anchor\":\"x\",\"domain\":[0.0,1.0],\"title\":{\"text\":\"Reb\"}},\"legend\":{\"title\":{\"text\":\"Pos\"},\"tracegroupgap\":0},\"margin\":{\"t\":60}},                        {\"responsive\": true}                    ).then(function(){\n",
       "                            \n",
       "var gd = document.getElementById('c22d400b-d8bd-4ddc-9152-8ec81de67350');\n",
       "var x = new MutationObserver(function (mutations, observer) {{\n",
       "        var display = window.getComputedStyle(gd).display;\n",
       "        if (!display || display === 'none') {{\n",
       "            console.log([gd, 'removed!']);\n",
       "            Plotly.purge(gd);\n",
       "            observer.disconnect();\n",
       "        }}\n",
       "}});\n",
       "\n",
       "// Listen for the removal of the full notebook cells\n",
       "var notebookContainer = gd.closest('#notebook-container');\n",
       "if (notebookContainer) {{\n",
       "    x.observe(notebookContainer, {childList: true});\n",
       "}}\n",
       "\n",
       "// Listen for the clearing of the current output cell\n",
       "var outputEl = gd.closest('.output');\n",
       "if (outputEl) {{\n",
       "    x.observe(outputEl, {childList: true});\n",
       "}}\n",
       "\n",
       "                        })                };                });            </script>        </div>"
      ]
     },
     "metadata": {},
     "output_type": "display_data"
    },
    {
     "data": {
      "application/vnd.plotly.v1+json": {
       "config": {
        "plotlyServerURL": "https://plot.ly"
       },
       "data": [
        {
         "hovertemplate": "<b>%{hovertext}</b><br><br>Pos=C<br>Ast=%{x}<br>Pts=%{y}<extra></extra>",
         "hovertext": [
          "Kareem Abdul-Jabbar",
          "Wilt Chamberlain †",
          "Dave Cowens",
          "Patrick Ewing",
          "Moses Malone †",
          "George Mikan †",
          "Hakeem Olajuwon",
          "Shaquille O'Neal",
          "Robert Parish",
          "David Robinson",
          "Bill Russell",
          "Nate Thurmond †",
          "Wes Unseld †",
          "Bill Walton"
         ],
         "legendgroup": "C",
         "marker": {
          "color": "#636efa",
          "symbol": "circle"
         },
         "mode": "markers",
         "name": "C",
         "orientation": "v",
         "showlegend": true,
         "type": "scatter",
         "x": [
          5660,
          4643,
          2910,
          2215,
          1796,
          1245,
          3058,
          3026,
          2180,
          2441,
          4100,
          2575,
          3822,
          1590
         ],
         "xaxis": "x",
         "y": [
          38387,
          31419,
          13516,
          24815,
          27409,
          10156,
          26946,
          28596,
          23334,
          20790,
          14522,
          14437,
          10624,
          6215
         ],
         "yaxis": "y"
        },
        {
         "hovertemplate": "<b>%{hovertext}</b><br><br>Pos=G<br>Ast=%{x}<br>Pts=%{y}<extra></extra>",
         "hovertext": [
          "Ray Allen",
          "Nate Archibald",
          "Dave Bing",
          "Kobe Bryant †",
          "Bob Cousy",
          "Stephen Curry",
          "Clyde Drexler",
          "Walt Frazier",
          "George Gervin",
          "Hal Greer †",
          "James Harden",
          "Allen Iverson",
          "Magic Johnson",
          "Sam Jones",
          "Michael Jordan",
          "Jason Kidd",
          "Damian Lillard",
          "Pete Maravich †",
          "Reggie Miller",
          "Earl Monroe",
          "Steve Nash",
          "Chris Paul",
          "Gary Payton",
          "Oscar Robertson",
          "Bill Sharman †",
          "John Stockton",
          "Isiah Thomas",
          "Dwyane Wade",
          "Jerry West",
          "Russell Westbrook",
          "Lenny Wilkens"
         ],
         "legendgroup": "G",
         "marker": {
          "color": "#EF553B",
          "symbol": "circle"
         },
         "mode": "markers",
         "name": "G",
         "orientation": "v",
         "showlegend": true,
         "type": "scatter",
         "x": [
          4361,
          6476,
          5397,
          6306,
          6955,
          5945,
          6125,
          5040,
          2214,
          4540,
          5730,
          5624,
          10141,
          2209,
          5633,
          12091,
          4514,
          3563,
          4141,
          3594,
          10335,
          10275,
          8966,
          9887,
          2101,
          15806,
          9061,
          5701,
          6238,
          8061,
          7211
         ],
         "xaxis": "x",
         "y": [
          24505,
          16481,
          18327,
          33643,
          16960,
          22841,
          22195,
          15581,
          20708,
          21586,
          22045,
          24368,
          17707,
          15411,
          32292,
          17529,
          16815,
          15948,
          25279,
          17454,
          17387,
          19978,
          21813,
          26710,
          12665,
          19711,
          18822,
          23165,
          25192,
          21857,
          17772
         ],
         "yaxis": "y"
        },
        {
         "hovertemplate": "<b>%{hovertext}</b><br><br>Pos=F<br>Ast=%{x}<br>Pts=%{y}<extra></extra>",
         "hovertext": [
          "Giannis Antetokounmpo",
          "Carmelo Anthony",
          "Paul Arizin †",
          "Charles Barkley",
          "Rick Barry",
          "Elgin Baylor †",
          "Larry Bird",
          "Billy Cunningham",
          "Dave DeBusschere †",
          "Kevin Durant",
          "Julius Erving",
          "LeBron James",
          "Kawhi Leonard",
          "Jerry Lucas",
          "Karl Malone",
          "Kevin McHale",
          "Dirk Nowitzki",
          "Bob Pettit",
          "Paul Pierce",
          "Scottie Pippen",
          "Dennis Rodman",
          "Dolph Schayes †",
          "Dominique Wilkins",
          "James Worthy"
         ],
         "legendgroup": "F",
         "marker": {
          "color": "#00cc96",
          "symbol": "circle"
         },
         "mode": "markers",
         "name": "F",
         "orientation": "v",
         "showlegend": true,
         "type": "scatter",
         "x": [
          2632,
          3354,
          1665,
          4215,
          4017,
          3650,
          5695,
          2625,
          2497,
          3681,
          3224,
          11046,
          1672,
          2732,
          5248,
          1670,
          3651,
          2369,
          4708,
          6135,
          1600,
          3072,
          2677,
          2791
         ],
         "xaxis": "x",
         "y": [
          12319,
          27370,
          16266,
          23757,
          18395,
          23149,
          21791,
          13626,
          14053,
          23883,
          18364,
          40017,
          11085,
          14053,
          36928,
          17335,
          31560,
          20880,
          26397,
          18940,
          6683,
          18438,
          26668,
          16320
         ],
         "yaxis": "y"
        },
        {
         "hovertemplate": "<b>%{hovertext}</b><br><br>Pos=F/C<br>Ast=%{x}<br>Pts=%{y}<extra></extra>",
         "hovertext": [
          "Anthony Davis",
          "Tim Duncan",
          "Kevin Garnett",
          "Elvin Hayes",
          "Bob McAdoo"
         ],
         "legendgroup": "F/C",
         "marker": {
          "color": "#ab63fa",
          "symbol": "circle"
         },
         "mode": "markers",
         "name": "F/C",
         "orientation": "v",
         "showlegend": true,
         "type": "scatter",
         "x": [
          1732,
          4225,
          5445,
          2398,
          1951
         ],
         "xaxis": "x",
         "y": [
          16988,
          26496,
          26071,
          27313,
          18787
         ],
         "yaxis": "y"
        },
        {
         "hovertemplate": "<b>%{hovertext}</b><br><br>Pos=F/G<br>Ast=%{x}<br>Pts=%{y}<extra></extra>",
         "hovertext": [
          "John Havlicek †"
         ],
         "legendgroup": "F/G",
         "marker": {
          "color": "#FFA15A",
          "symbol": "circle"
         },
         "mode": "markers",
         "name": "F/G",
         "orientation": "v",
         "showlegend": true,
         "type": "scatter",
         "x": [
          6114
         ],
         "xaxis": "x",
         "y": [
          26395
         ],
         "yaxis": "y"
        },
        {
         "hovertemplate": "<b>%{hovertext}</b><br><br>Pos=C/F<br>Ast=%{x}<br>Pts=%{y}<extra></extra>",
         "hovertext": [
          "Willis Reed"
         ],
         "legendgroup": "C/F",
         "marker": {
          "color": "#19d3f3",
          "symbol": "circle"
         },
         "mode": "markers",
         "name": "C/F",
         "orientation": "v",
         "showlegend": true,
         "type": "scatter",
         "x": [
          1186
         ],
         "xaxis": "x",
         "y": [
          12183
         ],
         "yaxis": "y"
        }
       ],
       "layout": {
        "autosize": true,
        "legend": {
         "title": {
          "text": "Pos"
         },
         "tracegroupgap": 0
        },
        "margin": {
         "t": 60
        },
        "template": {
         "data": {
          "bar": [
           {
            "error_x": {
             "color": "#2a3f5f"
            },
            "error_y": {
             "color": "#2a3f5f"
            },
            "marker": {
             "line": {
              "color": "#E5ECF6",
              "width": 0.5
             },
             "pattern": {
              "fillmode": "overlay",
              "size": 10,
              "solidity": 0.2
             }
            },
            "type": "bar"
           }
          ],
          "barpolar": [
           {
            "marker": {
             "line": {
              "color": "#E5ECF6",
              "width": 0.5
             },
             "pattern": {
              "fillmode": "overlay",
              "size": 10,
              "solidity": 0.2
             }
            },
            "type": "barpolar"
           }
          ],
          "carpet": [
           {
            "aaxis": {
             "endlinecolor": "#2a3f5f",
             "gridcolor": "white",
             "linecolor": "white",
             "minorgridcolor": "white",
             "startlinecolor": "#2a3f5f"
            },
            "baxis": {
             "endlinecolor": "#2a3f5f",
             "gridcolor": "white",
             "linecolor": "white",
             "minorgridcolor": "white",
             "startlinecolor": "#2a3f5f"
            },
            "type": "carpet"
           }
          ],
          "choropleth": [
           {
            "colorbar": {
             "outlinewidth": 0,
             "ticks": ""
            },
            "type": "choropleth"
           }
          ],
          "contour": [
           {
            "colorbar": {
             "outlinewidth": 0,
             "ticks": ""
            },
            "colorscale": [
             [
              0,
              "#0d0887"
             ],
             [
              0.1111111111111111,
              "#46039f"
             ],
             [
              0.2222222222222222,
              "#7201a8"
             ],
             [
              0.3333333333333333,
              "#9c179e"
             ],
             [
              0.4444444444444444,
              "#bd3786"
             ],
             [
              0.5555555555555556,
              "#d8576b"
             ],
             [
              0.6666666666666666,
              "#ed7953"
             ],
             [
              0.7777777777777778,
              "#fb9f3a"
             ],
             [
              0.8888888888888888,
              "#fdca26"
             ],
             [
              1,
              "#f0f921"
             ]
            ],
            "type": "contour"
           }
          ],
          "contourcarpet": [
           {
            "colorbar": {
             "outlinewidth": 0,
             "ticks": ""
            },
            "type": "contourcarpet"
           }
          ],
          "heatmap": [
           {
            "colorbar": {
             "outlinewidth": 0,
             "ticks": ""
            },
            "colorscale": [
             [
              0,
              "#0d0887"
             ],
             [
              0.1111111111111111,
              "#46039f"
             ],
             [
              0.2222222222222222,
              "#7201a8"
             ],
             [
              0.3333333333333333,
              "#9c179e"
             ],
             [
              0.4444444444444444,
              "#bd3786"
             ],
             [
              0.5555555555555556,
              "#d8576b"
             ],
             [
              0.6666666666666666,
              "#ed7953"
             ],
             [
              0.7777777777777778,
              "#fb9f3a"
             ],
             [
              0.8888888888888888,
              "#fdca26"
             ],
             [
              1,
              "#f0f921"
             ]
            ],
            "type": "heatmap"
           }
          ],
          "heatmapgl": [
           {
            "colorbar": {
             "outlinewidth": 0,
             "ticks": ""
            },
            "colorscale": [
             [
              0,
              "#0d0887"
             ],
             [
              0.1111111111111111,
              "#46039f"
             ],
             [
              0.2222222222222222,
              "#7201a8"
             ],
             [
              0.3333333333333333,
              "#9c179e"
             ],
             [
              0.4444444444444444,
              "#bd3786"
             ],
             [
              0.5555555555555556,
              "#d8576b"
             ],
             [
              0.6666666666666666,
              "#ed7953"
             ],
             [
              0.7777777777777778,
              "#fb9f3a"
             ],
             [
              0.8888888888888888,
              "#fdca26"
             ],
             [
              1,
              "#f0f921"
             ]
            ],
            "type": "heatmapgl"
           }
          ],
          "histogram": [
           {
            "marker": {
             "pattern": {
              "fillmode": "overlay",
              "size": 10,
              "solidity": 0.2
             }
            },
            "type": "histogram"
           }
          ],
          "histogram2d": [
           {
            "colorbar": {
             "outlinewidth": 0,
             "ticks": ""
            },
            "colorscale": [
             [
              0,
              "#0d0887"
             ],
             [
              0.1111111111111111,
              "#46039f"
             ],
             [
              0.2222222222222222,
              "#7201a8"
             ],
             [
              0.3333333333333333,
              "#9c179e"
             ],
             [
              0.4444444444444444,
              "#bd3786"
             ],
             [
              0.5555555555555556,
              "#d8576b"
             ],
             [
              0.6666666666666666,
              "#ed7953"
             ],
             [
              0.7777777777777778,
              "#fb9f3a"
             ],
             [
              0.8888888888888888,
              "#fdca26"
             ],
             [
              1,
              "#f0f921"
             ]
            ],
            "type": "histogram2d"
           }
          ],
          "histogram2dcontour": [
           {
            "colorbar": {
             "outlinewidth": 0,
             "ticks": ""
            },
            "colorscale": [
             [
              0,
              "#0d0887"
             ],
             [
              0.1111111111111111,
              "#46039f"
             ],
             [
              0.2222222222222222,
              "#7201a8"
             ],
             [
              0.3333333333333333,
              "#9c179e"
             ],
             [
              0.4444444444444444,
              "#bd3786"
             ],
             [
              0.5555555555555556,
              "#d8576b"
             ],
             [
              0.6666666666666666,
              "#ed7953"
             ],
             [
              0.7777777777777778,
              "#fb9f3a"
             ],
             [
              0.8888888888888888,
              "#fdca26"
             ],
             [
              1,
              "#f0f921"
             ]
            ],
            "type": "histogram2dcontour"
           }
          ],
          "mesh3d": [
           {
            "colorbar": {
             "outlinewidth": 0,
             "ticks": ""
            },
            "type": "mesh3d"
           }
          ],
          "parcoords": [
           {
            "line": {
             "colorbar": {
              "outlinewidth": 0,
              "ticks": ""
             }
            },
            "type": "parcoords"
           }
          ],
          "pie": [
           {
            "automargin": true,
            "type": "pie"
           }
          ],
          "scatter": [
           {
            "fillpattern": {
             "fillmode": "overlay",
             "size": 10,
             "solidity": 0.2
            },
            "type": "scatter"
           }
          ],
          "scatter3d": [
           {
            "line": {
             "colorbar": {
              "outlinewidth": 0,
              "ticks": ""
             }
            },
            "marker": {
             "colorbar": {
              "outlinewidth": 0,
              "ticks": ""
             }
            },
            "type": "scatter3d"
           }
          ],
          "scattercarpet": [
           {
            "marker": {
             "colorbar": {
              "outlinewidth": 0,
              "ticks": ""
             }
            },
            "type": "scattercarpet"
           }
          ],
          "scattergeo": [
           {
            "marker": {
             "colorbar": {
              "outlinewidth": 0,
              "ticks": ""
             }
            },
            "type": "scattergeo"
           }
          ],
          "scattergl": [
           {
            "marker": {
             "colorbar": {
              "outlinewidth": 0,
              "ticks": ""
             }
            },
            "type": "scattergl"
           }
          ],
          "scattermapbox": [
           {
            "marker": {
             "colorbar": {
              "outlinewidth": 0,
              "ticks": ""
             }
            },
            "type": "scattermapbox"
           }
          ],
          "scatterpolar": [
           {
            "marker": {
             "colorbar": {
              "outlinewidth": 0,
              "ticks": ""
             }
            },
            "type": "scatterpolar"
           }
          ],
          "scatterpolargl": [
           {
            "marker": {
             "colorbar": {
              "outlinewidth": 0,
              "ticks": ""
             }
            },
            "type": "scatterpolargl"
           }
          ],
          "scatterternary": [
           {
            "marker": {
             "colorbar": {
              "outlinewidth": 0,
              "ticks": ""
             }
            },
            "type": "scatterternary"
           }
          ],
          "surface": [
           {
            "colorbar": {
             "outlinewidth": 0,
             "ticks": ""
            },
            "colorscale": [
             [
              0,
              "#0d0887"
             ],
             [
              0.1111111111111111,
              "#46039f"
             ],
             [
              0.2222222222222222,
              "#7201a8"
             ],
             [
              0.3333333333333333,
              "#9c179e"
             ],
             [
              0.4444444444444444,
              "#bd3786"
             ],
             [
              0.5555555555555556,
              "#d8576b"
             ],
             [
              0.6666666666666666,
              "#ed7953"
             ],
             [
              0.7777777777777778,
              "#fb9f3a"
             ],
             [
              0.8888888888888888,
              "#fdca26"
             ],
             [
              1,
              "#f0f921"
             ]
            ],
            "type": "surface"
           }
          ],
          "table": [
           {
            "cells": {
             "fill": {
              "color": "#EBF0F8"
             },
             "line": {
              "color": "white"
             }
            },
            "header": {
             "fill": {
              "color": "#C8D4E3"
             },
             "line": {
              "color": "white"
             }
            },
            "type": "table"
           }
          ]
         },
         "layout": {
          "annotationdefaults": {
           "arrowcolor": "#2a3f5f",
           "arrowhead": 0,
           "arrowwidth": 1
          },
          "autotypenumbers": "strict",
          "coloraxis": {
           "colorbar": {
            "outlinewidth": 0,
            "ticks": ""
           }
          },
          "colorscale": {
           "diverging": [
            [
             0,
             "#8e0152"
            ],
            [
             0.1,
             "#c51b7d"
            ],
            [
             0.2,
             "#de77ae"
            ],
            [
             0.3,
             "#f1b6da"
            ],
            [
             0.4,
             "#fde0ef"
            ],
            [
             0.5,
             "#f7f7f7"
            ],
            [
             0.6,
             "#e6f5d0"
            ],
            [
             0.7,
             "#b8e186"
            ],
            [
             0.8,
             "#7fbc41"
            ],
            [
             0.9,
             "#4d9221"
            ],
            [
             1,
             "#276419"
            ]
           ],
           "sequential": [
            [
             0,
             "#0d0887"
            ],
            [
             0.1111111111111111,
             "#46039f"
            ],
            [
             0.2222222222222222,
             "#7201a8"
            ],
            [
             0.3333333333333333,
             "#9c179e"
            ],
            [
             0.4444444444444444,
             "#bd3786"
            ],
            [
             0.5555555555555556,
             "#d8576b"
            ],
            [
             0.6666666666666666,
             "#ed7953"
            ],
            [
             0.7777777777777778,
             "#fb9f3a"
            ],
            [
             0.8888888888888888,
             "#fdca26"
            ],
            [
             1,
             "#f0f921"
            ]
           ],
           "sequentialminus": [
            [
             0,
             "#0d0887"
            ],
            [
             0.1111111111111111,
             "#46039f"
            ],
            [
             0.2222222222222222,
             "#7201a8"
            ],
            [
             0.3333333333333333,
             "#9c179e"
            ],
            [
             0.4444444444444444,
             "#bd3786"
            ],
            [
             0.5555555555555556,
             "#d8576b"
            ],
            [
             0.6666666666666666,
             "#ed7953"
            ],
            [
             0.7777777777777778,
             "#fb9f3a"
            ],
            [
             0.8888888888888888,
             "#fdca26"
            ],
            [
             1,
             "#f0f921"
            ]
           ]
          },
          "colorway": [
           "#636efa",
           "#EF553B",
           "#00cc96",
           "#ab63fa",
           "#FFA15A",
           "#19d3f3",
           "#FF6692",
           "#B6E880",
           "#FF97FF",
           "#FECB52"
          ],
          "font": {
           "color": "#2a3f5f"
          },
          "geo": {
           "bgcolor": "white",
           "lakecolor": "white",
           "landcolor": "#E5ECF6",
           "showlakes": true,
           "showland": true,
           "subunitcolor": "white"
          },
          "hoverlabel": {
           "align": "left"
          },
          "hovermode": "closest",
          "mapbox": {
           "style": "light"
          },
          "paper_bgcolor": "white",
          "plot_bgcolor": "#E5ECF6",
          "polar": {
           "angularaxis": {
            "gridcolor": "white",
            "linecolor": "white",
            "ticks": ""
           },
           "bgcolor": "#E5ECF6",
           "radialaxis": {
            "gridcolor": "white",
            "linecolor": "white",
            "ticks": ""
           }
          },
          "scene": {
           "xaxis": {
            "backgroundcolor": "#E5ECF6",
            "gridcolor": "white",
            "gridwidth": 2,
            "linecolor": "white",
            "showbackground": true,
            "ticks": "",
            "zerolinecolor": "white"
           },
           "yaxis": {
            "backgroundcolor": "#E5ECF6",
            "gridcolor": "white",
            "gridwidth": 2,
            "linecolor": "white",
            "showbackground": true,
            "ticks": "",
            "zerolinecolor": "white"
           },
           "zaxis": {
            "backgroundcolor": "#E5ECF6",
            "gridcolor": "white",
            "gridwidth": 2,
            "linecolor": "white",
            "showbackground": true,
            "ticks": "",
            "zerolinecolor": "white"
           }
          },
          "shapedefaults": {
           "line": {
            "color": "#2a3f5f"
           }
          },
          "ternary": {
           "aaxis": {
            "gridcolor": "white",
            "linecolor": "white",
            "ticks": ""
           },
           "baxis": {
            "gridcolor": "white",
            "linecolor": "white",
            "ticks": ""
           },
           "bgcolor": "#E5ECF6",
           "caxis": {
            "gridcolor": "white",
            "linecolor": "white",
            "ticks": ""
           }
          },
          "title": {
           "x": 0.05
          },
          "xaxis": {
           "automargin": true,
           "gridcolor": "white",
           "linecolor": "white",
           "ticks": "",
           "title": {
            "standoff": 15
           },
           "zerolinecolor": "white",
           "zerolinewidth": 2
          },
          "yaxis": {
           "automargin": true,
           "gridcolor": "white",
           "linecolor": "white",
           "ticks": "",
           "title": {
            "standoff": 15
           },
           "zerolinecolor": "white",
           "zerolinewidth": 2
          }
         }
        },
        "xaxis": {
         "anchor": "y",
         "autorange": true,
         "domain": [
          0,
          1
         ],
         "range": [
          298.46043521266074,
          16693.539564787337
         ],
         "title": {
          "text": "Ast"
         },
         "type": "linear"
        },
        "yaxis": {
         "anchor": "x",
         "autorange": true,
         "domain": [
          0,
          1
         ],
         "range": [
          3597.7847769028867,
          42634.21522309711
         ],
         "title": {
          "text": "Pts"
         },
         "type": "linear"
        }
       }
      },
      "image/png": "[encoded data removed]",
      "text/html": [
       "<div>                            <div id=\"89deda71-7a85-4644-9b6d-d4b40b75bc95\" class=\"plotly-graph-div\" style=\"height:525px; width:100%;\"></div>            <script type=\"text/javascript\">                require([\"plotly\"], function(Plotly) {                    window.PLOTLYENV=window.PLOTLYENV || {};                                    if (document.getElementById(\"89deda71-7a85-4644-9b6d-d4b40b75bc95\")) {                    Plotly.newPlot(                        \"89deda71-7a85-4644-9b6d-d4b40b75bc95\",                        [{\"hovertemplate\":\"\\u003cb\\u003e%{hovertext}\\u003c\\u002fb\\u003e\\u003cbr\\u003e\\u003cbr\\u003ePos=C\\u003cbr\\u003eAst=%{x}\\u003cbr\\u003ePts=%{y}\\u003cextra\\u003e\\u003c\\u002fextra\\u003e\",\"hovertext\":[\"Kareem Abdul-Jabbar\",\"Wilt Chamberlain \\u2020\",\"Dave Cowens\",\"Patrick Ewing\",\"Moses Malone \\u2020\",\"George Mikan \\u2020\",\"Hakeem Olajuwon\",\"Shaquille O'Neal\",\"Robert Parish\",\"David Robinson\",\"Bill Russell\",\"Nate Thurmond \\u2020\",\"Wes Unseld \\u2020\",\"Bill Walton\"],\"legendgroup\":\"C\",\"marker\":{\"color\":\"#636efa\",\"symbol\":\"circle\"},\"mode\":\"markers\",\"name\":\"C\",\"orientation\":\"v\",\"showlegend\":true,\"x\":[5660.0,4643.0,2910.0,2215.0,1796.0,1245.0,3058.0,3026.0,2180.0,2441.0,4100.0,2575.0,3822.0,1590.0],\"xaxis\":\"x\",\"y\":[38387.0,31419.0,13516.0,24815.0,27409.0,10156.0,26946.0,28596.0,23334.0,20790.0,14522.0,14437.0,10624.0,6215.0],\"yaxis\":\"y\",\"type\":\"scatter\"},{\"hovertemplate\":\"\\u003cb\\u003e%{hovertext}\\u003c\\u002fb\\u003e\\u003cbr\\u003e\\u003cbr\\u003ePos=G\\u003cbr\\u003eAst=%{x}\\u003cbr\\u003ePts=%{y}\\u003cextra\\u003e\\u003c\\u002fextra\\u003e\",\"hovertext\":[\"Ray Allen\",\"Nate Archibald\",\"Dave Bing\",\"Kobe Bryant \\u2020\",\"Bob Cousy\",\"Stephen Curry\",\"Clyde Drexler\",\"Walt Frazier\",\"George Gervin\",\"Hal Greer \\u2020\",\"James Harden\",\"Allen Iverson\",\"Magic Johnson\",\"Sam Jones\",\"Michael Jordan\",\"Jason Kidd\",\"Damian Lillard\",\"Pete Maravich \\u2020\",\"Reggie Miller\",\"Earl Monroe\",\"Steve Nash\",\"Chris Paul\",\"Gary Payton\",\"Oscar Robertson\",\"Bill Sharman \\u2020\",\"John Stockton\",\"Isiah Thomas\",\"Dwyane Wade\",\"Jerry West\",\"Russell Westbrook\",\"Lenny Wilkens\"],\"legendgroup\":\"G\",\"marker\":{\"color\":\"#EF553B\",\"symbol\":\"circle\"},\"mode\":\"markers\",\"name\":\"G\",\"orientation\":\"v\",\"showlegend\":true,\"x\":[4361.0,6476.0,5397.0,6306.0,6955.0,5945.0,6125.0,5040.0,2214.0,4540.0,5730.0,5624.0,10141.0,2209.0,5633.0,12091.0,4514.0,3563.0,4141.0,3594.0,10335.0,10275.0,8966.0,9887.0,2101.0,15806.0,9061.0,5701.0,6238.0,8061.0,7211.0],\"xaxis\":\"x\",\"y\":[24505.0,16481.0,18327.0,33643.0,16960.0,22841.0,22195.0,15581.0,20708.0,21586.0,22045.0,24368.0,17707.0,15411.0,32292.0,17529.0,16815.0,15948.0,25279.0,17454.0,17387.0,19978.0,21813.0,26710.0,12665.0,19711.0,18822.0,23165.0,25192.0,21857.0,17772.0],\"yaxis\":\"y\",\"type\":\"scatter\"},{\"hovertemplate\":\"\\u003cb\\u003e%{hovertext}\\u003c\\u002fb\\u003e\\u003cbr\\u003e\\u003cbr\\u003ePos=F\\u003cbr\\u003eAst=%{x}\\u003cbr\\u003ePts=%{y}\\u003cextra\\u003e\\u003c\\u002fextra\\u003e\",\"hovertext\":[\"Giannis Antetokounmpo\",\"Carmelo Anthony\",\"Paul Arizin \\u2020\",\"Charles Barkley\",\"Rick Barry\",\"Elgin Baylor \\u2020\",\"Larry Bird\",\"Billy Cunningham\",\"Dave DeBusschere \\u2020\",\"Kevin Durant\",\"Julius Erving\",\"LeBron James\",\"Kawhi Leonard\",\"Jerry Lucas\",\"Karl Malone\",\"Kevin McHale\",\"Dirk Nowitzki\",\"Bob Pettit\",\"Paul Pierce\",\"Scottie Pippen\",\"Dennis Rodman\",\"Dolph Schayes \\u2020\",\"Dominique Wilkins\",\"James Worthy\"],\"legendgroup\":\"F\",\"marker\":{\"color\":\"#00cc96\",\"symbol\":\"circle\"},\"mode\":\"markers\",\"name\":\"F\",\"orientation\":\"v\",\"showlegend\":true,\"x\":[2632.0,3354.0,1665.0,4215.0,4017.0,3650.0,5695.0,2625.0,2497.0,3681.0,3224.0,11046.0,1672.0,2732.0,5248.0,1670.0,3651.0,2369.0,4708.0,6135.0,1600.0,3072.0,2677.0,2791.0],\"xaxis\":\"x\",\"y\":[12319.0,27370.0,16266.0,23757.0,18395.0,23149.0,21791.0,13626.0,14053.0,23883.0,18364.0,40017.0,11085.0,14053.0,36928.0,17335.0,31560.0,20880.0,26397.0,18940.0,6683.0,18438.0,26668.0,16320.0],\"yaxis\":\"y\",\"type\":\"scatter\"},{\"hovertemplate\":\"\\u003cb\\u003e%{hovertext}\\u003c\\u002fb\\u003e\\u003cbr\\u003e\\u003cbr\\u003ePos=F\\u002fC\\u003cbr\\u003eAst=%{x}\\u003cbr\\u003ePts=%{y}\\u003cextra\\u003e\\u003c\\u002fextra\\u003e\",\"hovertext\":[\"Anthony Davis\",\"Tim Duncan\",\"Kevin Garnett\",\"Elvin Hayes\",\"Bob McAdoo\"],\"legendgroup\":\"F\\u002fC\",\"marker\":{\"color\":\"#ab63fa\",\"symbol\":\"circle\"},\"mode\":\"markers\",\"name\":\"F\\u002fC\",\"orientation\":\"v\",\"showlegend\":true,\"x\":[1732.0,4225.0,5445.0,2398.0,1951.0],\"xaxis\":\"x\",\"y\":[16988.0,26496.0,26071.0,27313.0,18787.0],\"yaxis\":\"y\",\"type\":\"scatter\"},{\"hovertemplate\":\"\\u003cb\\u003e%{hovertext}\\u003c\\u002fb\\u003e\\u003cbr\\u003e\\u003cbr\\u003ePos=F\\u002fG\\u003cbr\\u003eAst=%{x}\\u003cbr\\u003ePts=%{y}\\u003cextra\\u003e\\u003c\\u002fextra\\u003e\",\"hovertext\":[\"John Havlicek \\u2020\"],\"legendgroup\":\"F\\u002fG\",\"marker\":{\"color\":\"#FFA15A\",\"symbol\":\"circle\"},\"mode\":\"markers\",\"name\":\"F\\u002fG\",\"orientation\":\"v\",\"showlegend\":true,\"x\":[6114.0],\"xaxis\":\"x\",\"y\":[26395.0],\"yaxis\":\"y\",\"type\":\"scatter\"},{\"hovertemplate\":\"\\u003cb\\u003e%{hovertext}\\u003c\\u002fb\\u003e\\u003cbr\\u003e\\u003cbr\\u003ePos=C\\u002fF\\u003cbr\\u003eAst=%{x}\\u003cbr\\u003ePts=%{y}\\u003cextra\\u003e\\u003c\\u002fextra\\u003e\",\"hovertext\":[\"Willis Reed\"],\"legendgroup\":\"C\\u002fF\",\"marker\":{\"color\":\"#19d3f3\",\"symbol\":\"circle\"},\"mode\":\"markers\",\"name\":\"C\\u002fF\",\"orientation\":\"v\",\"showlegend\":true,\"x\":[1186.0],\"xaxis\":\"x\",\"y\":[12183.0],\"yaxis\":\"y\",\"type\":\"scatter\"}],                        {\"template\":{\"data\":{\"histogram2dcontour\":[{\"type\":\"histogram2dcontour\",\"colorbar\":{\"outlinewidth\":0,\"ticks\":\"\"},\"colorscale\":[[0.0,\"#0d0887\"],[0.1111111111111111,\"#46039f\"],[0.2222222222222222,\"#7201a8\"],[0.3333333333333333,\"#9c179e\"],[0.4444444444444444,\"#bd3786\"],[0.5555555555555556,\"#d8576b\"],[0.6666666666666666,\"#ed7953\"],[0.7777777777777778,\"#fb9f3a\"],[0.8888888888888888,\"#fdca26\"],[1.0,\"#f0f921\"]]}],\"choropleth\":[{\"type\":\"choropleth\",\"colorbar\":{\"outlinewidth\":0,\"ticks\":\"\"}}],\"histogram2d\":[{\"type\":\"histogram2d\",\"colorbar\":{\"outlinewidth\":0,\"ticks\":\"\"},\"colorscale\":[[0.0,\"#0d0887\"],[0.1111111111111111,\"#46039f\"],[0.2222222222222222,\"#7201a8\"],[0.3333333333333333,\"#9c179e\"],[0.4444444444444444,\"#bd3786\"],[0.5555555555555556,\"#d8576b\"],[0.6666666666666666,\"#ed7953\"],[0.7777777777777778,\"#fb9f3a\"],[0.8888888888888888,\"#fdca26\"],[1.0,\"#f0f921\"]]}],\"heatmap\":[{\"type\":\"heatmap\",\"colorbar\":{\"outlinewidth\":0,\"ticks\":\"\"},\"colorscale\":[[0.0,\"#0d0887\"],[0.1111111111111111,\"#46039f\"],[0.2222222222222222,\"#7201a8\"],[0.3333333333333333,\"#9c179e\"],[0.4444444444444444,\"#bd3786\"],[0.5555555555555556,\"#d8576b\"],[0.6666666666666666,\"#ed7953\"],[0.7777777777777778,\"#fb9f3a\"],[0.8888888888888888,\"#fdca26\"],[1.0,\"#f0f921\"]]}],\"heatmapgl\":[{\"type\":\"heatmapgl\",\"colorbar\":{\"outlinewidth\":0,\"ticks\":\"\"},\"colorscale\":[[0.0,\"#0d0887\"],[0.1111111111111111,\"#46039f\"],[0.2222222222222222,\"#7201a8\"],[0.3333333333333333,\"#9c179e\"],[0.4444444444444444,\"#bd3786\"],[0.5555555555555556,\"#d8576b\"],[0.6666666666666666,\"#ed7953\"],[0.7777777777777778,\"#fb9f3a\"],[0.8888888888888888,\"#fdca26\"],[1.0,\"#f0f921\"]]}],\"contourcarpet\":[{\"type\":\"contourcarpet\",\"colorbar\":{\"outlinewidth\":0,\"ticks\":\"\"}}],\"contour\":[{\"type\":\"contour\",\"colorbar\":{\"outlinewidth\":0,\"ticks\":\"\"},\"colorscale\":[[0.0,\"#0d0887\"],[0.1111111111111111,\"#46039f\"],[0.2222222222222222,\"#7201a8\"],[0.3333333333333333,\"#9c179e\"],[0.4444444444444444,\"#bd3786\"],[0.5555555555555556,\"#d8576b\"],[0.6666666666666666,\"#ed7953\"],[0.7777777777777778,\"#fb9f3a\"],[0.8888888888888888,\"#fdca26\"],[1.0,\"#f0f921\"]]}],\"surface\":[{\"type\":\"surface\",\"colorbar\":{\"outlinewidth\":0,\"ticks\":\"\"},\"colorscale\":[[0.0,\"#0d0887\"],[0.1111111111111111,\"#46039f\"],[0.2222222222222222,\"#7201a8\"],[0.3333333333333333,\"#9c179e\"],[0.4444444444444444,\"#bd3786\"],[0.5555555555555556,\"#d8576b\"],[0.6666666666666666,\"#ed7953\"],[0.7777777777777778,\"#fb9f3a\"],[0.8888888888888888,\"#fdca26\"],[1.0,\"#f0f921\"]]}],\"mesh3d\":[{\"type\":\"mesh3d\",\"colorbar\":{\"outlinewidth\":0,\"ticks\":\"\"}}],\"scatter\":[{\"fillpattern\":{\"fillmode\":\"overlay\",\"size\":10,\"solidity\":0.2},\"type\":\"scatter\"}],\"parcoords\":[{\"type\":\"parcoords\",\"line\":{\"colorbar\":{\"outlinewidth\":0,\"ticks\":\"\"}}}],\"scatterpolargl\":[{\"type\":\"scatterpolargl\",\"marker\":{\"colorbar\":{\"outlinewidth\":0,\"ticks\":\"\"}}}],\"bar\":[{\"error_x\":{\"color\":\"#2a3f5f\"},\"error_y\":{\"color\":\"#2a3f5f\"},\"marker\":{\"line\":{\"color\":\"#E5ECF6\",\"width\":0.5},\"pattern\":{\"fillmode\":\"overlay\",\"size\":10,\"solidity\":0.2}},\"type\":\"bar\"}],\"scattergeo\":[{\"type\":\"scattergeo\",\"marker\":{\"colorbar\":{\"outlinewidth\":0,\"ticks\":\"\"}}}],\"scatterpolar\":[{\"type\":\"scatterpolar\",\"marker\":{\"colorbar\":{\"outlinewidth\":0,\"ticks\":\"\"}}}],\"histogram\":[{\"marker\":{\"pattern\":{\"fillmode\":\"overlay\",\"size\":10,\"solidity\":0.2}},\"type\":\"histogram\"}],\"scattergl\":[{\"type\":\"scattergl\",\"marker\":{\"colorbar\":{\"outlinewidth\":0,\"ticks\":\"\"}}}],\"scatter3d\":[{\"type\":\"scatter3d\",\"line\":{\"colorbar\":{\"outlinewidth\":0,\"ticks\":\"\"}},\"marker\":{\"colorbar\":{\"outlinewidth\":0,\"ticks\":\"\"}}}],\"scattermapbox\":[{\"type\":\"scattermapbox\",\"marker\":{\"colorbar\":{\"outlinewidth\":0,\"ticks\":\"\"}}}],\"scatterternary\":[{\"type\":\"scatterternary\",\"marker\":{\"colorbar\":{\"outlinewidth\":0,\"ticks\":\"\"}}}],\"scattercarpet\":[{\"type\":\"scattercarpet\",\"marker\":{\"colorbar\":{\"outlinewidth\":0,\"ticks\":\"\"}}}],\"carpet\":[{\"aaxis\":{\"endlinecolor\":\"#2a3f5f\",\"gridcolor\":\"white\",\"linecolor\":\"white\",\"minorgridcolor\":\"white\",\"startlinecolor\":\"#2a3f5f\"},\"baxis\":{\"endlinecolor\":\"#2a3f5f\",\"gridcolor\":\"white\",\"linecolor\":\"white\",\"minorgridcolor\":\"white\",\"startlinecolor\":\"#2a3f5f\"},\"type\":\"carpet\"}],\"table\":[{\"cells\":{\"fill\":{\"color\":\"#EBF0F8\"},\"line\":{\"color\":\"white\"}},\"header\":{\"fill\":{\"color\":\"#C8D4E3\"},\"line\":{\"color\":\"white\"}},\"type\":\"table\"}],\"barpolar\":[{\"marker\":{\"line\":{\"color\":\"#E5ECF6\",\"width\":0.5},\"pattern\":{\"fillmode\":\"overlay\",\"size\":10,\"solidity\":0.2}},\"type\":\"barpolar\"}],\"pie\":[{\"automargin\":true,\"type\":\"pie\"}]},\"layout\":{\"autotypenumbers\":\"strict\",\"colorway\":[\"#636efa\",\"#EF553B\",\"#00cc96\",\"#ab63fa\",\"#FFA15A\",\"#19d3f3\",\"#FF6692\",\"#B6E880\",\"#FF97FF\",\"#FECB52\"],\"font\":{\"color\":\"#2a3f5f\"},\"hovermode\":\"closest\",\"hoverlabel\":{\"align\":\"left\"},\"paper_bgcolor\":\"white\",\"plot_bgcolor\":\"#E5ECF6\",\"polar\":{\"bgcolor\":\"#E5ECF6\",\"angularaxis\":{\"gridcolor\":\"white\",\"linecolor\":\"white\",\"ticks\":\"\"},\"radialaxis\":{\"gridcolor\":\"white\",\"linecolor\":\"white\",\"ticks\":\"\"}},\"ternary\":{\"bgcolor\":\"#E5ECF6\",\"aaxis\":{\"gridcolor\":\"white\",\"linecolor\":\"white\",\"ticks\":\"\"},\"baxis\":{\"gridcolor\":\"white\",\"linecolor\":\"white\",\"ticks\":\"\"},\"caxis\":{\"gridcolor\":\"white\",\"linecolor\":\"white\",\"ticks\":\"\"}},\"coloraxis\":{\"colorbar\":{\"outlinewidth\":0,\"ticks\":\"\"}},\"colorscale\":{\"sequential\":[[0.0,\"#0d0887\"],[0.1111111111111111,\"#46039f\"],[0.2222222222222222,\"#7201a8\"],[0.3333333333333333,\"#9c179e\"],[0.4444444444444444,\"#bd3786\"],[0.5555555555555556,\"#d8576b\"],[0.6666666666666666,\"#ed7953\"],[0.7777777777777778,\"#fb9f3a\"],[0.8888888888888888,\"#fdca26\"],[1.0,\"#f0f921\"]],\"sequentialminus\":[[0.0,\"#0d0887\"],[0.1111111111111111,\"#46039f\"],[0.2222222222222222,\"#7201a8\"],[0.3333333333333333,\"#9c179e\"],[0.4444444444444444,\"#bd3786\"],[0.5555555555555556,\"#d8576b\"],[0.6666666666666666,\"#ed7953\"],[0.7777777777777778,\"#fb9f3a\"],[0.8888888888888888,\"#fdca26\"],[1.0,\"#f0f921\"]],\"diverging\":[[0,\"#8e0152\"],[0.1,\"#c51b7d\"],[0.2,\"#de77ae\"],[0.3,\"#f1b6da\"],[0.4,\"#fde0ef\"],[0.5,\"#f7f7f7\"],[0.6,\"#e6f5d0\"],[0.7,\"#b8e186\"],[0.8,\"#7fbc41\"],[0.9,\"#4d9221\"],[1,\"#276419\"]]},\"xaxis\":{\"gridcolor\":\"white\",\"linecolor\":\"white\",\"ticks\":\"\",\"title\":{\"standoff\":15},\"zerolinecolor\":\"white\",\"automargin\":true,\"zerolinewidth\":2},\"yaxis\":{\"gridcolor\":\"white\",\"linecolor\":\"white\",\"ticks\":\"\",\"title\":{\"standoff\":15},\"zerolinecolor\":\"white\",\"automargin\":true,\"zerolinewidth\":2},\"scene\":{\"xaxis\":{\"backgroundcolor\":\"#E5ECF6\",\"gridcolor\":\"white\",\"linecolor\":\"white\",\"showbackground\":true,\"ticks\":\"\",\"zerolinecolor\":\"white\",\"gridwidth\":2},\"yaxis\":{\"backgroundcolor\":\"#E5ECF6\",\"gridcolor\":\"white\",\"linecolor\":\"white\",\"showbackground\":true,\"ticks\":\"\",\"zerolinecolor\":\"white\",\"gridwidth\":2},\"zaxis\":{\"backgroundcolor\":\"#E5ECF6\",\"gridcolor\":\"white\",\"linecolor\":\"white\",\"showbackground\":true,\"ticks\":\"\",\"zerolinecolor\":\"white\",\"gridwidth\":2}},\"shapedefaults\":{\"line\":{\"color\":\"#2a3f5f\"}},\"annotationdefaults\":{\"arrowcolor\":\"#2a3f5f\",\"arrowhead\":0,\"arrowwidth\":1},\"geo\":{\"bgcolor\":\"white\",\"landcolor\":\"#E5ECF6\",\"subunitcolor\":\"white\",\"showland\":true,\"showlakes\":true,\"lakecolor\":\"white\"},\"title\":{\"x\":0.05},\"mapbox\":{\"style\":\"light\"}}},\"xaxis\":{\"anchor\":\"y\",\"domain\":[0.0,1.0],\"title\":{\"text\":\"Ast\"}},\"yaxis\":{\"anchor\":\"x\",\"domain\":[0.0,1.0],\"title\":{\"text\":\"Pts\"}},\"legend\":{\"title\":{\"text\":\"Pos\"},\"tracegroupgap\":0},\"margin\":{\"t\":60}},                        {\"responsive\": true}                    ).then(function(){\n",
       "                            \n",
       "var gd = document.getElementById('89deda71-7a85-4644-9b6d-d4b40b75bc95');\n",
       "var x = new MutationObserver(function (mutations, observer) {{\n",
       "        var display = window.getComputedStyle(gd).display;\n",
       "        if (!display || display === 'none') {{\n",
       "            console.log([gd, 'removed!']);\n",
       "            Plotly.purge(gd);\n",
       "            observer.disconnect();\n",
       "        }}\n",
       "}});\n",
       "\n",
       "// Listen for the removal of the full notebook cells\n",
       "var notebookContainer = gd.closest('#notebook-container');\n",
       "if (notebookContainer) {{\n",
       "    x.observe(notebookContainer, {childList: true});\n",
       "}}\n",
       "\n",
       "// Listen for the clearing of the current output cell\n",
       "var outputEl = gd.closest('.output');\n",
       "if (outputEl) {{\n",
       "    x.observe(outputEl, {childList: true});\n",
       "}}\n",
       "\n",
       "                        })                };                });            </script>        </div>"
      ]
     },
     "metadata": {},
     "output_type": "display_data"
    }
   ],
   "source": [
    "#visulation of some data \n",
    "\n",
    "# Matplotlib and Seaborn for Visualization\n",
    "#checking the REB & AST \n",
    "import seaborn as sns\n",
    "sns.scatterplot(x='Reb', y='Ast', data=df, hue='Pos')\n",
    "plt.xlabel('Rebounds')\n",
    "plt.ylabel('Assists')\n",
    "plt.title('Rebounds vs. Assists')\n",
    "plt.show()\n",
    "\n",
    "\n",
    "df.groupby('Championships won')['Pos'].value_counts().unstack().plot(kind='bar', stacked=True)\n",
    "plt.xlabel('Number of Championships')\n",
    "plt.ylabel('Frequency')\n",
    "plt.title('Frequency of Championships Won by Position')\n",
    "plt.legend(title='Position')\n",
    "plt.show()\n",
    "\n",
    "\n",
    "# Interactive Visualization (Plotly or Bokeh)\n",
    "# Example:\n",
    "import plotly.express as px\n",
    "fig = px.scatter(df, x='Pts', y='Reb', color='Pos', hover_name='Name')\n",
    "fig.show()\n",
    "\n",
    "fig = px.scatter(df, x='Ast', y='Reb', color='Pos', hover_name='Name')\n",
    "fig.show()\n",
    "\n",
    "fig = px.scatter(df, x='Ast', y='Pts', color='Pos', hover_name='Name')\n",
    "fig.show()\n"
   ]
  },
  {
   "cell_type": "code",
   "execution_count": 264,
   "id": "0746f50c-a189-4369-9b0c-6bea4f66e011",
   "metadata": {},
   "outputs": [],
   "source": [
    "# # Create New Features\n",
    "# # Convert columns to numeric\n",
    "# df['Championships won'] = pd.to_numeric(df['Championships won'], errors='coerce')\n",
    "# df['MVP won'] = pd.to_numeric(df['MVP won'], errors='coerce')\n",
    "# df['Finals MVP won'] = pd.to_numeric(df['Finals MVP won'], errors='coerce')\n",
    "# df['All Star'] = pd.to_numeric(df['All Star'], errors='coerce')\n",
    "# df['All-NBA'] = pd.to_numeric(df['All-NBA'], errors='coerce')\n",
    "# df['Total_Awards'] = df['Championships won'] + df['MVP won'] + df['Finals MVP won'] + df['All Star'] + df['All-NBA']\n",
    "\n",
    "# # Binning/Bucketing\n",
    "# bins = [0, 10, 20, 30, 40, float('inf')]\n",
    "# labels = ['0-10', '11-20', '21-30', '31-40', '40+']\n",
    "# df['Pts_Bin'] = pd.cut(df['Pts'], bins=bins, labels=labels)\n",
    "\n",
    "# # One-Hot Encoding (if needed)\n",
    "# # Example:\n",
    "# df = pd.get_dummies(df, columns=['Pos'], drop_first=True)\n",
    "# df"
   ]
  },
  {
   "cell_type": "code",
   "execution_count": 275,
   "id": "4e418041-a450-49f2-b2e4-bf390182323f",
   "metadata": {},
   "outputs": [
    {
     "name": "stdout",
     "output_type": "stream",
     "text": [
      "T-Statistic: nan, P-Value: nan\n",
      "                            OLS Regression Results                            \n",
      "==============================================================================\n",
      "Dep. Variable:                    Pts   R-squared:                       0.250\n",
      "Model:                            OLS   Adj. R-squared:                  0.230\n",
      "Method:                 Least Squares   F-statistic:                     12.18\n",
      "Date:                Wed, 22 May 2024   Prob (F-statistic):           2.73e-05\n",
      "Time:                        21:06:54   Log-Likelihood:                -767.52\n",
      "No. Observations:                  76   AIC:                             1541.\n",
      "Df Residuals:                      73   BIC:                             1548.\n",
      "Df Model:                           2                                         \n",
      "Covariance Type:            nonrobust                                         \n",
      "==============================================================================\n",
      "                 coef    std err          t      P>|t|      [0.025      0.975]\n",
      "------------------------------------------------------------------------------\n",
      "const       1.167e+04   1992.475      5.857      0.000    7699.135    1.56e+04\n",
      "Reb            0.6299      0.152      4.134      0.000       0.326       0.934\n",
      "Ast            0.8578      0.247      3.476      0.001       0.366       1.350\n",
      "==============================================================================\n",
      "Omnibus:                        0.262   Durbin-Watson:                   1.821\n",
      "Prob(Omnibus):                  0.877   Jarque-Bera (JB):                0.141\n",
      "Skew:                          -0.105   Prob(JB):                        0.932\n",
      "Kurtosis:                       2.978   Cond. No.                     2.98e+04\n",
      "==============================================================================\n",
      "\n",
      "Notes:\n",
      "[1] Standard Errors assume that the covariance matrix of the errors is correctly specified.\n",
      "[2] The condition number is large, 2.98e+04. This might indicate that there are\n",
      "strong multicollinearity or other numerical problems.\n"
     ]
    }
   ],
   "source": [
    "# Hypothesis Testing\n",
    "#here I am checking the Points difference between a Point Guard and  Center\n",
    "#t-statistic measures the difference in means between two position players \n",
    "#p-statistic lmeausres if the it is true that both position players has the same mean.\n",
    "#data seems to be not enough for this analyze, or I couldn't fix this yet \n",
    "from scipy.stats import ttest_ind\n",
    "group1 = df[df['Pos'] == 'PG']['Pts']\n",
    "group2 = df[df['Pos'] == 'C']['Pts']\n",
    "t_stat, p_value = ttest_ind(group1, group2)\n",
    "print(f\"T-Statistic: {t_stat}, P-Value: {p_value}\")\n",
    "\n",
    "# Regression Analysis\n",
    "#checking the differences between points and rebaunds+assists\n",
    "#r-squared is not high so it indicated there is not much of strong relationship bwetween variables\n",
    "import statsmodels.api as sm\n",
    "X = df[['Reb', 'Ast']]\n",
    "y = df['Pts']\n",
    "X = sm.add_constant(X)  # Adding a constant term\n",
    "model = sm.OLS(y, X).fit()\n",
    "print(model.summary())\n"
   ]
  },
  {
   "cell_type": "code",
   "execution_count": 268,
   "id": "e4dde827-2d45-4d41-af92-e3a8dc44252e",
   "metadata": {},
   "outputs": [
    {
     "data": {
      "text/html": [
       "<div>\n",
       "<style scoped>\n",
       "    .dataframe tbody tr th:only-of-type {\n",
       "        vertical-align: middle;\n",
       "    }\n",
       "\n",
       "    .dataframe tbody tr th {\n",
       "        vertical-align: top;\n",
       "    }\n",
       "\n",
       "    .dataframe thead th {\n",
       "        text-align: right;\n",
       "    }\n",
       "</style>\n",
       "<table border=\"1\" class=\"dataframe\">\n",
       "  <thead>\n",
       "    <tr style=\"text-align: right;\">\n",
       "      <th></th>\n",
       "      <th>Name</th>\n",
       "      <th>TPFY</th>\n",
       "      <th>Pos</th>\n",
       "      <th>Pts</th>\n",
       "      <th>Reb</th>\n",
       "      <th>Ast</th>\n",
       "      <th>Championships won</th>\n",
       "      <th>MVP won</th>\n",
       "      <th>Finals MVP won</th>\n",
       "      <th>All Star</th>\n",
       "      <th>All-NBA</th>\n",
       "      <th>HoF Year</th>\n",
       "      <th>Cluster</th>\n",
       "      <th>PCA1</th>\n",
       "      <th>PCA2</th>\n",
       "    </tr>\n",
       "  </thead>\n",
       "  <tbody>\n",
       "    <tr>\n",
       "      <th>0</th>\n",
       "      <td>Kareem Abdul-Jabbar</td>\n",
       "      <td>Milwaukee Bucks (1969–1975)Los Angeles Lakers ...</td>\n",
       "      <td>C</td>\n",
       "      <td>38387.0</td>\n",
       "      <td>17440.0</td>\n",
       "      <td>5660.0</td>\n",
       "      <td>6 (1971, 1980, 1982, 1985, 1987, 1988)</td>\n",
       "      <td>6 (1971, 1972, 1974, 1976, 1977, 1980)</td>\n",
       "      <td>2 (1971, 1985)</td>\n",
       "      <td>19</td>\n",
       "      <td>15</td>\n",
       "      <td>1995</td>\n",
       "      <td>1</td>\n",
       "      <td>19616.472571</td>\n",
       "      <td>2712.642554</td>\n",
       "    </tr>\n",
       "    <tr>\n",
       "      <th>1</th>\n",
       "      <td>Ray Allen</td>\n",
       "      <td>Milwaukee Bucks (1996–2003)Seattle SuperSonics...</td>\n",
       "      <td>G</td>\n",
       "      <td>24505.0</td>\n",
       "      <td>5272.0</td>\n",
       "      <td>4361.0</td>\n",
       "      <td>2 (2008, 2013)</td>\n",
       "      <td>0</td>\n",
       "      <td>0</td>\n",
       "      <td>10</td>\n",
       "      <td>2</td>\n",
       "      <td>2018</td>\n",
       "      <td>0</td>\n",
       "      <td>2338.947991</td>\n",
       "      <td>-3569.164679</td>\n",
       "    </tr>\n",
       "    <tr>\n",
       "      <th>2</th>\n",
       "      <td>Giannis Antetokounmpo</td>\n",
       "      <td>Milwaukee Bucks (2013–2021)</td>\n",
       "      <td>F</td>\n",
       "      <td>12319.0</td>\n",
       "      <td>5371.0</td>\n",
       "      <td>2632.0</td>\n",
       "      <td>1 (2021)</td>\n",
       "      <td>2 (2019, 2020)</td>\n",
       "      <td>1 (2021)</td>\n",
       "      <td>5</td>\n",
       "      <td>5</td>\n",
       "      <td>TBD</td>\n",
       "      <td>2</td>\n",
       "      <td>-9174.245399</td>\n",
       "      <td>672.422417</td>\n",
       "    </tr>\n",
       "    <tr>\n",
       "      <th>3</th>\n",
       "      <td>Carmelo Anthony</td>\n",
       "      <td>Denver Nuggets (2003–2011)New York Knicks (201...</td>\n",
       "      <td>F</td>\n",
       "      <td>27370.0</td>\n",
       "      <td>7520.0</td>\n",
       "      <td>3354.0</td>\n",
       "      <td>0</td>\n",
       "      <td>0</td>\n",
       "      <td>0</td>\n",
       "      <td>10</td>\n",
       "      <td>6</td>\n",
       "      <td>TBD</td>\n",
       "      <td>1</td>\n",
       "      <td>5693.892440</td>\n",
       "      <td>-2040.507166</td>\n",
       "    </tr>\n",
       "    <tr>\n",
       "      <th>4</th>\n",
       "      <td>Nate Archibald</td>\n",
       "      <td>Cincinnati Royals / Kansas City-Omaha / Kansas...</td>\n",
       "      <td>G</td>\n",
       "      <td>16481.0</td>\n",
       "      <td>2046.0</td>\n",
       "      <td>6476.0</td>\n",
       "      <td>1 (1981)</td>\n",
       "      <td>0</td>\n",
       "      <td>0</td>\n",
       "      <td>6</td>\n",
       "      <td>5</td>\n",
       "      <td>1991</td>\n",
       "      <td>0</td>\n",
       "      <td>-6067.530025</td>\n",
       "      <td>-4876.089047</td>\n",
       "    </tr>\n",
       "    <tr>\n",
       "      <th>...</th>\n",
       "      <td>...</td>\n",
       "      <td>...</td>\n",
       "      <td>...</td>\n",
       "      <td>...</td>\n",
       "      <td>...</td>\n",
       "      <td>...</td>\n",
       "      <td>...</td>\n",
       "      <td>...</td>\n",
       "      <td>...</td>\n",
       "      <td>...</td>\n",
       "      <td>...</td>\n",
       "      <td>...</td>\n",
       "      <td>...</td>\n",
       "      <td>...</td>\n",
       "      <td>...</td>\n",
       "    </tr>\n",
       "    <tr>\n",
       "      <th>71</th>\n",
       "      <td>Jerry West</td>\n",
       "      <td>Los Angeles Lakers (1960–1974)</td>\n",
       "      <td>G</td>\n",
       "      <td>25192.0</td>\n",
       "      <td>5366.0</td>\n",
       "      <td>6238.0</td>\n",
       "      <td>1 (1972)</td>\n",
       "      <td>0</td>\n",
       "      <td>1 (1969)</td>\n",
       "      <td>14</td>\n",
       "      <td>12</td>\n",
       "      <td>1980</td>\n",
       "      <td>0</td>\n",
       "      <td>3190.109982</td>\n",
       "      <td>-4369.392890</td>\n",
       "    </tr>\n",
       "    <tr>\n",
       "      <th>72</th>\n",
       "      <td>Russell Westbrook</td>\n",
       "      <td>Oklahoma City Thunder (2008–2019)Houston Rocke...</td>\n",
       "      <td>G</td>\n",
       "      <td>21857.0</td>\n",
       "      <td>6961.0</td>\n",
       "      <td>8061.0</td>\n",
       "      <td>0</td>\n",
       "      <td>1 (2017)</td>\n",
       "      <td>0</td>\n",
       "      <td>9</td>\n",
       "      <td>9</td>\n",
       "      <td>TBD</td>\n",
       "      <td>0</td>\n",
       "      <td>795.238853</td>\n",
       "      <td>-2658.643225</td>\n",
       "    </tr>\n",
       "    <tr>\n",
       "      <th>73</th>\n",
       "      <td>Lenny Wilkens</td>\n",
       "      <td>St. Louis Hawks (1960−1968)Seattle SuperSonics...</td>\n",
       "      <td>G</td>\n",
       "      <td>17772.0</td>\n",
       "      <td>5030.0</td>\n",
       "      <td>7211.0</td>\n",
       "      <td>0</td>\n",
       "      <td>0</td>\n",
       "      <td>0</td>\n",
       "      <td>9</td>\n",
       "      <td>0</td>\n",
       "      <td>1989</td>\n",
       "      <td>0</td>\n",
       "      <td>-3765.506011</td>\n",
       "      <td>-2876.516886</td>\n",
       "    </tr>\n",
       "    <tr>\n",
       "      <th>74</th>\n",
       "      <td>Dominique Wilkins</td>\n",
       "      <td>Atlanta Hawks (1982–1994)Los Angeles Clippers ...</td>\n",
       "      <td>F</td>\n",
       "      <td>26668.0</td>\n",
       "      <td>7169.0</td>\n",
       "      <td>2677.0</td>\n",
       "      <td>0</td>\n",
       "      <td>0</td>\n",
       "      <td>0</td>\n",
       "      <td>9</td>\n",
       "      <td>7</td>\n",
       "      <td>2006</td>\n",
       "      <td>1</td>\n",
       "      <td>4853.470989</td>\n",
       "      <td>-1901.203969</td>\n",
       "    </tr>\n",
       "    <tr>\n",
       "      <th>75</th>\n",
       "      <td>James Worthy</td>\n",
       "      <td>Los Angeles Lakers (1982–1994)</td>\n",
       "      <td>F</td>\n",
       "      <td>16320.0</td>\n",
       "      <td>4708.0</td>\n",
       "      <td>2791.0</td>\n",
       "      <td>3 (1985, 1987, 1988)</td>\n",
       "      <td>0</td>\n",
       "      <td>1 (1988)</td>\n",
       "      <td>7</td>\n",
       "      <td>2</td>\n",
       "      <td>2003</td>\n",
       "      <td>0</td>\n",
       "      <td>-5649.612661</td>\n",
       "      <td>-1129.123759</td>\n",
       "    </tr>\n",
       "  </tbody>\n",
       "</table>\n",
       "<p>76 rows × 15 columns</p>\n",
       "</div>"
      ],
      "text/plain": [
       "                     Name                                               TPFY  \\\n",
       "0     Kareem Abdul-Jabbar  Milwaukee Bucks (1969–1975)Los Angeles Lakers ...   \n",
       "1               Ray Allen  Milwaukee Bucks (1996–2003)Seattle SuperSonics...   \n",
       "2   Giannis Antetokounmpo                        Milwaukee Bucks (2013–2021)   \n",
       "3         Carmelo Anthony  Denver Nuggets (2003–2011)New York Knicks (201...   \n",
       "4          Nate Archibald  Cincinnati Royals / Kansas City-Omaha / Kansas...   \n",
       "..                    ...                                                ...   \n",
       "71             Jerry West                     Los Angeles Lakers (1960–1974)   \n",
       "72      Russell Westbrook  Oklahoma City Thunder (2008–2019)Houston Rocke...   \n",
       "73          Lenny Wilkens  St. Louis Hawks (1960−1968)Seattle SuperSonics...   \n",
       "74      Dominique Wilkins  Atlanta Hawks (1982–1994)Los Angeles Clippers ...   \n",
       "75           James Worthy                     Los Angeles Lakers (1982–1994)   \n",
       "\n",
       "   Pos      Pts      Reb     Ast                       Championships won  \\\n",
       "0    C  38387.0  17440.0  5660.0  6 (1971, 1980, 1982, 1985, 1987, 1988)   \n",
       "1    G  24505.0   5272.0  4361.0                          2 (2008, 2013)   \n",
       "2    F  12319.0   5371.0  2632.0                                1 (2021)   \n",
       "3    F  27370.0   7520.0  3354.0                                       0   \n",
       "4    G  16481.0   2046.0  6476.0                                1 (1981)   \n",
       "..  ..      ...      ...     ...                                     ...   \n",
       "71   G  25192.0   5366.0  6238.0                                1 (1972)   \n",
       "72   G  21857.0   6961.0  8061.0                                       0   \n",
       "73   G  17772.0   5030.0  7211.0                                       0   \n",
       "74   F  26668.0   7169.0  2677.0                                       0   \n",
       "75   F  16320.0   4708.0  2791.0                    3 (1985, 1987, 1988)   \n",
       "\n",
       "                                   MVP won  Finals MVP won  All Star  All-NBA  \\\n",
       "0   6 (1971, 1972, 1974, 1976, 1977, 1980)  2 (1971, 1985)        19       15   \n",
       "1                                        0               0        10        2   \n",
       "2                           2 (2019, 2020)        1 (2021)         5        5   \n",
       "3                                        0               0        10        6   \n",
       "4                                        0               0         6        5   \n",
       "..                                     ...             ...       ...      ...   \n",
       "71                                       0        1 (1969)        14       12   \n",
       "72                                1 (2017)               0         9        9   \n",
       "73                                       0               0         9        0   \n",
       "74                                       0               0         9        7   \n",
       "75                                       0        1 (1988)         7        2   \n",
       "\n",
       "   HoF Year  Cluster          PCA1         PCA2  \n",
       "0      1995        1  19616.472571  2712.642554  \n",
       "1      2018        0   2338.947991 -3569.164679  \n",
       "2       TBD        2  -9174.245399   672.422417  \n",
       "3       TBD        1   5693.892440 -2040.507166  \n",
       "4      1991        0  -6067.530025 -4876.089047  \n",
       "..      ...      ...           ...          ...  \n",
       "71     1980        0   3190.109982 -4369.392890  \n",
       "72      TBD        0    795.238853 -2658.643225  \n",
       "73     1989        0  -3765.506011 -2876.516886  \n",
       "74     2006        1   4853.470989 -1901.203969  \n",
       "75     2003        0  -5649.612661 -1129.123759  \n",
       "\n",
       "[76 rows x 15 columns]"
      ]
     },
     "execution_count": 268,
     "metadata": {},
     "output_type": "execute_result"
    }
   ],
   "source": [
    "# Predictive Modeling / linear regression\n",
    "\n",
    "from sklearn.model_selection import train_test_split\n",
    "from sklearn.linear_model import LinearRegression\n",
    "X = df[['Reb', 'Ast']]\n",
    "y = df['Pts']\n",
    "X_train, X_test, y_train, y_test = train_test_split(X, y, test_size=0.2, random_state=42)\n",
    "model = LinearRegression()\n",
    "model.fit(X_train, y_train)\n",
    "predicted_pts = model.predict(X_test)\n",
    "\n",
    "# Clustering\n",
    "\n",
    "from sklearn.cluster import KMeans\n",
    "kmeans = KMeans(n_clusters=3)\n",
    "df['Cluster'] = kmeans.fit_predict(df[['Pts', 'Reb', 'Ast']])\n",
    "\n",
    "# Dimensionality Reduction\n",
    "#trying to keep the most important information as I selected points, rebaunds and assists\n",
    "from sklearn.decomposition import PCA\n",
    "pca = PCA(n_components=2)\n",
    "components = pca.fit_transform(df[['Pts', 'Reb', 'Ast']])\n",
    "df['PCA1'] = components[:, 0]\n",
    "df['PCA2'] = components[:, 1]\n",
    "df\n"
   ]
  },
  {
   "cell_type": "code",
   "execution_count": 272,
   "id": "2196fa4c-01b0-447c-ba73-f889fa1b8ba6",
   "metadata": {},
   "outputs": [
    {
     "data": {
      "text/html": [
       "<div>\n",
       "<style scoped>\n",
       "    .dataframe tbody tr th:only-of-type {\n",
       "        vertical-align: middle;\n",
       "    }\n",
       "\n",
       "    .dataframe tbody tr th {\n",
       "        vertical-align: top;\n",
       "    }\n",
       "\n",
       "    .dataframe thead th {\n",
       "        text-align: right;\n",
       "    }\n",
       "</style>\n",
       "<table border=\"1\" class=\"dataframe\">\n",
       "  <thead>\n",
       "    <tr style=\"text-align: right;\">\n",
       "      <th></th>\n",
       "      <th>Name</th>\n",
       "      <th>TPFY</th>\n",
       "      <th>Pos</th>\n",
       "      <th>Pts</th>\n",
       "      <th>Reb</th>\n",
       "      <th>Ast</th>\n",
       "      <th>Championships won</th>\n",
       "      <th>MVP won</th>\n",
       "      <th>Finals MVP won</th>\n",
       "      <th>All Star</th>\n",
       "      <th>All-NBA</th>\n",
       "      <th>HoF Year</th>\n",
       "      <th>Cluster</th>\n",
       "      <th>PCA1</th>\n",
       "      <th>PCA2</th>\n",
       "      <th>Name_Length</th>\n",
       "      <th>Name_Sentiment</th>\n",
       "    </tr>\n",
       "  </thead>\n",
       "  <tbody>\n",
       "    <tr>\n",
       "      <th>0</th>\n",
       "      <td>Kareem Abdul-Jabbar</td>\n",
       "      <td>Milwaukee Bucks (1969–1975)Los Angeles Lakers ...</td>\n",
       "      <td>C</td>\n",
       "      <td>38387.0</td>\n",
       "      <td>17440.0</td>\n",
       "      <td>5660.0</td>\n",
       "      <td>6 (1971, 1980, 1982, 1985, 1987, 1988)</td>\n",
       "      <td>6 (1971, 1972, 1974, 1976, 1977, 1980)</td>\n",
       "      <td>2 (1971, 1985)</td>\n",
       "      <td>19</td>\n",
       "      <td>15</td>\n",
       "      <td>1995</td>\n",
       "      <td>1</td>\n",
       "      <td>19616.472571</td>\n",
       "      <td>2712.642554</td>\n",
       "      <td>19</td>\n",
       "      <td>0.000000</td>\n",
       "    </tr>\n",
       "    <tr>\n",
       "      <th>1</th>\n",
       "      <td>Ray Allen</td>\n",
       "      <td>Milwaukee Bucks (1996–2003)Seattle SuperSonics...</td>\n",
       "      <td>G</td>\n",
       "      <td>24505.0</td>\n",
       "      <td>5272.0</td>\n",
       "      <td>4361.0</td>\n",
       "      <td>2 (2008, 2013)</td>\n",
       "      <td>0</td>\n",
       "      <td>0</td>\n",
       "      <td>10</td>\n",
       "      <td>2</td>\n",
       "      <td>2018</td>\n",
       "      <td>0</td>\n",
       "      <td>2338.947991</td>\n",
       "      <td>-3569.164679</td>\n",
       "      <td>9</td>\n",
       "      <td>0.000000</td>\n",
       "    </tr>\n",
       "    <tr>\n",
       "      <th>2</th>\n",
       "      <td>Giannis Antetokounmpo</td>\n",
       "      <td>Milwaukee Bucks (2013–2021)</td>\n",
       "      <td>F</td>\n",
       "      <td>12319.0</td>\n",
       "      <td>5371.0</td>\n",
       "      <td>2632.0</td>\n",
       "      <td>1 (2021)</td>\n",
       "      <td>2 (2019, 2020)</td>\n",
       "      <td>1 (2021)</td>\n",
       "      <td>5</td>\n",
       "      <td>5</td>\n",
       "      <td>TBD</td>\n",
       "      <td>2</td>\n",
       "      <td>-9174.245399</td>\n",
       "      <td>672.422417</td>\n",
       "      <td>21</td>\n",
       "      <td>0.000000</td>\n",
       "    </tr>\n",
       "    <tr>\n",
       "      <th>3</th>\n",
       "      <td>Carmelo Anthony</td>\n",
       "      <td>Denver Nuggets (2003–2011)New York Knicks (201...</td>\n",
       "      <td>F</td>\n",
       "      <td>27370.0</td>\n",
       "      <td>7520.0</td>\n",
       "      <td>3354.0</td>\n",
       "      <td>0</td>\n",
       "      <td>0</td>\n",
       "      <td>0</td>\n",
       "      <td>10</td>\n",
       "      <td>6</td>\n",
       "      <td>TBD</td>\n",
       "      <td>1</td>\n",
       "      <td>5693.892440</td>\n",
       "      <td>-2040.507166</td>\n",
       "      <td>15</td>\n",
       "      <td>0.000000</td>\n",
       "    </tr>\n",
       "    <tr>\n",
       "      <th>4</th>\n",
       "      <td>Nate Archibald</td>\n",
       "      <td>Cincinnati Royals / Kansas City-Omaha / Kansas...</td>\n",
       "      <td>G</td>\n",
       "      <td>16481.0</td>\n",
       "      <td>2046.0</td>\n",
       "      <td>6476.0</td>\n",
       "      <td>1 (1981)</td>\n",
       "      <td>0</td>\n",
       "      <td>0</td>\n",
       "      <td>6</td>\n",
       "      <td>5</td>\n",
       "      <td>1991</td>\n",
       "      <td>0</td>\n",
       "      <td>-6067.530025</td>\n",
       "      <td>-4876.089047</td>\n",
       "      <td>14</td>\n",
       "      <td>0.000000</td>\n",
       "    </tr>\n",
       "    <tr>\n",
       "      <th>...</th>\n",
       "      <td>...</td>\n",
       "      <td>...</td>\n",
       "      <td>...</td>\n",
       "      <td>...</td>\n",
       "      <td>...</td>\n",
       "      <td>...</td>\n",
       "      <td>...</td>\n",
       "      <td>...</td>\n",
       "      <td>...</td>\n",
       "      <td>...</td>\n",
       "      <td>...</td>\n",
       "      <td>...</td>\n",
       "      <td>...</td>\n",
       "      <td>...</td>\n",
       "      <td>...</td>\n",
       "      <td>...</td>\n",
       "      <td>...</td>\n",
       "    </tr>\n",
       "    <tr>\n",
       "      <th>71</th>\n",
       "      <td>Jerry West</td>\n",
       "      <td>Los Angeles Lakers (1960–1974)</td>\n",
       "      <td>G</td>\n",
       "      <td>25192.0</td>\n",
       "      <td>5366.0</td>\n",
       "      <td>6238.0</td>\n",
       "      <td>1 (1972)</td>\n",
       "      <td>0</td>\n",
       "      <td>1 (1969)</td>\n",
       "      <td>14</td>\n",
       "      <td>12</td>\n",
       "      <td>1980</td>\n",
       "      <td>0</td>\n",
       "      <td>3190.109982</td>\n",
       "      <td>-4369.392890</td>\n",
       "      <td>10</td>\n",
       "      <td>0.000000</td>\n",
       "    </tr>\n",
       "    <tr>\n",
       "      <th>72</th>\n",
       "      <td>Russell Westbrook</td>\n",
       "      <td>Oklahoma City Thunder (2008–2019)Houston Rocke...</td>\n",
       "      <td>G</td>\n",
       "      <td>21857.0</td>\n",
       "      <td>6961.0</td>\n",
       "      <td>8061.0</td>\n",
       "      <td>0</td>\n",
       "      <td>1 (2017)</td>\n",
       "      <td>0</td>\n",
       "      <td>9</td>\n",
       "      <td>9</td>\n",
       "      <td>TBD</td>\n",
       "      <td>0</td>\n",
       "      <td>795.238853</td>\n",
       "      <td>-2658.643225</td>\n",
       "      <td>17</td>\n",
       "      <td>0.000000</td>\n",
       "    </tr>\n",
       "    <tr>\n",
       "      <th>73</th>\n",
       "      <td>Lenny Wilkens</td>\n",
       "      <td>St. Louis Hawks (1960−1968)Seattle SuperSonics...</td>\n",
       "      <td>G</td>\n",
       "      <td>17772.0</td>\n",
       "      <td>5030.0</td>\n",
       "      <td>7211.0</td>\n",
       "      <td>0</td>\n",
       "      <td>0</td>\n",
       "      <td>0</td>\n",
       "      <td>9</td>\n",
       "      <td>0</td>\n",
       "      <td>1989</td>\n",
       "      <td>0</td>\n",
       "      <td>-3765.506011</td>\n",
       "      <td>-2876.516886</td>\n",
       "      <td>13</td>\n",
       "      <td>0.000000</td>\n",
       "    </tr>\n",
       "    <tr>\n",
       "      <th>74</th>\n",
       "      <td>Dominique Wilkins</td>\n",
       "      <td>Atlanta Hawks (1982–1994)Los Angeles Clippers ...</td>\n",
       "      <td>F</td>\n",
       "      <td>26668.0</td>\n",
       "      <td>7169.0</td>\n",
       "      <td>2677.0</td>\n",
       "      <td>0</td>\n",
       "      <td>0</td>\n",
       "      <td>0</td>\n",
       "      <td>9</td>\n",
       "      <td>7</td>\n",
       "      <td>2006</td>\n",
       "      <td>1</td>\n",
       "      <td>4853.470989</td>\n",
       "      <td>-1901.203969</td>\n",
       "      <td>17</td>\n",
       "      <td>0.000000</td>\n",
       "    </tr>\n",
       "    <tr>\n",
       "      <th>75</th>\n",
       "      <td>James Worthy</td>\n",
       "      <td>Los Angeles Lakers (1982–1994)</td>\n",
       "      <td>F</td>\n",
       "      <td>16320.0</td>\n",
       "      <td>4708.0</td>\n",
       "      <td>2791.0</td>\n",
       "      <td>3 (1985, 1987, 1988)</td>\n",
       "      <td>0</td>\n",
       "      <td>1 (1988)</td>\n",
       "      <td>7</td>\n",
       "      <td>2</td>\n",
       "      <td>2003</td>\n",
       "      <td>0</td>\n",
       "      <td>-5649.612661</td>\n",
       "      <td>-1129.123759</td>\n",
       "      <td>12</td>\n",
       "      <td>0.333333</td>\n",
       "    </tr>\n",
       "  </tbody>\n",
       "</table>\n",
       "<p>76 rows × 17 columns</p>\n",
       "</div>"
      ],
      "text/plain": [
       "                     Name                                               TPFY  \\\n",
       "0     Kareem Abdul-Jabbar  Milwaukee Bucks (1969–1975)Los Angeles Lakers ...   \n",
       "1               Ray Allen  Milwaukee Bucks (1996–2003)Seattle SuperSonics...   \n",
       "2   Giannis Antetokounmpo                        Milwaukee Bucks (2013–2021)   \n",
       "3         Carmelo Anthony  Denver Nuggets (2003–2011)New York Knicks (201...   \n",
       "4          Nate Archibald  Cincinnati Royals / Kansas City-Omaha / Kansas...   \n",
       "..                    ...                                                ...   \n",
       "71             Jerry West                     Los Angeles Lakers (1960–1974)   \n",
       "72      Russell Westbrook  Oklahoma City Thunder (2008–2019)Houston Rocke...   \n",
       "73          Lenny Wilkens  St. Louis Hawks (1960−1968)Seattle SuperSonics...   \n",
       "74      Dominique Wilkins  Atlanta Hawks (1982–1994)Los Angeles Clippers ...   \n",
       "75           James Worthy                     Los Angeles Lakers (1982–1994)   \n",
       "\n",
       "   Pos      Pts      Reb     Ast                       Championships won  \\\n",
       "0    C  38387.0  17440.0  5660.0  6 (1971, 1980, 1982, 1985, 1987, 1988)   \n",
       "1    G  24505.0   5272.0  4361.0                          2 (2008, 2013)   \n",
       "2    F  12319.0   5371.0  2632.0                                1 (2021)   \n",
       "3    F  27370.0   7520.0  3354.0                                       0   \n",
       "4    G  16481.0   2046.0  6476.0                                1 (1981)   \n",
       "..  ..      ...      ...     ...                                     ...   \n",
       "71   G  25192.0   5366.0  6238.0                                1 (1972)   \n",
       "72   G  21857.0   6961.0  8061.0                                       0   \n",
       "73   G  17772.0   5030.0  7211.0                                       0   \n",
       "74   F  26668.0   7169.0  2677.0                                       0   \n",
       "75   F  16320.0   4708.0  2791.0                    3 (1985, 1987, 1988)   \n",
       "\n",
       "                                   MVP won  Finals MVP won  All Star  All-NBA  \\\n",
       "0   6 (1971, 1972, 1974, 1976, 1977, 1980)  2 (1971, 1985)        19       15   \n",
       "1                                        0               0        10        2   \n",
       "2                           2 (2019, 2020)        1 (2021)         5        5   \n",
       "3                                        0               0        10        6   \n",
       "4                                        0               0         6        5   \n",
       "..                                     ...             ...       ...      ...   \n",
       "71                                       0        1 (1969)        14       12   \n",
       "72                                1 (2017)               0         9        9   \n",
       "73                                       0               0         9        0   \n",
       "74                                       0               0         9        7   \n",
       "75                                       0        1 (1988)         7        2   \n",
       "\n",
       "   HoF Year  Cluster          PCA1         PCA2  Name_Length  Name_Sentiment  \n",
       "0      1995        1  19616.472571  2712.642554           19        0.000000  \n",
       "1      2018        0   2338.947991 -3569.164679            9        0.000000  \n",
       "2       TBD        2  -9174.245399   672.422417           21        0.000000  \n",
       "3       TBD        1   5693.892440 -2040.507166           15        0.000000  \n",
       "4      1991        0  -6067.530025 -4876.089047           14        0.000000  \n",
       "..      ...      ...           ...          ...          ...             ...  \n",
       "71     1980        0   3190.109982 -4369.392890           10        0.000000  \n",
       "72      TBD        0    795.238853 -2658.643225           17        0.000000  \n",
       "73     1989        0  -3765.506011 -2876.516886           13        0.000000  \n",
       "74     2006        1   4853.470989 -1901.203969           17        0.000000  \n",
       "75     2003        0  -5649.612661 -1129.123759           12        0.333333  \n",
       "\n",
       "[76 rows x 17 columns]"
      ]
     },
     "execution_count": 272,
     "metadata": {},
     "output_type": "execute_result"
    }
   ],
   "source": [
    "#trying simple merhods to test TextBlob\n",
    "from textblob import TextBlob\n",
    "df['Name_Length'] = df['Name'].apply(len)\n",
    "df['Name_Sentiment'] = df['Name'].apply(lambda x: TextBlob(x).sentiment.polarity)\n",
    "df\n"
   ]
  }
 ],
 "metadata": {
  "kernelspec": {
   "display_name": "Python 3 (ipykernel)",
   "language": "python",
   "name": "python3"
  },
  "language_info": {
   "codemirror_mode": {
    "name": "ipython",
    "version": 3
   },
   "file_extension": ".py",
   "mimetype": "text/x-python",
   "name": "python",
   "nbconvert_exporter": "python",
   "pygments_lexer": "ipython3",
   "version": "3.12.0"
  }
 },
 "nbformat": 4,
 "nbformat_minor": 5
}
